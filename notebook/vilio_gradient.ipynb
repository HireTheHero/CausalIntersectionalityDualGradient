{
  "cells": [
    {
      "cell_type": "markdown",
      "metadata": {
        "id": "5bOcf9SkeFqg"
      },
      "source": [
        "# villo application of attribute scoring\n",
        "- Environment: colab pro\n",
        "\n",
        "## Reference\n",
        "- [SCORE_REPRO.md](https://github.com/Muennighoff/vilio/blob/master/SCORE_REPRO.md)"
      ]
    },
    {
      "cell_type": "markdown",
      "metadata": {
        "id": "jdwFgxyQJlzw"
      },
      "source": [
        "## Prerequisite (Google Drive)\n",
        "- Add kaggle.json to MyDrive/vilio\n",
        "- Add hateful memes challenge data as MyDrive/vilio/hateful_memes.zip\n",
        "- Add confounders to MyDrive/annotation\n",
        "    - See `benign_confounder.ipynb` for annotation details"
      ]
    },
    {
      "cell_type": "markdown",
      "metadata": {
        "id": "ShyEPpDBKatk"
      },
      "source": [
        "## Protocol\n",
        "### Prerequisite\n",
        "- Dependent on which model to run, comment in/out codes in `init / data`, `additional installation`, `inference` subsections\n",
        "\n",
        "### inference-only\n",
        "- Run till `additional installation > check gpu version`\n",
        "  - Just `Run all` should be fine - will stop automatically\n",
        "- Run the rest\n",
        "  - Rerun it if stopped in `check gpu version`\n",
        "\n"
      ]
    },
    {
      "cell_type": "markdown",
      "metadata": {
        "id": "_kI7u7NXpSvr"
      },
      "source": [
        "## init"
      ]
    },
    {
      "cell_type": "code",
      "execution_count": null,
      "metadata": {
        "id": "sNa-ARKrqz8z"
      },
      "outputs": [],
      "source": [
        "import time\n",
        "t0 = time.time()"
      ]
    },
    {
      "cell_type": "code",
      "execution_count": null,
      "metadata": {
        "id": "W0sWyR174Fdr"
      },
      "outputs": [],
      "source": [
        "# mount\n",
        "from google.colab import drive\n",
        "drive.mount('/content/drive')"
      ]
    },
    {
      "cell_type": "code",
      "execution_count": null,
      "metadata": {
        "id": "U_LWdW8X4g0i"
      },
      "outputs": [],
      "source": [
        "model = \"V\"#[\"O\",\"U\",\"V\",\"E\"]"
      ]
    },
    {
      "cell_type": "code",
      "execution_count": null,
      "metadata": {
        "id": "KoCuI8VU4tU3"
      },
      "outputs": [],
      "source": [
        "if model in [\"O\",\"U\",\"V\"]:\n",
        "  data_path = \"/vilio/data/\"\n",
        "else:#E\n",
        "  data_path = \"/vilio/ernie-vil/data/hm/\""
      ]
    },
    {
      "cell_type": "markdown",
      "metadata": {
        "id": "2YnLnOH1elCt"
      },
      "source": [
        "### installation"
      ]
    },
    {
      "cell_type": "code",
      "execution_count": null,
      "metadata": {
        "id": "Dx4di3PDfgNt"
      },
      "outputs": [],
      "source": [
        "# vilio basics\n",
        "!cd ../; git clone -b master https://github.com/Muennighoff/vilio.git\n",
        "# !cd ../vilio/py-bottom-up-attention; pip install -r requirements.txt\n",
        "# !pip install 'git+https://github.com/cocodataset/cocoapi.git#subdirectory=PythonAPI'\n",
        "# !cd ../vilio/py-bottom-up-attention; python setup.py build develop"
      ]
    },
    {
      "cell_type": "code",
      "execution_count": null,
      "metadata": {
        "id": "acbj_r9Y8zXe"
      },
      "outputs": [],
      "source": [
        "# setup clone-anonymous-github\n",
        "!git clone https://github.com/fedebotu/clone-anonymous-github\n",
        "!cd clone-anonymous-github; pip install -r requirements.txt"
      ]
    },
    {
      "cell_type": "code",
      "execution_count": null,
      "metadata": {
        "id": "cUCuGL7z8zXe"
      },
      "outputs": [],
      "source": [
        "# main repo\n",
        "!cd clone-anonymous-github; python src/download.py \\\n",
        "    --url https://anonymous.4open.science/r/MemesModalityEvaluation-2540 \\\n",
        "    --save_dir /"
      ]
    },
    {
      "cell_type": "code",
      "execution_count": null,
      "metadata": {
        "id": "efgFDhZhGeLv"
      },
      "outputs": [],
      "source": [
        "# replace / add required files\n",
        "!cd /MemesModalityEvaluation-2540/shell; cp vilio_overwrite_scripts.sh /content\n",
        "!bash ./vilio_overwrite_scripts.sh\n",
        "!rm -r /MemesModalityEvaluation-2540"
      ]
    },
    {
      "cell_type": "code",
      "execution_count": null,
      "metadata": {
        "id": "Ky64_3BKvvOE"
      },
      "outputs": [],
      "source": [
        "# for lmdb feats\n",
        "!pip install -q kaggle"
      ]
    },
    {
      "cell_type": "code",
      "execution_count": null,
      "metadata": {
        "id": "udA-sVXpb-fa"
      },
      "outputs": [],
      "source": [
        "# added for eps\n",
        "!pip install kaleido\n",
        "!apt-get install poppler-utils"
      ]
    },
    {
      "cell_type": "markdown",
      "metadata": {
        "id": "dSD1dmb-wrZm"
      },
      "source": [
        "### kaggle setup\n",
        "- [reference](https://www.kaggle.com/general/74235)"
      ]
    },
    {
      "cell_type": "code",
      "execution_count": null,
      "metadata": {
        "id": "6hU-7KI8xGOD"
      },
      "outputs": [],
      "source": [
        "!mkdir ~/.kaggle\n",
        "!cp /content/drive/MyDrive/vilio/kaggle.json ~/.kaggle/\n",
        "!chmod 600 ~/.kaggle/kaggle.json\n",
        "!kaggle datasets list"
      ]
    },
    {
      "cell_type": "markdown",
      "metadata": {
        "id": "jKkm2Y_3paej"
      },
      "source": [
        "### data\n",
        "- [kaggle reference](https://qiita.com/k_ikasumipowder/items/1c20d8b68dbc94ab2633)"
      ]
    },
    {
      "cell_type": "code",
      "execution_count": null,
      "metadata": {
        "id": "tKm9WYYSLaU2"
      },
      "outputs": [],
      "source": [
        "%%capture\n",
        "# hateful memes from MyDrive\n",
        "!mkdir tmp_data\n",
        "!unzip /content/drive/MyDrive/vilio/hateful_memes.zip -d tmp_data\n"
      ]
    },
    {
      "cell_type": "code",
      "execution_count": null,
      "metadata": {
        "id": "vfGb-JV1k1Wr"
      },
      "outputs": [],
      "source": [
        "# hateful memes from MyDrive\n",
        "!cp -r tmp_data/hateful_memes/* $data_path"
      ]
    },
    {
      "cell_type": "code",
      "execution_count": null,
      "metadata": {
        "id": "MrHVgVeslGqa"
      },
      "outputs": [],
      "source": [
        "# kaggle lmdb\n",
        "!kaggle datasets download muennighoff/hmfeatureszipfin"
      ]
    },
    {
      "cell_type": "code",
      "execution_count": null,
      "metadata": {
        "id": "zDsYewpxxd5M"
      },
      "outputs": [],
      "source": [
        "# kaggle lmdb\n",
        "!unzip hmfeatureszipfin.zip -d $data_path"
      ]
    },
    {
      "cell_type": "code",
      "execution_count": null,
      "metadata": {
        "id": "arnpHVX0rKgO"
      },
      "outputs": [],
      "source": [
        "## delete original for memory saving\n",
        "!rm -r tmp_data"
      ]
    },
    {
      "cell_type": "code",
      "execution_count": null,
      "metadata": {
        "id": "k4ab12itlNPH"
      },
      "outputs": [],
      "source": [
        "# kaggle lmdb\n",
        "## delete original for memory saving\n",
        "!rm hmfeatureszipfin.zip"
      ]
    },
    {
      "cell_type": "code",
      "execution_count": null,
      "metadata": {
        "id": "eF2YlJFemEhX"
      },
      "outputs": [],
      "source": [
        "# confounders\n",
        "# !mkdir /vilio/data\n",
        "!cp /content/drive/MyDrive/annotation/confounders.parquet /vilio/data"
      ]
    },
    {
      "cell_type": "markdown",
      "metadata": {
        "id": "McA-qaw1tGHA"
      },
      "source": [
        "## additional installation"
      ]
    },
    {
      "cell_type": "markdown",
      "metadata": {
        "id": "k8-8EujhApBn"
      },
      "source": [
        "### for torch 1.6.0\n",
        "- [cuda 10.2](https://gist.github.com/tzvsi/222b3b22a847004a729744f89fe31255)\n",
        "- [python 3.6](https://stackoverflow.com/questions/66775948/downgrade-python-version-from-3-7-to-3-6-in-google-colab)"
      ]
    },
    {
      "cell_type": "markdown",
      "metadata": {
        "id": "owig-TwiURMP"
      },
      "source": [
        "#### python version"
      ]
    },
    {
      "cell_type": "code",
      "execution_count": null,
      "metadata": {
        "id": "gcbSa7s03BbQ"
      },
      "outputs": [],
      "source": [
        "%%bash\n",
        "\n",
        "# MINICONDA_INSTALLER_SCRIPT=Miniconda3-4.5.4-Linux-x86_64.sh\n",
        "MINICONDA_INSTALLER_SCRIPT=Miniconda3-py37_23.1.0-1-Linux-x86_64.sh\n",
        "MINICONDA_PREFIX=/usr/local\n",
        "wget https://repo.continuum.io/miniconda/$MINICONDA_INSTALLER_SCRIPT\n",
        "chmod +x $MINICONDA_INSTALLER_SCRIPT\n",
        "./$MINICONDA_INSTALLER_SCRIPT -b -f -p $MINICONDA_PREFIX"
      ]
    },
    {
      "cell_type": "code",
      "execution_count": null,
      "metadata": {
        "id": "si7FLE8h3HIn"
      },
      "outputs": [],
      "source": [
        "import sys\n",
        "# _ = (sys.path.append(\"/usr/local/lib/python3.6/site-packages\"))\n",
        "_ = (sys.path.append(\"/usr/local/lib/python3.7/site-packages\"))"
      ]
    },
    {
      "cell_type": "code",
      "execution_count": null,
      "metadata": {
        "id": "1-a9mFFA3Mrk"
      },
      "outputs": [],
      "source": [
        "!python --version\n",
        "!python3 --version"
      ]
    },
    {
      "cell_type": "markdown",
      "metadata": {
        "id": "dy07IYqTUYPm"
      },
      "source": [
        "#### cuda 10.2"
      ]
    },
    {
      "cell_type": "code",
      "execution_count": null,
      "metadata": {
        "id": "CJuf2gidt5E_"
      },
      "outputs": [],
      "source": [
        "!mkdir install ; cd install\n",
        "!wget https://developer.download.nvidia.com/compute/cuda/repos/ubuntu1804/x86_64/cuda-ubuntu1804.pin\n",
        "!mv cuda-ubuntu1804.pin /etc/apt/preferences.d/cuda-repository-pin-600\n",
        "!apt-key adv --fetch-keys https://developer.download.nvidia.com/compute/cuda/repos/ubuntu1804/x86_64/7fa2af80.pub\n",
        "!add-apt-repository \"deb http://developer.download.nvidia.com/compute/cuda/repos/ubuntu1804/x86_64/ /\"\n",
        "!apt-get update\n",
        "!apt-get -y install cuda-10-2"
      ]
    },
    {
      "cell_type": "code",
      "execution_count": null,
      "metadata": {
        "id": "ieZyq77fUiTS"
      },
      "outputs": [],
      "source": [
        "!ls -d /usr/local/cuda-*\n",
        "!which nvcc"
      ]
    },
    {
      "cell_type": "code",
      "execution_count": null,
      "metadata": {
        "id": "qKMYgYo_UwQu"
      },
      "outputs": [],
      "source": [
        "import os\n",
        "p = os.getenv('PATH')\n",
        "ld = os.getenv('LD_LIBRARY_PATH')\n",
        "os.environ['PATH'] = f\"/usr/local/cuda-10.2/bin:{p}\"\n",
        "os.environ['LD_LIBRARY_PATH'] = f\"/usr/local/cuda-10.2/lib64:{ld}\"\n",
        "!nvcc --version"
      ]
    },
    {
      "cell_type": "markdown",
      "metadata": {
        "id": "Z2ctLJNtVCJE"
      },
      "source": [
        "#### O/U/V"
      ]
    },
    {
      "cell_type": "code",
      "execution_count": null,
      "metadata": {
        "id": "KjmDgjkotIff"
      },
      "outputs": [],
      "source": [
        "%%writefile new_req.txt\n",
        "sacremoses==0.0.43\n",
        "pandas==1.1.3\n",
        "regex==2020.4.4\n",
        "h5py==2.10.0\n",
        "filelock==3.0.10\n",
        "scipy==1.4.1\n",
        "sentencepiece~=0.1.91\n",
        "matplotlib==3.2.1\n",
        "tensorflow==2.3.1\n",
        "tqdm==4.45.0\n",
        "numpy==1.18.1\n",
        "six==1.14.0\n",
        "packaging==20.1\n",
        "wandb==0.10.8\n",
        "psutil==5.7.0\n",
        "requests==2.23.0\n",
        "pytorch_lightning==1.0.4\n",
        "ImageHash==4.1.0\n",
        "tokenizers~=0.9.2\n",
        "transformers==3.5.1 # Required due to some imports in the files under src/vilio/transformers\n",
        "torchvision==0.7.0\n",
        "jieba==0.42.1\n",
        "botocore==1.19.8\n",
        "spacy==2.3.2\n",
        "boto3==1.16.8\n",
        "comet_ml==3.2.5\n",
        "dataclasses==0.6\n",
        "fairseq==0.9.0\n",
        "ftfy==5.8\n",
        "fugashi==1.0.5\n",
        "ipadic==1.0.0\n",
        "lmdb==1.0.0\n",
        "Pillow==8.0.1\n",
        "py3nvml==0.2.6\n",
        "pydantic==1.7.2\n",
        "pythainlp==2.2.4\n",
        "PyYAML==5.3.1\n",
        "scikit_learn==0.23.2\n",
        "tensorboardX==2.1\n",
        "timeout_decorator==0.4.1\n",
        "torchcontrib==0.0.2\n",
        "\n",
        "torch==1.6.0"
      ]
    },
    {
      "cell_type": "code",
      "execution_count": null,
      "metadata": {
        "id": "Cf7mG4MMtJ8-"
      },
      "outputs": [],
      "source": [
        "!pip install -r new_req.txt"
      ]
    },
    {
      "cell_type": "markdown",
      "metadata": {
        "id": "9LCkS1TFvsJT"
      },
      "source": [
        "### for this module"
      ]
    },
    {
      "cell_type": "code",
      "execution_count": null,
      "metadata": {
        "id": "UrISXIckXlPl"
      },
      "outputs": [],
      "source": [
        "%%writefile grad_req.txt\n",
        "einops==0.6.0\n",
        "dask==2022.2.0\n",
        "plotly==5.13.1\n",
        "pyarrow==11.0.0\n",
        "kaleido==0.2.1\n",
        "ipykernel==5.5.6\n",
        "cloudpickle==2.2.1\n",
        "IPython==7.34.0\n",
        "transformers==3.5.1\n",
        "imgkit==1.2.3"
      ]
    },
    {
      "cell_type": "code",
      "execution_count": null,
      "metadata": {
        "id": "W21050r1XoyQ"
      },
      "outputs": [],
      "source": [
        "!pip install --no-deps -r grad_req.txt"
      ]
    },
    {
      "cell_type": "code",
      "execution_count": null,
      "metadata": {
        "id": "ed1a4_XBDBwF"
      },
      "outputs": [],
      "source": [
        "!apt-get update && apt-get install -y wkhtmltopdf && apt-get clean"
      ]
    },
    {
      "cell_type": "markdown",
      "metadata": {
        "id": "C5EmyeCrm3PZ"
      },
      "source": [
        "## inference"
      ]
    },
    {
      "cell_type": "markdown",
      "metadata": {
        "id": "bm6JF8IQm9BQ"
      },
      "source": [
        "### download extracted features"
      ]
    },
    {
      "cell_type": "code",
      "execution_count": null,
      "metadata": {
        "id": "nvWu3nd33X0e"
      },
      "outputs": [],
      "source": [
        "model = \"O\"#[\"O\",\"U\",\"V\",\"E\"]"
      ]
    },
    {
      "cell_type": "code",
      "execution_count": null,
      "metadata": {
        "id": "1nq_Wpyj3J3n"
      },
      "outputs": [],
      "source": [
        "# redefine data_path for session restart\n",
        "if model in [\"O\",\"U\",\"V\"]:\n",
        "  data_path = \"/vilio/data/\"\n",
        "else:#E\n",
        "  data_path = \"/vilio/ernie-vil/data/hm/\""
      ]
    },
    {
      "cell_type": "code",
      "execution_count": null,
      "metadata": {
        "id": "y-NB2huLnXNa"
      },
      "outputs": [],
      "source": [
        "# tsv features\n",
        "!kaggle datasets download muennighoff/hmtsvfeats"
      ]
    },
    {
      "cell_type": "code",
      "execution_count": null,
      "metadata": {
        "id": "eTbcNWFRoIT9"
      },
      "outputs": [],
      "source": [
        "# tsv features\n",
        "!unzip hmtsvfeats.zip -d $data_path\n",
        "## delete original for memory saving\n",
        "!rm hmtsvfeats.zip"
      ]
    },
    {
      "cell_type": "code",
      "execution_count": null,
      "metadata": {
        "id": "euLiTBnh7gSV"
      },
      "outputs": [],
      "source": [
        "# check list of data\n",
        "!echo $data_path\n",
        "!echo =========================\n",
        "!cd ..$data_path; ls"
      ]
    },
    {
      "cell_type": "markdown",
      "metadata": {
        "id": "t10Vfz1oxwfE"
      },
      "source": [
        "### download pretrained/fine-tuned model"
      ]
    },
    {
      "cell_type": "code",
      "execution_count": null,
      "metadata": {
        "id": "sSq3SspQyFxj"
      },
      "outputs": [],
      "source": [
        "model_dir = \"/vilio/ckpt\"\n",
        "!mkdir $model_dir\n",
        "# # O\n",
        "# !mkdir $model_dir/vilioo36;mkdir $model_dir/vilioo50;mkdir $model_dir/vilioov50\n",
        "# !kaggle datasets download muennighoff/vilioo36\n",
        "# !unzip -j vilioo36.zip -d $model_dir/vilioo36\n",
        "# !rm vilioo36.zip\n",
        "# !kaggle datasets download muennighoff/vilioo50\n",
        "# !unzip -j vilioo50.zip -d $model_dir/vilioo50\n",
        "# !rm vilioo50.zip\n",
        "# !kaggle datasets download muennighoff/vilioov50\n",
        "# !unzip -j vilioov50.zip -d $model_dir/vilioov50\n",
        "# !rm vilioov50.zip\n",
        "# # U\n",
        "# !mkdir $model_dir/viliou36;mkdir $model_dir/viliou50;mkdir $model_dir/viliou72\n",
        "# !kaggle datasets download muennighoff/viliou36\n",
        "# !unzip -j viliou36.zip -d $model_dir/viliou36\n",
        "# !rm viliou36.zip\n",
        "# !kaggle datasets download muennighoff/viliou50\n",
        "# !unzip -j viliou50.zip -d $model_dir/viliou50\n",
        "# !rm viliou50.zip\n",
        "# !kaggle datasets download muennighoff/viliou72\n",
        "# !unzip -j viliou72.zip -d $model_dir/viliou72\n",
        "# !rm viliou72.zip\n",
        "# V\n",
        "!mkdir $model_dir/viliov45;mkdir $model_dir/viliov90;mkdir $model_dir/viliov135\n",
        "!kaggle datasets download muennighoff/viliov45\n",
        "!unzip -j viliov45.zip -d $model_dir/viliov45\n",
        "!rm viliov45.zip\n",
        "!kaggle datasets download muennighoff/viliov90\n",
        "!unzip -j viliov90.zip -d $model_dir/viliov90\n",
        "!rm viliov90.zip\n",
        "!kaggle datasets download muennighoff/viliov135\n",
        "!unzip -j viliov135.zip -d $model_dir/viliov135\n",
        "!rm viliov135.zip\n",
        "\n",
        "# ES\n",
        "# !kaggle datasets download muennighoff/vilioe36\n",
        "# !unzip -j vilioe36.zip vilioes/step_2500train/* -d $model_dir/step_2500train\n",
        "# !unzip -j vilioe36.zip vilioes/step_2500traindev/* -d $model_dir/step_2500traindev\n",
        "# !rm vilioe36.zip"
      ]
    },
    {
      "cell_type": "code",
      "execution_count": null,
      "metadata": {
        "id": "uW5tbJ1iXXqL"
      },
      "outputs": [],
      "source": [
        "!echo $model_dir\n",
        "!echo =========================\n",
        "!cd $model_dir;ls"
      ]
    },
    {
      "cell_type": "code",
      "execution_count": null,
      "metadata": {
        "id": "XKIbOYWQDOCG"
      },
      "outputs": [],
      "source": [
        "print(f\"Installation finished in {time.time()-t0} seconds\")"
      ]
    },
    {
      "cell_type": "code",
      "execution_count": null,
      "metadata": {
        "id": "dqy5mVDODTOY"
      },
      "outputs": [],
      "source": [
        "import os\n",
        "os.kill(os.getpid(), 9)"
      ]
    },
    {
      "cell_type": "markdown",
      "metadata": {
        "id": "VcVSDa8PCoht"
      },
      "source": [
        "### check [gpu version](https://blog.paperspace.com/alternative-to-google-colab-pro/)"
      ]
    },
    {
      "cell_type": "code",
      "execution_count": null,
      "metadata": {
        "id": "8UrZjEoyCqTC"
      },
      "outputs": [],
      "source": [
        "# https://stackoverflow.com/questions/64526139/how-does-one-get-the-model-of-the-gpu-in-python-and-save-it-as-a-string\n",
        "import subprocess\n",
        "import os\n",
        "def get_mdl():\n",
        "    line_as_bytes = subprocess.check_output(\"nvidia-smi -L\", shell=True)\n",
        "    line = line_as_bytes.decode(\"ascii\")\n",
        "    _, line = line.split(\":\", 1)\n",
        "    line, _ = line.split(\"(\")\n",
        "    return line.strip()"
      ]
    },
    {
      "cell_type": "code",
      "execution_count": null,
      "metadata": {
        "id": "af4MjQ49Ct3p"
      },
      "outputs": [],
      "source": [
        "import time\n",
        "gpu_type = get_mdl()\n",
        "if \"A100\" in gpu_type:\n",
        "  print(f\"{gpu_type} detected, killing runtime. Rerun this section from the beginning again\")\n",
        "  time.sleep(5)\n",
        "  os.kill(os.getpid(), 9)\n",
        "else:\n",
        "  print(f\"GPU {gpu_type}: proceeding to next section\")"
      ]
    },
    {
      "cell_type": "code",
      "execution_count": null,
      "metadata": {
        "id": "YXLdRokPC5uC"
      },
      "outputs": [],
      "source": [
        "!ls -d /usr/local/cuda-*\n",
        "!which nvcc"
      ]
    },
    {
      "cell_type": "code",
      "execution_count": null,
      "metadata": {
        "id": "f_S6mADdC99d"
      },
      "outputs": [],
      "source": [
        "p = os.getenv('PATH')\n",
        "ld = os.getenv('LD_LIBRARY_PATH')\n",
        "os.environ['PATH'] = f\"/usr/local/cuda-10.2/bin:{p}\"\n",
        "os.environ['LD_LIBRARY_PATH'] = f\"/usr/local/cuda-10.2/lib64:{ld}\"\n",
        "!nvcc --version"
      ]
    },
    {
      "cell_type": "markdown",
      "metadata": {
        "id": "NFH3uzRjnSS3"
      },
      "source": [
        "### inference"
      ]
    },
    {
      "cell_type": "code",
      "execution_count": null,
      "metadata": {
        "id": "PY2jjUMyntI6"
      },
      "outputs": [],
      "source": [
        "model_dir = \"/vilio/ckpt\""
      ]
    },
    {
      "cell_type": "code",
      "execution_count": null,
      "metadata": {
        "id": "oh-y0XEQ5pdG"
      },
      "outputs": [],
      "source": [
        "# !echo $model_dir\n",
        "# # # O\n",
        "# # !cd /vilio; bash ./bash/inference/O/hm_O.sh \\\n",
        "# #     $model_dir/vilioov50/LASTtrain.pth \\\n",
        "# #     $model_dir/vilioo50/LASTtrain.pth \\\n",
        "# #     $model_dir/vilioo36/LASTtrain.pth\n",
        "# # !cd /vilio; bash ./bash/inference/O/hm_O_correct_label.sh \\\n",
        "# #     $model_dir/vilioov50/LASTtrain.pth \\\n",
        "# #     $model_dir/vilioo50/LASTtrain.pth \\\n",
        "# #     $model_dir/vilioo36/LASTtrain.pth\n",
        "# # !cd /vilio/bash; bash ./micace_evaluator.sh \\\n",
        "# #     /content/drive/MyDrive/vilio/export/O O\n",
        "# # !cd /vilio/bash; bash ./micace_evaluator.sh \\\n",
        "# #     /content/drive/MyDrive/vilio/export/correct_label/O O\n",
        "# # # U\n",
        "# # !cd /vilio; bash ./bash/inference/U/hm_U.sh \\\n",
        "# #     $model_dir/viliou72/LASTtrain.pth \\\n",
        "# #     $model_dir/viliou50/LASTtrain.pth \\\n",
        "# #     $model_dir/viliou36/LASTtrain.pth\n",
        "# # !cd /vilio; bash ./bash/inference/U/hm_U_correct_label.sh \\\n",
        "# #     $model_dir/viliou72/LASTtrain.pth \\\n",
        "# #     $model_dir/viliou50/LASTtrain.pth \\\n",
        "# #     $model_dir/viliou36/LASTtrain.pth\n",
        "# # !cd /vilio/bash; bash ./micace_evaluator.sh \\\n",
        "# #     /content/drive/MyDrive/vilio/export/U U\n",
        "# # !cd /vilio/bash; bash ./micace_evaluator.sh \\\n",
        "# #     /content/drive/MyDrive/vilio/export/correct_label/U U\n",
        "# V\n",
        "!cd /vilio; bash ./bash/inference/V/hm_V.sh \\\n",
        "    $model_dir/viliov45/LASTtrain.pth \\\n",
        "    $model_dir/viliov90/LASTtrain.pth \\\n",
        "    $model_dir/viliov135/LASTtrain.pth\n",
        "!cd /vilio; bash ./bash/inference/V/hm_V_correct_label.sh \\\n",
        "    $model_dir/viliov45/LASTtrain.pth \\\n",
        "    $model_dir/viliov90/LASTtrain.pth \\\n",
        "    $model_dir/viliov135/LASTtrain.pth\n",
        "# # !cd /vilio/bash; bash ./micace_evaluator.sh \\\n",
        "# #     /content/drive/MyDrive/vilio/export/V V\n",
        "# # !cd /vilio/bash; bash ./micace_evaluator.sh \\\n",
        "# #     /content/drive/MyDrive/vilio/export/correct_label/V V\n",
        "# # ES\n",
        "# # !cd /vilio/ernie-vil; bash ./bash/inference/ES/hm_ES36.sh \\\n",
        "# #                             /vilio/ckpt/step_2500train \\\n",
        "# #                             /vilio/ckpt/step_2500traindev\n",
        "# # !cd /vilio/bash; bash ./micace_evaluator.sh \\\n",
        "# #     /content/drive/MyDrive/vilio/export/ES ES"
      ]
    },
    {
      "cell_type": "markdown",
      "metadata": {
        "id": "1tBUcdb9j4nJ"
      },
      "source": [
        "# EOS"
      ]
    }
  ],
  "metadata": {
    "accelerator": "GPU",
    "colab": {
      "collapsed_sections": [
        "dSD1dmb-wrZm"
      ],
      "machine_shape": "hm",
      "provenance": [],
      "toc_visible": true
    },
    "gpuClass": "standard",
    "kernelspec": {
      "display_name": "Python 3",
      "name": "python3"
    },
    "language_info": {
      "name": "python"
    }
  },
  "nbformat": 4,
  "nbformat_minor": 0
}