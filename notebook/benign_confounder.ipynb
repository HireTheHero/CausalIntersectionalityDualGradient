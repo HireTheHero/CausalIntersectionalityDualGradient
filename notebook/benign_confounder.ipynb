{
  "nbformat": 4,
  "nbformat_minor": 0,
  "metadata": {
    "colab": {
      "provenance": [],
      "collapsed_sections": [],
      "toc_visible": true
    },
    "kernelspec": {
      "name": "python3",
      "display_name": "Python 3"
    },
    "language_info": {
      "name": "python"
    }
  },
  "cells": [
    {
      "cell_type": "markdown",
      "source": [
        "# benign confounders labeling for hateful memes"
      ],
      "metadata": {
        "id": "CgHePnxxf71j"
      }
    },
    {
      "cell_type": "markdown",
      "source": [
        "## init"
      ],
      "metadata": {
        "id": "J_LoTco3gA2h"
      }
    },
    {
      "cell_type": "code",
      "execution_count": null,
      "metadata": {
        "colab": {
          "base_uri": "https://localhost:8080/"
        },
        "id": "USd975QgMl7s",
        "outputId": "96d2998c-55f6-441b-9bfd-2150617b1d0b"
      },
      "outputs": [
        {
          "output_type": "stream",
          "name": "stdout",
          "text": [
            "Mounted at /content/drive\n"
          ]
        }
      ],
      "source": [
        "# mount\n",
        "from google.colab import drive\n",
        "drive.mount('/content/drive')"
      ]
    },
    {
      "cell_type": "code",
      "source": [
        "%%capture\n",
        "# hateful memes from MyDrive\n",
        "!mkdir data\n",
        "!unzip /content/drive/MyDrive/vilio/hateful_memes.zip -d data"
      ],
      "metadata": {
        "id": "gW32xaw5hXqC"
      },
      "execution_count": null,
      "outputs": []
    },
    {
      "cell_type": "code",
      "source": [
        "!git clone https://github.com/Noixas/Multimodal-NLP\n",
        "!mkdir data/confounder\n",
        "!cp Multimodal-NLP/dataset/upsampling_img_hash/image_confounders_id.json data/confounder\n",
        "!cp Multimodal-NLP/dataset/upsampling_img_hash/image_confounders_id_dev_data.json data/confounder"
      ],
      "metadata": {
        "id": "mMICt9L9Pf7m",
        "colab": {
          "base_uri": "https://localhost:8080/"
        },
        "outputId": "ecac1077-9c73-46f6-9999-e28e5c5ee12f"
      },
      "execution_count": null,
      "outputs": [
        {
          "output_type": "stream",
          "name": "stdout",
          "text": [
            "Cloning into 'Multimodal-NLP'...\n",
            "remote: Enumerating objects: 1799, done.\u001b[K\n",
            "remote: Counting objects: 100% (5/5), done.\u001b[K\n",
            "remote: Compressing objects: 100% (4/4), done.\u001b[K\n",
            "remote: Total 1799 (delta 1), reused 5 (delta 1), pack-reused 1794\u001b[K\n",
            "Receiving objects: 100% (1799/1799), 188.67 MiB | 26.45 MiB/s, done.\n",
            "Resolving deltas: 100% (942/942), done.\n",
            "Checking out files: 100% (5687/5687), done.\n"
          ]
        }
      ]
    },
    {
      "cell_type": "code",
      "source": [
        "# modules\n",
        "import glob\n",
        "from itertools import chain\n",
        "import json\n",
        "import os\n",
        "import signal\n",
        "import sys\n",
        "import time\n",
        "from typing import Dict, List, Union\n",
        "import warnings\n",
        "\n",
        "import cv2\n",
        "import dask.dataframe as dd\n",
        "from dask.delayed import delayed\n",
        "from IPython.display import clear_output\n",
        "import matplotlib.pyplot as plt\n",
        "# from matplotlib import image\n",
        "import numpy as np\n",
        "import pandas as pd\n",
        "import pickle\n",
        "import plotly.graph_objects as go\n",
        "# from scipy.spatial import distance\n",
        "from tqdm import tqdm, trange\n",
        "\n",
        "%matplotlib inline\n",
        "plt.style.use('dark_background')\n",
        "warnings.simplefilter('ignore')"
      ],
      "metadata": {
        "id": "IhCAlx9xuIP0"
      },
      "execution_count": null,
      "outputs": []
    },
    {
      "cell_type": "code",
      "source": [
        "# variables\n",
        "data_root = \"/content/data/hateful_memes\"\n",
        "img_path = \"img\"\n",
        "jsons = []\n",
        "txt_col, img_col, label_col = \"text\", \"img\", \"label\"\n",
        "txt_cf_col, img_cf_col = \"is_txt_confounder\", \"is_img_confounder\"\n",
        "txt_id_col, img_id_col = \"txt_org_id\", \"img_org_id\"\n",
        "export_path = \"/content/data/confounder\""
      ],
      "metadata": {
        "id": "sRJot8mEt95Q"
      },
      "execution_count": null,
      "outputs": []
    },
    {
      "cell_type": "markdown",
      "source": [
        "## preprocessing"
      ],
      "metadata": {
        "id": "_XWDFR1SvZ4d"
      }
    },
    {
      "cell_type": "markdown",
      "source": [
        "### jsonl"
      ],
      "metadata": {
        "id": "oahen-xIvb_i"
      }
    },
    {
      "cell_type": "code",
      "source": [
        "def read_jsonls(path: str):\n",
        "    \"\"\"\n",
        "    Read all jsonl files\n",
        "    \"\"\"\n",
        "\n",
        "    def _read_jsonl(filename: str, usecols:List[str]=['id', 'img', label_col, 'text', \"split\"]):\n",
        "        \"\"\"\n",
        "        Read one jsonl file w/ idenfitier\n",
        "        \"\"\"\n",
        "        df = pd.read_json(filename, orient='records', lines=True)\n",
        "        df[\"split\"] = filename.split(\"/\")[-1].split(\".jsonl\")[0]\n",
        "        if label_col not in df.columns:\n",
        "            df[label_col] = -1\n",
        "        return df[usecols]\n",
        "\n",
        "    jsons = glob.glob(f\"{path}/*.jsonl\")\n",
        "    dd_list = [delayed(_read_jsonl)(json) for json in jsons]\n",
        "    df = dd.from_delayed(dd_list).compute()\n",
        "    return df"
      ],
      "metadata": {
        "id": "URTosmwUvdvJ"
      },
      "execution_count": null,
      "outputs": []
    },
    {
      "cell_type": "code",
      "source": [
        "df = read_jsonls(data_root)\n",
        "df.head()"
      ],
      "metadata": {
        "colab": {
          "base_uri": "https://localhost:8080/",
          "height": 250
        },
        "id": "y9qzg63QxObv",
        "outputId": "43255596-345a-40fd-85f6-c271d1adfc09"
      },
      "execution_count": null,
      "outputs": [
        {
          "output_type": "execute_result",
          "data": {
            "text/plain": [
              "      id            img  label  \\\n",
              "0  42953  img/42953.png      0   \n",
              "1  23058  img/23058.png      0   \n",
              "2  13894  img/13894.png      0   \n",
              "3  37408  img/37408.png      0   \n",
              "4  82403  img/82403.png      0   \n",
              "\n",
              "                                                text  split  \n",
              "0   its their character not their color that matters  train  \n",
              "1  don't be afraid to love again everyone is not ...  train  \n",
              "2                           putting bows on your pet  train  \n",
              "3  i love everything and everybody! except for sq...  train  \n",
              "4  everybody loves chocolate chip cookies, even h...  train  "
            ],
            "text/html": [
              "\n",
              "  <div id=\"df-f58d0789-2b2d-49be-b206-abcf7407769e\">\n",
              "    <div class=\"colab-df-container\">\n",
              "      <div>\n",
              "<style scoped>\n",
              "    .dataframe tbody tr th:only-of-type {\n",
              "        vertical-align: middle;\n",
              "    }\n",
              "\n",
              "    .dataframe tbody tr th {\n",
              "        vertical-align: top;\n",
              "    }\n",
              "\n",
              "    .dataframe thead th {\n",
              "        text-align: right;\n",
              "    }\n",
              "</style>\n",
              "<table border=\"1\" class=\"dataframe\">\n",
              "  <thead>\n",
              "    <tr style=\"text-align: right;\">\n",
              "      <th></th>\n",
              "      <th>id</th>\n",
              "      <th>img</th>\n",
              "      <th>label</th>\n",
              "      <th>text</th>\n",
              "      <th>split</th>\n",
              "    </tr>\n",
              "  </thead>\n",
              "  <tbody>\n",
              "    <tr>\n",
              "      <th>0</th>\n",
              "      <td>42953</td>\n",
              "      <td>img/42953.png</td>\n",
              "      <td>0</td>\n",
              "      <td>its their character not their color that matters</td>\n",
              "      <td>train</td>\n",
              "    </tr>\n",
              "    <tr>\n",
              "      <th>1</th>\n",
              "      <td>23058</td>\n",
              "      <td>img/23058.png</td>\n",
              "      <td>0</td>\n",
              "      <td>don't be afraid to love again everyone is not ...</td>\n",
              "      <td>train</td>\n",
              "    </tr>\n",
              "    <tr>\n",
              "      <th>2</th>\n",
              "      <td>13894</td>\n",
              "      <td>img/13894.png</td>\n",
              "      <td>0</td>\n",
              "      <td>putting bows on your pet</td>\n",
              "      <td>train</td>\n",
              "    </tr>\n",
              "    <tr>\n",
              "      <th>3</th>\n",
              "      <td>37408</td>\n",
              "      <td>img/37408.png</td>\n",
              "      <td>0</td>\n",
              "      <td>i love everything and everybody! except for sq...</td>\n",
              "      <td>train</td>\n",
              "    </tr>\n",
              "    <tr>\n",
              "      <th>4</th>\n",
              "      <td>82403</td>\n",
              "      <td>img/82403.png</td>\n",
              "      <td>0</td>\n",
              "      <td>everybody loves chocolate chip cookies, even h...</td>\n",
              "      <td>train</td>\n",
              "    </tr>\n",
              "  </tbody>\n",
              "</table>\n",
              "</div>\n",
              "      <button class=\"colab-df-convert\" onclick=\"convertToInteractive('df-f58d0789-2b2d-49be-b206-abcf7407769e')\"\n",
              "              title=\"Convert this dataframe to an interactive table.\"\n",
              "              style=\"display:none;\">\n",
              "        \n",
              "  <svg xmlns=\"http://www.w3.org/2000/svg\" height=\"24px\"viewBox=\"0 0 24 24\"\n",
              "       width=\"24px\">\n",
              "    <path d=\"M0 0h24v24H0V0z\" fill=\"none\"/>\n",
              "    <path d=\"M18.56 5.44l.94 2.06.94-2.06 2.06-.94-2.06-.94-.94-2.06-.94 2.06-2.06.94zm-11 1L8.5 8.5l.94-2.06 2.06-.94-2.06-.94L8.5 2.5l-.94 2.06-2.06.94zm10 10l.94 2.06.94-2.06 2.06-.94-2.06-.94-.94-2.06-.94 2.06-2.06.94z\"/><path d=\"M17.41 7.96l-1.37-1.37c-.4-.4-.92-.59-1.43-.59-.52 0-1.04.2-1.43.59L10.3 9.45l-7.72 7.72c-.78.78-.78 2.05 0 2.83L4 21.41c.39.39.9.59 1.41.59.51 0 1.02-.2 1.41-.59l7.78-7.78 2.81-2.81c.8-.78.8-2.07 0-2.86zM5.41 20L4 18.59l7.72-7.72 1.47 1.35L5.41 20z\"/>\n",
              "  </svg>\n",
              "      </button>\n",
              "      \n",
              "  <style>\n",
              "    .colab-df-container {\n",
              "      display:flex;\n",
              "      flex-wrap:wrap;\n",
              "      gap: 12px;\n",
              "    }\n",
              "\n",
              "    .colab-df-convert {\n",
              "      background-color: #E8F0FE;\n",
              "      border: none;\n",
              "      border-radius: 50%;\n",
              "      cursor: pointer;\n",
              "      display: none;\n",
              "      fill: #1967D2;\n",
              "      height: 32px;\n",
              "      padding: 0 0 0 0;\n",
              "      width: 32px;\n",
              "    }\n",
              "\n",
              "    .colab-df-convert:hover {\n",
              "      background-color: #E2EBFA;\n",
              "      box-shadow: 0px 1px 2px rgba(60, 64, 67, 0.3), 0px 1px 3px 1px rgba(60, 64, 67, 0.15);\n",
              "      fill: #174EA6;\n",
              "    }\n",
              "\n",
              "    [theme=dark] .colab-df-convert {\n",
              "      background-color: #3B4455;\n",
              "      fill: #D2E3FC;\n",
              "    }\n",
              "\n",
              "    [theme=dark] .colab-df-convert:hover {\n",
              "      background-color: #434B5C;\n",
              "      box-shadow: 0px 1px 3px 1px rgba(0, 0, 0, 0.15);\n",
              "      filter: drop-shadow(0px 1px 2px rgba(0, 0, 0, 0.3));\n",
              "      fill: #FFFFFF;\n",
              "    }\n",
              "  </style>\n",
              "\n",
              "      <script>\n",
              "        const buttonEl =\n",
              "          document.querySelector('#df-f58d0789-2b2d-49be-b206-abcf7407769e button.colab-df-convert');\n",
              "        buttonEl.style.display =\n",
              "          google.colab.kernel.accessAllowed ? 'block' : 'none';\n",
              "\n",
              "        async function convertToInteractive(key) {\n",
              "          const element = document.querySelector('#df-f58d0789-2b2d-49be-b206-abcf7407769e');\n",
              "          const dataTable =\n",
              "            await google.colab.kernel.invokeFunction('convertToInteractive',\n",
              "                                                     [key], {});\n",
              "          if (!dataTable) return;\n",
              "\n",
              "          const docLinkHtml = 'Like what you see? Visit the ' +\n",
              "            '<a target=\"_blank\" href=https://colab.research.google.com/notebooks/data_table.ipynb>data table notebook</a>'\n",
              "            + ' to learn more about interactive tables.';\n",
              "          element.innerHTML = '';\n",
              "          dataTable['output_type'] = 'display_data';\n",
              "          await google.colab.output.renderOutput(dataTable, element);\n",
              "          const docLink = document.createElement('div');\n",
              "          docLink.innerHTML = docLinkHtml;\n",
              "          element.appendChild(docLink);\n",
              "        }\n",
              "      </script>\n",
              "    </div>\n",
              "  </div>\n",
              "  "
            ]
          },
          "metadata": {},
          "execution_count": 7
        }
      ]
    },
    {
      "cell_type": "code",
      "source": [
        "# for compatibility with image filename\n",
        "df[\"id\"] = df[\"id\"].astype('str').str.zfill(5)"
      ],
      "metadata": {
        "id": "H19mY46hayQh"
      },
      "execution_count": null,
      "outputs": []
    },
    {
      "cell_type": "markdown",
      "source": [
        "## detecting benign confounder"
      ],
      "metadata": {
        "id": "7lCmadYXhrC9"
      }
    },
    {
      "cell_type": "markdown",
      "source": [
        "### same-text-diff-image"
      ],
      "metadata": {
        "id": "s4FOGLWMh1ju"
      }
    },
    {
      "cell_type": "code",
      "source": [
        "# flag duplicates\n",
        "df_cnt = df[txt_col].value_counts().reset_index()\n",
        "df_cnt.columns = [txt_col, \"cnt\"]\n",
        "txt_dup = df_cnt.loc[df_cnt[\"cnt\"]>=2, txt_col].tolist()\n",
        "df[txt_cf_col] = 0\n",
        "df.loc[df[txt_col].isin(txt_dup), txt_cf_col] = 1\n",
        "df[txt_cf_col].value_counts()"
      ],
      "metadata": {
        "id": "bPwPhgvAhox3",
        "colab": {
          "base_uri": "https://localhost:8080/"
        },
        "outputId": "0e3628aa-c458-4962-89d3-d6c579b8c195"
      },
      "execution_count": null,
      "outputs": [
        {
          "output_type": "execute_result",
          "data": {
            "text/plain": [
              "0    6938\n",
              "1    5602\n",
              "Name: is_txt_confounder, dtype: int64"
            ]
          },
          "metadata": {},
          "execution_count": 9
        }
      ]
    },
    {
      "cell_type": "markdown",
      "source": [
        "### same-image-diff-text"
      ],
      "metadata": {
        "id": "S3_n9HlWh4Lr"
      }
    },
    {
      "cell_type": "code",
      "source": [
        "# load duplicates\n",
        "with open(os.path.join(export_path, \"image_confounders_id.json\"), \"r\") as f:\n",
        "    img_dup = json.load(f)\n",
        "with open(os.path.join(export_path, \"image_confounders_id_dev_data.json\"), \"r\") as f:\n",
        "    img_dup_dev = json.load(f)"
      ],
      "metadata": {
        "id": "-_IB3iLTTAnP"
      },
      "execution_count": null,
      "outputs": []
    },
    {
      "cell_type": "code",
      "source": [
        "# make it compatible with filename\n",
        "img_dup = [str(img).zfill(5) for img in img_dup]\n",
        "img_dup_dev = [str(img).zfill(5) for img in img_dup_dev]\n",
        "img_dup_all = img_dup+img_dup_dev"
      ],
      "metadata": {
        "id": "mWz4LxStTnL0"
      },
      "execution_count": null,
      "outputs": []
    },
    {
      "cell_type": "code",
      "source": [
        "# check duplicates\n",
        "_idx, _idx2 = 1, 2\n",
        "\n",
        "plt.figure()\n",
        "\n",
        "#subplot(r,c) provide the no. of rows and columns\n",
        "f, axarr = plt.subplots(1,2,figsize=(12,16)) \n",
        "for i,idx in enumerate([_idx,_idx2]):\n",
        "    # use the created array to output your multiple images.\n",
        "    img_id = img_dup[idx]\n",
        "    img_path = f\"img/{img_id}.png\"\n",
        "    label = df.loc[df[\"id\"]==img_id, label_col].values[0]\n",
        "    img = cv2.imread(os.path.join(data_root, img_path), cv2.IMREAD_GRAYSCALE)\n",
        "    axarr[i].set_title(f\"id={img_id}, label={label}\")\n",
        "    axarr[i].imshow(img, cmap=\"gray\")"
      ],
      "metadata": {
        "colab": {
          "base_uri": "https://localhost:8080/",
          "height": 284
        },
        "id": "zpzMVtBOh48X",
        "outputId": "f332dde4-255f-41b7-e55a-f6ccafb907fc"
      },
      "execution_count": null,
      "outputs": [
        {
          "output_type": "display_data",
          "data": {
            "text/plain": [
              "<Figure size 432x288 with 0 Axes>"
            ]
          },
          "metadata": {}
        },
        {
          "output_type": "display_data",
          "data": {
            "text/plain": [
              "<Figure size 864x1152 with 2 Axes>"
            ],
            "image/png": "[encoded data removed]"
          },
          "metadata": {}
        }
      ]
    },
    {
      "cell_type": "code",
      "source": [
        "# flag duplicates\n",
        "df[img_cf_col] = 0\n",
        "df.loc[df[\"id\"].isin(img_dup_all), img_cf_col] = 1\n",
        "df[img_cf_col].value_counts()"
      ],
      "metadata": {
        "colab": {
          "base_uri": "https://localhost:8080/"
        },
        "id": "a1tkceN4SIOd",
        "outputId": "0f3e819f-5fbe-4ce0-9246-61c691f21d91"
      },
      "execution_count": null,
      "outputs": [
        {
          "output_type": "execute_result",
          "data": {
            "text/plain": [
              "0    9970\n",
              "1    2570\n",
              "Name: is_img_confounder, dtype: int64"
            ]
          },
          "metadata": {},
          "execution_count": 12
        }
      ]
    },
    {
      "cell_type": "markdown",
      "source": [
        "### explore confounder"
      ],
      "metadata": {
        "id": "YsqZ1VGkUK-o"
      }
    },
    {
      "cell_type": "code",
      "source": [
        "# text*image confounder cross aggregates\n",
        "df.groupby([txt_cf_col, img_cf_col])[\"id\"].nunique()"
      ],
      "metadata": {
        "colab": {
          "base_uri": "https://localhost:8080/"
        },
        "id": "wzkiexQrUS4x",
        "outputId": "0b58cbd1-3308-46c8-a640-09b4173f9d76"
      },
      "execution_count": null,
      "outputs": [
        {
          "output_type": "execute_result",
          "data": {
            "text/plain": [
              "is_txt_confounder  is_img_confounder\n",
              "0                  0                    5481\n",
              "                   1                    1457\n",
              "1                  0                    4266\n",
              "                   1                     936\n",
              "Name: id, dtype: int64"
            ]
          },
          "metadata": {},
          "execution_count": 35
        }
      ]
    },
    {
      "cell_type": "code",
      "source": [
        "'''\n",
        "0-1, 1-0 should be image / text confounder, respectively\n",
        "1-1 should be original (hateful?) image\n",
        "'''"
      ],
      "metadata": {
        "id": "6QGNbOZQUnhP"
      },
      "execution_count": null,
      "outputs": []
    },
    {
      "cell_type": "code",
      "source": [
        "# text*image confounder cross aggregates\n",
        "df.groupby([label_col, txt_cf_col, img_cf_col])[\"id\"].nunique()"
      ],
      "metadata": {
        "colab": {
          "base_uri": "https://localhost:8080/"
        },
        "id": "dVKwLDBAKKSf",
        "outputId": "139f028f-06c8-4564-c05a-4174c3863627"
      },
      "execution_count": null,
      "outputs": [
        {
          "output_type": "execute_result",
          "data": {
            "text/plain": [
              "label  is_txt_confounder  is_img_confounder\n",
              "-1     0                  0                     988\n",
              "       1                  0                    2012\n",
              " 0     0                  0                    3044\n",
              "                          1                    1022\n",
              "       1                  0                    1635\n",
              "                          1                     173\n",
              " 1     0                  0                    1449\n",
              "                          1                     435\n",
              "       1                  0                     619\n",
              "                          1                     763\n",
              "Name: id, dtype: int64"
            ]
          },
          "metadata": {},
          "execution_count": 37
        }
      ]
    },
    {
      "cell_type": "code",
      "source": [
        "'''\n",
        "text hateful: 1-1-[0,1]\n",
        "text benign: 1-0-[0,1]\n",
        "image hateful: 1-[0,1]-1\n",
        "image benign: 0-[0,1]-1\n",
        "-> once group of confounders is identified, can compare within group\n",
        "'''"
      ],
      "metadata": {
        "id": "VKLFZgOjKnwS"
      },
      "execution_count": null,
      "outputs": []
    },
    {
      "cell_type": "markdown",
      "source": [
        "## grouping benign confounder"
      ],
      "metadata": {
        "id": "LHlH2F-aN3vW"
      }
    },
    {
      "cell_type": "markdown",
      "source": [
        "### text"
      ],
      "metadata": {
        "id": "i7wKbfRgN-XM"
      }
    },
    {
      "cell_type": "code",
      "source": [
        "# select perfect duplicate\n",
        "def duplicates_flagger(data:pd.DataFrame, data2:pd.DataFrame, mod_col:str=txt_col, label_col:str=label_col):\n",
        "    def duplicate_flagger(ip1:Dict[str, Union[str, int]], ip2:Dict[str, Union[str, int]], mode:str=\"perfect\"):\n",
        "        \"\"\"\n",
        "        Compare txt/txt or img/img to check duplicate\n",
        "        \"\"\"\n",
        "        if mode==\"perfect\":\n",
        "            if ip1[\"data\"]==ip2[\"data\"]:\n",
        "                out = ip2[\"id\"]\n",
        "            else:\n",
        "                out = \"Not hit\"\n",
        "        return out\n",
        "    \"\"\"\n",
        "    Flagging duplicates out of single modality\n",
        "    \"\"\"\n",
        "    if mod_col==\"text\":\n",
        "        data_ip = data.copy()\n",
        "        data_ip2 = data2[data2[label_col]==1].drop_duplicates(subset=mod_col)\n",
        "    else:\n",
        "        data_ip = data.copy()\n",
        "    dup_ids = []\n",
        "    for i, ip in tqdm(zip(data_ip[\"id\"], data_ip[mod_col])):\n",
        "        data_dict = {\"id\": i, \"data\": ip}\n",
        "        cnt = 0\n",
        "        for i2, ip2 in zip(data_ip2[\"id\"], data_ip2[mod_col]):\n",
        "            data_dict2 = {\"id\": i2, \"data\": ip2}\n",
        "            dup_id = duplicate_flagger(data_dict, data_dict2)\n",
        "            if dup_id!=\"Not hit\":\n",
        "                dup_ids.append(dup_id)\n",
        "                break\n",
        "            else:\n",
        "                cnt += 1\n",
        "                if cnt==len(data_ip2):\n",
        "                    dup_ids.append(dup_id)\n",
        "                else:\n",
        "                    pass\n",
        "    return dup_ids"
      ],
      "metadata": {
        "id": "XJfD16VTOCJ6"
      },
      "execution_count": null,
      "outputs": []
    },
    {
      "cell_type": "code",
      "source": [
        "# df_txt_cf = df[df[txt_cf_col]==1].copy()\n",
        "df_txt_cf = df[df[txt_cf_col]==1].sort_values(by=txt_col)\n",
        "df_txt_cf[txt_id_col] = duplicates_flagger(df_txt_cf, df_txt_cf)"
      ],
      "metadata": {
        "colab": {
          "base_uri": "https://localhost:8080/"
        },
        "id": "mNCM9Vkoweza",
        "outputId": "e8ae4820-36ca-4981-c2f9-88015607b352"
      },
      "execution_count": null,
      "outputs": [
        {
          "output_type": "stream",
          "name": "stderr",
          "text": [
            "5602it [00:09, 563.68it/s]\n"
          ]
        }
      ]
    },
    {
      "cell_type": "code",
      "source": [
        "df_txt_cf[txt_id_col].value_counts().head()"
      ],
      "metadata": {
        "colab": {
          "base_uri": "https://localhost:8080/"
        },
        "id": "9Nk-xL9YZA0i",
        "outputId": "52d5b325-7b34-492b-9809-e669b49e95d7"
      },
      "execution_count": null,
      "outputs": [
        {
          "output_type": "execute_result",
          "data": {
            "text/plain": [
              "Not hit    2936\n",
              "75231        19\n",
              "28957        15\n",
              "57982        15\n",
              "16734        14\n",
              "Name: txt_org_id, dtype: int64"
            ]
          },
          "metadata": {},
          "execution_count": 18
        }
      ]
    },
    {
      "cell_type": "code",
      "source": [
        "fig = go.Figure()\n",
        "df_plot = df_txt_cf[df_txt_cf[txt_id_col]!=\"Not hit\"]\n",
        "df_cnt = df_plot.loc[df_plot[txt_id_col]!=\"Not hit\", txt_id_col].value_counts().reset_index()\n",
        "fig.add_trace(go.Histogram(x=df_cnt[txt_id_col], name=f\"id count\", histnorm='probability', bingroup=1))\n",
        "fig.show()"
      ],
      "metadata": {
        "colab": {
          "base_uri": "https://localhost:8080/",
          "height": 542
        },
        "id": "oHXfR4OTzlaG",
        "outputId": "6fcc7dbd-5364-40ad-fd21-98c7b911201b"
      },
      "execution_count": null,
      "outputs": [
        {
          "output_type": "display_data",
          "data": {
            "text/html": [
              "<html>\n",
              "<head><meta charset=\"utf-8\" /></head>\n",
              "<body>\n",
              "    <div>            <script src=\"https://cdnjs.cloudflare.com/ajax/libs/mathjax/2.7.5/MathJax.js?config=TeX-AMS-MML_SVG\"></script><script type=\"text/javascript\">if (window.MathJax) {MathJax.Hub.Config({SVG: {font: \"STIX-Web\"}});}</script>                <script type=\"text/javascript\">window.PlotlyConfig = {MathJaxConfig: 'local'};</script>\n",
              "        <script src=\"https://cdn.plot.ly/plotly-2.8.3.min.js\"></script>                <div id=\"f104ece1-640d-4bb4-8ceb-74e57f4a4878\" class=\"plotly-graph-div\" style=\"height:525px; width:100%;\"></div>            <script type=\"text/javascript\">                                    window.PLOTLYENV=window.PLOTLYENV || {};                                    if (document.getElementById(\"f104ece1-640d-4bb4-8ceb-74e57f4a4878\")) {                    Plotly.newPlot(                        \"f104ece1-640d-4bb4-8ceb-74e57f4a4878\",                        [{\"bingroup\":\"1\",\"histnorm\":\"probability\",\"name\":\"id count\",\"x\":[19,15,15,14,12,12,11,11,11,10,10,10,10,10,9,8,8,7,7,7,7,7,7,7,7,7,6,6,6,6,6,6,6,6,6,6,6,6,6,6,6,6,5,5,5,5,5,5,5,5,5,5,5,4,4,4,4,4,4,4,4,4,4,4,4,4,4,4,4,4,4,4,4,4,4,4,4,4,4,4,4,4,4,4,4,4,4,4,4,4,4,4,4,4,4,4,4,4,4,4,4,4,4,4,4,4,4,4,4,4,4,4,4,4,4,4,4,4,4,4,4,4,4,4,4,4,4,4,4,4,4,4,4,4,4,4,4,4,4,4,4,4,4,4,4,4,4,4,4,4,4,4,4,4,4,4,4,4,3,3,3,3,3,3,3,3,3,3,3,3,3,3,3,3,3,3,3,3,3,3,3,3,3,3,3,3,3,3,3,3,3,3,3,3,3,3,3,3,3,3,3,3,3,3,3,3,3,3,3,3,3,3,3,3,3,3,3,3,3,3,3,3,3,3,3,3,3,3,3,3,3,3,3,3,3,3,3,3,3,3,3,3,3,3,3,3,3,3,3,3,3,3,3,3,3,3,3,3,3,3,3,3,3,3,3,3,3,3,3,3,3,3,3,3,3,3,3,3,3,3,3,3,3,3,3,3,3,3,3,3,3,3,3,2,2,2,2,2,2,2,2,2,2,2,2,2,2,2,2,2,2,2,2,2,2,2,2,2,2,2,2,2,2,2,2,2,2,2,2,2,2,2,2,2,2,2,2,2,2,2,2,2,2,2,2,2,2,2,2,2,2,2,2,2,2,2,2,2,2,2,2,2,2,2,2,2,2,2,2,2,2,2,2,2,2,2,2,2,2,2,2,2,2,2,2,2,2,2,2,2,2,2,2,2,2,2,2,2,2,2,2,2,2,2,2,2,2,2,2,2,2,2,2,2,2,2,2,2,2,2,2,2,2,2,2,2,2,2,2,2,2,2,2,2,2,2,2,2,2,2,2,2,2,2,2,2,2,2,2,2,2,2,2,2,2,2,2,2,2,2,2,2,2,2,2,2,2,2,2,2,2,2,2,2,2,2,2,2,2,2,2,2,2,2,2,2,2,2,2,2,2,2,2,2,2,2,2,2,2,2,2,2,2,2,2,2,2,2,2,2,2,2,2,2,2,2,2,2,2,2,2,2,2,2,2,2,2,2,2,2,2,2,2,2,2,2,2,2,2,2,2,2,2,2,2,2,2,2,2,2,2,2,2,2,2,2,2,2,2,2,2,2,2,2,2,2,2,2,2,2,2,2,2,2,2,2,2,2,2,2,2,2,2,2,2,2,2,2,2,2,2,2,2,2,2,2,2,2,2,2,2,2,2,2,2,2,2,2,2,2,2,2,2,2,2,2,2,2,2,2,2,2,2,2,2,2,2,2,2,2,2,2,2,2,2,2,2,2,2,2,2,2,2,2,2,2,2,2,2,2,2,2,2,2,2,2,2,2,2,2,2,2,2,2,2,2,2,2,2,2,2,2,2,2,2,2,2,2,2,2,2,2,2,2,2,2,2,2,2,2,2,2,2,2,2,2,2,2,2,2,2,2,2,2,2,2,2,2,2,2,2,2,2,2,2,2,2,2,2,2,2,2,2,2,2,2,2,2,2,2,2,2,2,2,2,2,2,2,2,2,2,2,2,2,2,2,2,2,2,2,2,2,2,2,2,2,2,2,2,2,2,2,2,2,2,2,2,2,2,2,2,2,2,2,2,2,2,2,2,2,2,2,2,2,2,2,2,2,2,2,2,2,2,2,2,2,2,2,2,2,2,2,2,2,2,2,2,2,2,2,2,2,2,2,2,2,2,2,2,2,2,2,2,2,2,2,2,2,2,2,2,2,2,2,2,2,2,2,2,2,2,2,2,2,2,2,2,2,2,2,2,2,2,2,2,2,2,2,2,2,2,2,2,2,2,2,2,2,2,2,2,2,2,2,2,2,2,2,2,2,2,2,2,2,2,2,2,2,2,2,2,2,2,2,2,2,2,2,2,2,2,2,2,2,2,2,2,2,2,2,2,2,2,2,2,2,2,2,2,2,2,2,2,2,2,2,2,2,2,2,2,2,2,2,2,2,2,2,2,2,2,2,2,2,2,2,2,2,2,2,2,2,2,2,2,2,2,2,2,2,2,2,2,2,2,2,2,2,2,2,2,2,2,2,2,2,2,2,2,2,2,2,2,2,2,2,2,2,2,2,2,2,2,2,2,2,2,2,2,2,2,2,2,2,2,2,2,2,2],\"type\":\"histogram\"}],                        {\"template\":{\"data\":{\"bar\":[{\"error_x\":{\"color\":\"#2a3f5f\"},\"error_y\":{\"color\":\"#2a3f5f\"},\"marker\":{\"line\":{\"color\":\"#E5ECF6\",\"width\":0.5},\"pattern\":{\"fillmode\":\"overlay\",\"size\":10,\"solidity\":0.2}},\"type\":\"bar\"}],\"barpolar\":[{\"marker\":{\"line\":{\"color\":\"#E5ECF6\",\"width\":0.5},\"pattern\":{\"fillmode\":\"overlay\",\"size\":10,\"solidity\":0.2}},\"type\":\"barpolar\"}],\"carpet\":[{\"aaxis\":{\"endlinecolor\":\"#2a3f5f\",\"gridcolor\":\"white\",\"linecolor\":\"white\",\"minorgridcolor\":\"white\",\"startlinecolor\":\"#2a3f5f\"},\"baxis\":{\"endlinecolor\":\"#2a3f5f\",\"gridcolor\":\"white\",\"linecolor\":\"white\",\"minorgridcolor\":\"white\",\"startlinecolor\":\"#2a3f5f\"},\"type\":\"carpet\"}],\"choropleth\":[{\"colorbar\":{\"outlinewidth\":0,\"ticks\":\"\"},\"type\":\"choropleth\"}],\"contour\":[{\"colorbar\":{\"outlinewidth\":0,\"ticks\":\"\"},\"colorscale\":[[0.0,\"#0d0887\"],[0.1111111111111111,\"#46039f\"],[0.2222222222222222,\"#7201a8\"],[0.3333333333333333,\"#9c179e\"],[0.4444444444444444,\"#bd3786\"],[0.5555555555555556,\"#d8576b\"],[0.6666666666666666,\"#ed7953\"],[0.7777777777777778,\"#fb9f3a\"],[0.8888888888888888,\"#fdca26\"],[1.0,\"#f0f921\"]],\"type\":\"contour\"}],\"contourcarpet\":[{\"colorbar\":{\"outlinewidth\":0,\"ticks\":\"\"},\"type\":\"contourcarpet\"}],\"heatmap\":[{\"colorbar\":{\"outlinewidth\":0,\"ticks\":\"\"},\"colorscale\":[[0.0,\"#0d0887\"],[0.1111111111111111,\"#46039f\"],[0.2222222222222222,\"#7201a8\"],[0.3333333333333333,\"#9c179e\"],[0.4444444444444444,\"#bd3786\"],[0.5555555555555556,\"#d8576b\"],[0.6666666666666666,\"#ed7953\"],[0.7777777777777778,\"#fb9f3a\"],[0.8888888888888888,\"#fdca26\"],[1.0,\"#f0f921\"]],\"type\":\"heatmap\"}],\"heatmapgl\":[{\"colorbar\":{\"outlinewidth\":0,\"ticks\":\"\"},\"colorscale\":[[0.0,\"#0d0887\"],[0.1111111111111111,\"#46039f\"],[0.2222222222222222,\"#7201a8\"],[0.3333333333333333,\"#9c179e\"],[0.4444444444444444,\"#bd3786\"],[0.5555555555555556,\"#d8576b\"],[0.6666666666666666,\"#ed7953\"],[0.7777777777777778,\"#fb9f3a\"],[0.8888888888888888,\"#fdca26\"],[1.0,\"#f0f921\"]],\"type\":\"heatmapgl\"}],\"histogram\":[{\"marker\":{\"pattern\":{\"fillmode\":\"overlay\",\"size\":10,\"solidity\":0.2}},\"type\":\"histogram\"}],\"histogram2d\":[{\"colorbar\":{\"outlinewidth\":0,\"ticks\":\"\"},\"colorscale\":[[0.0,\"#0d0887\"],[0.1111111111111111,\"#46039f\"],[0.2222222222222222,\"#7201a8\"],[0.3333333333333333,\"#9c179e\"],[0.4444444444444444,\"#bd3786\"],[0.5555555555555556,\"#d8576b\"],[0.6666666666666666,\"#ed7953\"],[0.7777777777777778,\"#fb9f3a\"],[0.8888888888888888,\"#fdca26\"],[1.0,\"#f0f921\"]],\"type\":\"histogram2d\"}],\"histogram2dcontour\":[{\"colorbar\":{\"outlinewidth\":0,\"ticks\":\"\"},\"colorscale\":[[0.0,\"#0d0887\"],[0.1111111111111111,\"#46039f\"],[0.2222222222222222,\"#7201a8\"],[0.3333333333333333,\"#9c179e\"],[0.4444444444444444,\"#bd3786\"],[0.5555555555555556,\"#d8576b\"],[0.6666666666666666,\"#ed7953\"],[0.7777777777777778,\"#fb9f3a\"],[0.8888888888888888,\"#fdca26\"],[1.0,\"#f0f921\"]],\"type\":\"histogram2dcontour\"}],\"mesh3d\":[{\"colorbar\":{\"outlinewidth\":0,\"ticks\":\"\"},\"type\":\"mesh3d\"}],\"parcoords\":[{\"line\":{\"colorbar\":{\"outlinewidth\":0,\"ticks\":\"\"}},\"type\":\"parcoords\"}],\"pie\":[{\"automargin\":true,\"type\":\"pie\"}],\"scatter\":[{\"marker\":{\"colorbar\":{\"outlinewidth\":0,\"ticks\":\"\"}},\"type\":\"scatter\"}],\"scatter3d\":[{\"line\":{\"colorbar\":{\"outlinewidth\":0,\"ticks\":\"\"}},\"marker\":{\"colorbar\":{\"outlinewidth\":0,\"ticks\":\"\"}},\"type\":\"scatter3d\"}],\"scattercarpet\":[{\"marker\":{\"colorbar\":{\"outlinewidth\":0,\"ticks\":\"\"}},\"type\":\"scattercarpet\"}],\"scattergeo\":[{\"marker\":{\"colorbar\":{\"outlinewidth\":0,\"ticks\":\"\"}},\"type\":\"scattergeo\"}],\"scattergl\":[{\"marker\":{\"colorbar\":{\"outlinewidth\":0,\"ticks\":\"\"}},\"type\":\"scattergl\"}],\"scattermapbox\":[{\"marker\":{\"colorbar\":{\"outlinewidth\":0,\"ticks\":\"\"}},\"type\":\"scattermapbox\"}],\"scatterpolar\":[{\"marker\":{\"colorbar\":{\"outlinewidth\":0,\"ticks\":\"\"}},\"type\":\"scatterpolar\"}],\"scatterpolargl\":[{\"marker\":{\"colorbar\":{\"outlinewidth\":0,\"ticks\":\"\"}},\"type\":\"scatterpolargl\"}],\"scatterternary\":[{\"marker\":{\"colorbar\":{\"outlinewidth\":0,\"ticks\":\"\"}},\"type\":\"scatterternary\"}],\"surface\":[{\"colorbar\":{\"outlinewidth\":0,\"ticks\":\"\"},\"colorscale\":[[0.0,\"#0d0887\"],[0.1111111111111111,\"#46039f\"],[0.2222222222222222,\"#7201a8\"],[0.3333333333333333,\"#9c179e\"],[0.4444444444444444,\"#bd3786\"],[0.5555555555555556,\"#d8576b\"],[0.6666666666666666,\"#ed7953\"],[0.7777777777777778,\"#fb9f3a\"],[0.8888888888888888,\"#fdca26\"],[1.0,\"#f0f921\"]],\"type\":\"surface\"}],\"table\":[{\"cells\":{\"fill\":{\"color\":\"#EBF0F8\"},\"line\":{\"color\":\"white\"}},\"header\":{\"fill\":{\"color\":\"#C8D4E3\"},\"line\":{\"color\":\"white\"}},\"type\":\"table\"}]},\"layout\":{\"annotationdefaults\":{\"arrowcolor\":\"#2a3f5f\",\"arrowhead\":0,\"arrowwidth\":1},\"autotypenumbers\":\"strict\",\"coloraxis\":{\"colorbar\":{\"outlinewidth\":0,\"ticks\":\"\"}},\"colorscale\":{\"diverging\":[[0,\"#8e0152\"],[0.1,\"#c51b7d\"],[0.2,\"#de77ae\"],[0.3,\"#f1b6da\"],[0.4,\"#fde0ef\"],[0.5,\"#f7f7f7\"],[0.6,\"#e6f5d0\"],[0.7,\"#b8e186\"],[0.8,\"#7fbc41\"],[0.9,\"#4d9221\"],[1,\"#276419\"]],\"sequential\":[[0.0,\"#0d0887\"],[0.1111111111111111,\"#46039f\"],[0.2222222222222222,\"#7201a8\"],[0.3333333333333333,\"#9c179e\"],[0.4444444444444444,\"#bd3786\"],[0.5555555555555556,\"#d8576b\"],[0.6666666666666666,\"#ed7953\"],[0.7777777777777778,\"#fb9f3a\"],[0.8888888888888888,\"#fdca26\"],[1.0,\"#f0f921\"]],\"sequentialminus\":[[0.0,\"#0d0887\"],[0.1111111111111111,\"#46039f\"],[0.2222222222222222,\"#7201a8\"],[0.3333333333333333,\"#9c179e\"],[0.4444444444444444,\"#bd3786\"],[0.5555555555555556,\"#d8576b\"],[0.6666666666666666,\"#ed7953\"],[0.7777777777777778,\"#fb9f3a\"],[0.8888888888888888,\"#fdca26\"],[1.0,\"#f0f921\"]]},\"colorway\":[\"#636efa\",\"#EF553B\",\"#00cc96\",\"#ab63fa\",\"#FFA15A\",\"#19d3f3\",\"#FF6692\",\"#B6E880\",\"#FF97FF\",\"#FECB52\"],\"font\":{\"color\":\"#2a3f5f\"},\"geo\":{\"bgcolor\":\"white\",\"lakecolor\":\"white\",\"landcolor\":\"#E5ECF6\",\"showlakes\":true,\"showland\":true,\"subunitcolor\":\"white\"},\"hoverlabel\":{\"align\":\"left\"},\"hovermode\":\"closest\",\"mapbox\":{\"style\":\"light\"},\"paper_bgcolor\":\"white\",\"plot_bgcolor\":\"#E5ECF6\",\"polar\":{\"angularaxis\":{\"gridcolor\":\"white\",\"linecolor\":\"white\",\"ticks\":\"\"},\"bgcolor\":\"#E5ECF6\",\"radialaxis\":{\"gridcolor\":\"white\",\"linecolor\":\"white\",\"ticks\":\"\"}},\"scene\":{\"xaxis\":{\"backgroundcolor\":\"#E5ECF6\",\"gridcolor\":\"white\",\"gridwidth\":2,\"linecolor\":\"white\",\"showbackground\":true,\"ticks\":\"\",\"zerolinecolor\":\"white\"},\"yaxis\":{\"backgroundcolor\":\"#E5ECF6\",\"gridcolor\":\"white\",\"gridwidth\":2,\"linecolor\":\"white\",\"showbackground\":true,\"ticks\":\"\",\"zerolinecolor\":\"white\"},\"zaxis\":{\"backgroundcolor\":\"#E5ECF6\",\"gridcolor\":\"white\",\"gridwidth\":2,\"linecolor\":\"white\",\"showbackground\":true,\"ticks\":\"\",\"zerolinecolor\":\"white\"}},\"shapedefaults\":{\"line\":{\"color\":\"#2a3f5f\"}},\"ternary\":{\"aaxis\":{\"gridcolor\":\"white\",\"linecolor\":\"white\",\"ticks\":\"\"},\"baxis\":{\"gridcolor\":\"white\",\"linecolor\":\"white\",\"ticks\":\"\"},\"bgcolor\":\"#E5ECF6\",\"caxis\":{\"gridcolor\":\"white\",\"linecolor\":\"white\",\"ticks\":\"\"}},\"title\":{\"x\":0.05},\"xaxis\":{\"automargin\":true,\"gridcolor\":\"white\",\"linecolor\":\"white\",\"ticks\":\"\",\"title\":{\"standoff\":15},\"zerolinecolor\":\"white\",\"zerolinewidth\":2},\"yaxis\":{\"automargin\":true,\"gridcolor\":\"white\",\"linecolor\":\"white\",\"ticks\":\"\",\"title\":{\"standoff\":15},\"zerolinecolor\":\"white\",\"zerolinewidth\":2}}}},                        {\"responsive\": true}                    ).then(function(){\n",
              "                            \n",
              "var gd = document.getElementById('f104ece1-640d-4bb4-8ceb-74e57f4a4878');\n",
              "var x = new MutationObserver(function (mutations, observer) {{\n",
              "        var display = window.getComputedStyle(gd).display;\n",
              "        if (!display || display === 'none') {{\n",
              "            console.log([gd, 'removed!']);\n",
              "            Plotly.purge(gd);\n",
              "            observer.disconnect();\n",
              "        }}\n",
              "}});\n",
              "\n",
              "// Listen for the removal of the full notebook cells\n",
              "var notebookContainer = gd.closest('#notebook-container');\n",
              "if (notebookContainer) {{\n",
              "    x.observe(notebookContainer, {childList: true});\n",
              "}}\n",
              "\n",
              "// Listen for the clearing of the current output cell\n",
              "var outputEl = gd.closest('.output');\n",
              "if (outputEl) {{\n",
              "    x.observe(outputEl, {childList: true});\n",
              "}}\n",
              "\n",
              "                        })                };                            </script>        </div>\n",
              "</body>\n",
              "</html>"
            ]
          },
          "metadata": {}
        }
      ]
    },
    {
      "cell_type": "markdown",
      "source": [
        "### image"
      ],
      "metadata": {
        "id": "ZdqFPS5-OACy"
      }
    },
    {
      "cell_type": "markdown",
      "source": [
        "#### annotation"
      ],
      "metadata": {
        "id": "bPlN09JJ5elz"
      }
    },
    {
      "cell_type": "code",
      "source": [
        "# img_dup_all = img_dup_all[:20]\n",
        "# print(len(img_dup_all))"
      ],
      "metadata": {
        "id": "XXbKx6rXq_sU"
      },
      "execution_count": null,
      "outputs": []
    },
    {
      "cell_type": "code",
      "source": [
        "def signal_handler(signal, frame):\n",
        "    print('Aborted')\n",
        "    sys.exit(0)"
      ],
      "metadata": {
        "id": "2AU6K4N7P71f"
      },
      "execution_count": null,
      "outputs": []
    },
    {
      "cell_type": "code",
      "source": [
        "signal.signal(signal.SIGINT, signal_handler)\n",
        "\n",
        "num_img_org = len(img_dup_all)\n",
        "cluster = 0\n",
        "try:\n",
        "    with open(\"/content/drive/MyDrive/annotation/hm_img_confounder.pickle\", \"rb\") as f:\n",
        "        clusters = pickle.load(f)\n",
        "except Exception as e:\n",
        "    clusters = []\n",
        "if len(clusters)==0:\n",
        "    cluster = 0\n",
        "else:\n",
        "    cluster = max(clusters)\n",
        "done = len(clusters)\n",
        "num_img = num_img_org-done\n",
        "for idx in trange(num_img//2):\n",
        "# for idx in trange(5):\n",
        "    # check duplicates\n",
        "    _idx, _idx2 = done+2*idx, done+2*idx+1\n",
        "\n",
        "    if done:\n",
        "        img_id = img_dup_all[idx]\n",
        "        img_path = f\"img/{img_id}.png\"\n",
        "        label = df.loc[df[\"id\"]==img_id, label_col].values[0]\n",
        "        img = cv2.imread(os.path.join(data_root, img_path), cv2.IMREAD_GRAYSCALE)\n",
        "    \n",
        "    plt.figure()\n",
        "    \n",
        "    # show images\n",
        "    ## subplot(r,c) provide the no. of rows and columns\n",
        "    f, axarr = plt.subplots(1,2,figsize=(12,16)) \n",
        "    for i,i2 in enumerate([_idx,_idx2]):\n",
        "        ## use the created array to output your multiple images.\n",
        "        img_id = img_dup_all[i2]\n",
        "        img_path = f\"img/{img_id}.png\"\n",
        "        label = df.loc[df[\"id\"]==img_id, label_col].values[0]\n",
        "        img = cv2.imread(os.path.join(data_root, img_path), cv2.IMREAD_GRAYSCALE)\n",
        "        axarr[i].set_title(f\"id={img_id}, label={label}\")\n",
        "        axarr[i].imshow(img, cmap=\"gray\")\n",
        "    plt.show()\n",
        "\n",
        "    with open(\"/content/drive/MyDrive/annotation/hm_img_confounder.pickle\", \"wb\") as f:\n",
        "        pickle.dump(clusters, f)\n",
        "\n",
        "    ## 1 if image is new, else 0\n",
        "    left = input(\"LEFT image new?: \")\n",
        "    right = input(\"RIGHT image new?: \")\n",
        "    for result in [left, right]:\n",
        "        if int(result):\n",
        "            cluster += 1\n",
        "        else:\n",
        "            pass\n",
        "        clusters.append(cluster)\n",
        "\n",
        "    time.sleep(1)\n",
        "    clear_output(wait=True)\n",
        "with open(\"/content/drive/MyDrive/annotation/hm_img_confounder.pickle\", \"wb\") as f:\n",
        "    pickle.dump(clusters, f)"
      ],
      "metadata": {
        "colab": {
          "base_uri": "https://localhost:8080/",
          "height": 35
        },
        "id": "E4LXjGwKDqzf",
        "outputId": "3867c7d6-33a0-4d70-8861-732b58c722fb"
      },
      "execution_count": null,
      "outputs": [
        {
          "output_type": "stream",
          "name": "stderr",
          "text": [
            "100%|██████████| 116/116 [11:36<00:00,  6.00s/it]\n"
          ]
        }
      ]
    },
    {
      "cell_type": "code",
      "source": [
        "# # check result\n",
        "# arr_clusters = np.array(clusters)\n",
        "# arr_img = np.array(img_dup_all)[:len(arr_clusters)]\n",
        "# for idx in sorted(list(set(clusters)))[1000:1500]:\n",
        "#     print(idx)\n",
        "#     img_cluster = arr_img[arr_clusters==idx]\n",
        "#     if len(img_cluster)==1:\n",
        "#         continue\n",
        "#     plt.figure()\n",
        "#     f, axarr = plt.subplots(1,len(img_cluster),figsize=(4*len(img_cluster),6*len(img_cluster))) \n",
        "#     for i,img_id in enumerate(img_cluster):\n",
        "#         img_path = f\"img/{img_id}.png\"\n",
        "#         label = df.loc[df[\"id\"]==img_id, label_col].values[0]\n",
        "#         img = cv2.imread(os.path.join(data_root, img_path), cv2.IMREAD_GRAYSCALE)\n",
        "#         axarr[i].set_title(f\"id={img_id}, label={label}, cluster={idx}\")\n",
        "#         axarr[i].imshow(img, cmap=\"gray\")\n",
        "#     plt.show()"
      ],
      "metadata": {
        "id": "2Fkk98SVnHRG"
      },
      "execution_count": null,
      "outputs": []
    },
    {
      "cell_type": "code",
      "source": [
        "# # check result\n",
        "# ## single-image cluster + representative image\n",
        "# mode = \"single\"\n",
        "# arr_clusters = np.array(clusters)\n",
        "# arr_img = np.array(img_dup_all)[:len(arr_clusters)]\n",
        "# for idx in sorted(list(set(clusters))):\n",
        "#     img_cluster = arr_img[arr_clusters==idx]\n",
        "#     if (mode==\"single\" and len(img_cluster)==1) or (mode!=\"single\" and len(img_cluster)>1):\n",
        "#         print(idx)\n",
        "#         img_id = img_cluster[0]\n",
        "#         img_path = f\"img/{img_id}.png\"\n",
        "#         label = df.loc[df[\"id\"]==img_id, label_col].values[0]\n",
        "#         img = cv2.imread(os.path.join(data_root, img_path), cv2.IMREAD_GRAYSCALE)\n",
        "#         plt.title(f\"id={img_id}, label={label}, cluster={idx}, num_img={len(img_cluster)}\")\n",
        "#         plt.imshow(img, cmap=\"gray\")\n",
        "#         plt.show()\n",
        "#     else:\n",
        "#         pass"
      ],
      "metadata": {
        "id": "hb0C1JNIDuss"
      },
      "execution_count": 1,
      "outputs": []
    },
    {
      "cell_type": "code",
      "source": [
        "# collect\n",
        "arr_clusters,arr_clusters2 = np.array(clusters),np.array(clusters)\n",
        "arr_clusters2[arr_clusters==98] = 106\n",
        "arr_clusters2[arr_clusters==101] = 110\n",
        "arr_clusters2[arr_clusters==495] = 496\n",
        "clusters = arr_clusters2.tolist()\n",
        "with open(\"/content/drive/MyDrive/annotation/hm_img_confounder.pickle\", \"wb\") as f:\n",
        "    pickle.dump(clusters, f)"
      ],
      "metadata": {
        "id": "aa2rEP1xIDpw"
      },
      "execution_count": null,
      "outputs": []
    },
    {
      "cell_type": "code",
      "source": [
        "# # check result\n",
        "# ## single-image cluster + representative image\n",
        "# mode = \"multiple\"\n",
        "# arr_clusters = np.array(clusters)\n",
        "# arr_img = np.array(img_dup_all)[:len(arr_clusters)]\n",
        "# for idx in sorted(list(set(clusters))):\n",
        "#     img_cluster = arr_img[arr_clusters==idx]\n",
        "#     if (mode==\"single\" and len(img_cluster)==1) or (mode!=\"single\" and len(img_cluster)>1):\n",
        "#         print(idx)\n",
        "#         img_id = img_cluster[0]\n",
        "#         img_path = f\"img/{img_id}.png\"\n",
        "#         label = df.loc[df[\"id\"]==img_id, label_col].values[0]\n",
        "#         img = cv2.imread(os.path.join(data_root, img_path), cv2.IMREAD_GRAYSCALE)\n",
        "#         plt.title(f\"id={img_id}, label={label}, cluster={idx}, num_img={len(img_cluster)}\")\n",
        "#         plt.imshow(img, cmap=\"gray\")\n",
        "#         plt.show()\n",
        "#     else:\n",
        "#         pass"
      ],
      "metadata": {
        "id": "XVr7JZNNGfel"
      },
      "execution_count": 2,
      "outputs": []
    },
    {
      "cell_type": "code",
      "source": [
        "# collect\n",
        "arr_clusters,arr_clusters2 = np.array(clusters),np.array(clusters)\n",
        "arr_clusters2[arr_clusters==620] = 617\n",
        "clusters = arr_clusters2.tolist()\n",
        "with open(\"/content/drive/MyDrive/annotation/hm_img_confounder.pickle\", \"wb\") as f:\n",
        "    pickle.dump(clusters, f)"
      ],
      "metadata": {
        "id": "UBF9ua1xK5wT"
      },
      "execution_count": null,
      "outputs": []
    },
    {
      "cell_type": "code",
      "source": [
        "# add cluster for last image\n",
        "## check if it's identical to -2\n",
        "img_id = img_dup_all[-1]\n",
        "img_path = f\"img/{img_id}.png\"\n",
        "label = df.loc[df[\"id\"]==img_id, label_col].values[0]\n",
        "img = cv2.imread(os.path.join(data_root, img_path), cv2.IMREAD_GRAYSCALE)\n",
        "plt.imshow(img, cmap=\"gray\")"
      ],
      "metadata": {
        "colab": {
          "base_uri": "https://localhost:8080/",
          "height": 287
        },
        "id": "ZT3dEXGwO51v",
        "outputId": "daedcb34-fb9f-4ab4-8186-442020536eb7"
      },
      "execution_count": null,
      "outputs": [
        {
          "output_type": "execute_result",
          "data": {
            "text/plain": [
              "<matplotlib.image.AxesImage at 0x7f9416d41590>"
            ]
          },
          "metadata": {},
          "execution_count": 62
        },
        {
          "output_type": "display_data",
          "data": {
            "text/plain": [
              "<Figure size 432x288 with 1 Axes>"
            ],
            "image/png": "[encoded data removed]"
          },
          "metadata": {}
        }
      ]
    },
    {
      "cell_type": "code",
      "source": [
        "# add cluster for last image\n",
        "clusters.append(clusters[-1])\n",
        "with open(\"/content/drive/MyDrive/annotation/hm_img_confounder.pickle\", \"wb\") as f:\n",
        "    pickle.dump(clusters, f)"
      ],
      "metadata": {
        "id": "75TxHerTPVWM"
      },
      "execution_count": null,
      "outputs": []
    },
    {
      "cell_type": "code",
      "source": [
        "len(img_dup_all),len(clusters)"
      ],
      "metadata": {
        "colab": {
          "base_uri": "https://localhost:8080/"
        },
        "id": "cjpSXOzzN3wW",
        "outputId": "b8193ca5-e054-4689-a0e9-f02c856f6bea"
      },
      "execution_count": null,
      "outputs": [
        {
          "output_type": "execute_result",
          "data": {
            "text/plain": [
              "(2393, 2393)"
            ]
          },
          "metadata": {},
          "execution_count": 65
        }
      ]
    },
    {
      "cell_type": "markdown",
      "source": [
        "#### label to dataframe"
      ],
      "metadata": {
        "id": "jIcRFseY5nSo"
      }
    },
    {
      "cell_type": "code",
      "source": [
        "with open(\"/content/drive/MyDrive/annotation/hm_img_confounder.pickle\", \"rb\") as f:\n",
        "    clusters = pickle.load(f)"
      ],
      "metadata": {
        "id": "6DcW_Uqz5tt0"
      },
      "execution_count": null,
      "outputs": []
    },
    {
      "cell_type": "code",
      "source": [
        "# prep image clustered df\n",
        "df_img_cf = pd.DataFrame([img_dup_all, clusters]).T\n",
        "df_img_cf.columns = [\"img_id\", \"img_cluster\"]\n",
        "# remove single-image cluster\n",
        "df_img_cf_cnt = df_img_cf.groupby(\"img_cluster\").count().reset_index()\n",
        "single_cluster = df_img_cf_cnt.loc[df_img_cf_cnt[\"img_id\"]==1, \"img_cluster\"].tolist()\n",
        "print(len(df_img_cf))\n",
        "df_img_cf = df_img_cf[~df_img_cf[\"img_cluster\"].isin(single_cluster)]\n",
        "print(len(df_img_cf))\n",
        "# merge label\n",
        "df_img_cf = df_img_cf.merge(df[[\"id\", \"label\"]].drop_duplicates().set_index(\"id\"), left_on=\"img_id\", right_index=True)\n",
        "df_img_cf_cnt = df_img_cf.groupby(\"img_cluster\")[\"label\"].sum().reset_index()\n",
        "all_negatives = df_img_cf_cnt.loc[df_img_cf_cnt[\"label\"]==0, \"img_cluster\"].tolist()\n",
        "print(len(df_img_cf))\n",
        "df_img_cf = df_img_cf[~df_img_cf[\"img_cluster\"].isin(all_negatives)]\n",
        "print(len(df_img_cf))\n",
        "# add id by labels\n",
        "## id of positive image, youngest if multiple\n",
        "df_img_cf_pos = df_img_cf[df_img_cf[\"label\"]==1].groupby(\"img_cluster\")[\"img_id\"].min().reset_index()\n",
        "df_img_cf = df_img_cf.merge(df_img_cf_pos[[\"img_cluster\", \"img_id\"]].rename({\"img_id\": img_id_col}, axis=1).set_index(\"img_cluster\"), left_on=\"img_cluster\", right_index=True)\n",
        "df_img_cf.head()\n",
        "# df_img_cf_pos.head()\n",
        "# df_img_cf_cnt.head()"
      ],
      "metadata": {
        "colab": {
          "base_uri": "https://localhost:8080/",
          "height": 279
        },
        "id": "kx2usNFjPxH4",
        "outputId": "92bb4d3f-68f4-46e5-d261-c68486afbcbc"
      },
      "execution_count": null,
      "outputs": [
        {
          "output_type": "stream",
          "name": "stdout",
          "text": [
            "2393\n",
            "2362\n",
            "2362\n",
            "2357\n"
          ]
        },
        {
          "output_type": "execute_result",
          "data": {
            "text/plain": [
              "  img_id img_cluster  label img_org_id\n",
              "0  32768           0      0      57412\n",
              "1  04162           0      0      57412\n",
              "2  57412           0      1      57412\n",
              "3  94678           0      0      57412\n",
              "4  57346           1      0      46978"
            ],
            "text/html": [
              "\n",
              "  <div id=\"df-1aa46851-1bfa-4a64-bfde-fa9787d617e9\">\n",
              "    <div class=\"colab-df-container\">\n",
              "      <div>\n",
              "<style scoped>\n",
              "    .dataframe tbody tr th:only-of-type {\n",
              "        vertical-align: middle;\n",
              "    }\n",
              "\n",
              "    .dataframe tbody tr th {\n",
              "        vertical-align: top;\n",
              "    }\n",
              "\n",
              "    .dataframe thead th {\n",
              "        text-align: right;\n",
              "    }\n",
              "</style>\n",
              "<table border=\"1\" class=\"dataframe\">\n",
              "  <thead>\n",
              "    <tr style=\"text-align: right;\">\n",
              "      <th></th>\n",
              "      <th>img_id</th>\n",
              "      <th>img_cluster</th>\n",
              "      <th>label</th>\n",
              "      <th>img_org_id</th>\n",
              "    </tr>\n",
              "  </thead>\n",
              "  <tbody>\n",
              "    <tr>\n",
              "      <th>0</th>\n",
              "      <td>32768</td>\n",
              "      <td>0</td>\n",
              "      <td>0</td>\n",
              "      <td>57412</td>\n",
              "    </tr>\n",
              "    <tr>\n",
              "      <th>1</th>\n",
              "      <td>04162</td>\n",
              "      <td>0</td>\n",
              "      <td>0</td>\n",
              "      <td>57412</td>\n",
              "    </tr>\n",
              "    <tr>\n",
              "      <th>2</th>\n",
              "      <td>57412</td>\n",
              "      <td>0</td>\n",
              "      <td>1</td>\n",
              "      <td>57412</td>\n",
              "    </tr>\n",
              "    <tr>\n",
              "      <th>3</th>\n",
              "      <td>94678</td>\n",
              "      <td>0</td>\n",
              "      <td>0</td>\n",
              "      <td>57412</td>\n",
              "    </tr>\n",
              "    <tr>\n",
              "      <th>4</th>\n",
              "      <td>57346</td>\n",
              "      <td>1</td>\n",
              "      <td>0</td>\n",
              "      <td>46978</td>\n",
              "    </tr>\n",
              "  </tbody>\n",
              "</table>\n",
              "</div>\n",
              "      <button class=\"colab-df-convert\" onclick=\"convertToInteractive('df-1aa46851-1bfa-4a64-bfde-fa9787d617e9')\"\n",
              "              title=\"Convert this dataframe to an interactive table.\"\n",
              "              style=\"display:none;\">\n",
              "        \n",
              "  <svg xmlns=\"http://www.w3.org/2000/svg\" height=\"24px\"viewBox=\"0 0 24 24\"\n",
              "       width=\"24px\">\n",
              "    <path d=\"M0 0h24v24H0V0z\" fill=\"none\"/>\n",
              "    <path d=\"M18.56 5.44l.94 2.06.94-2.06 2.06-.94-2.06-.94-.94-2.06-.94 2.06-2.06.94zm-11 1L8.5 8.5l.94-2.06 2.06-.94-2.06-.94L8.5 2.5l-.94 2.06-2.06.94zm10 10l.94 2.06.94-2.06 2.06-.94-2.06-.94-.94-2.06-.94 2.06-2.06.94z\"/><path d=\"M17.41 7.96l-1.37-1.37c-.4-.4-.92-.59-1.43-.59-.52 0-1.04.2-1.43.59L10.3 9.45l-7.72 7.72c-.78.78-.78 2.05 0 2.83L4 21.41c.39.39.9.59 1.41.59.51 0 1.02-.2 1.41-.59l7.78-7.78 2.81-2.81c.8-.78.8-2.07 0-2.86zM5.41 20L4 18.59l7.72-7.72 1.47 1.35L5.41 20z\"/>\n",
              "  </svg>\n",
              "      </button>\n",
              "      \n",
              "  <style>\n",
              "    .colab-df-container {\n",
              "      display:flex;\n",
              "      flex-wrap:wrap;\n",
              "      gap: 12px;\n",
              "    }\n",
              "\n",
              "    .colab-df-convert {\n",
              "      background-color: #E8F0FE;\n",
              "      border: none;\n",
              "      border-radius: 50%;\n",
              "      cursor: pointer;\n",
              "      display: none;\n",
              "      fill: #1967D2;\n",
              "      height: 32px;\n",
              "      padding: 0 0 0 0;\n",
              "      width: 32px;\n",
              "    }\n",
              "\n",
              "    .colab-df-convert:hover {\n",
              "      background-color: #E2EBFA;\n",
              "      box-shadow: 0px 1px 2px rgba(60, 64, 67, 0.3), 0px 1px 3px 1px rgba(60, 64, 67, 0.15);\n",
              "      fill: #174EA6;\n",
              "    }\n",
              "\n",
              "    [theme=dark] .colab-df-convert {\n",
              "      background-color: #3B4455;\n",
              "      fill: #D2E3FC;\n",
              "    }\n",
              "\n",
              "    [theme=dark] .colab-df-convert:hover {\n",
              "      background-color: #434B5C;\n",
              "      box-shadow: 0px 1px 3px 1px rgba(0, 0, 0, 0.15);\n",
              "      filter: drop-shadow(0px 1px 2px rgba(0, 0, 0, 0.3));\n",
              "      fill: #FFFFFF;\n",
              "    }\n",
              "  </style>\n",
              "\n",
              "      <script>\n",
              "        const buttonEl =\n",
              "          document.querySelector('#df-1aa46851-1bfa-4a64-bfde-fa9787d617e9 button.colab-df-convert');\n",
              "        buttonEl.style.display =\n",
              "          google.colab.kernel.accessAllowed ? 'block' : 'none';\n",
              "\n",
              "        async function convertToInteractive(key) {\n",
              "          const element = document.querySelector('#df-1aa46851-1bfa-4a64-bfde-fa9787d617e9');\n",
              "          const dataTable =\n",
              "            await google.colab.kernel.invokeFunction('convertToInteractive',\n",
              "                                                     [key], {});\n",
              "          if (!dataTable) return;\n",
              "\n",
              "          const docLinkHtml = 'Like what you see? Visit the ' +\n",
              "            '<a target=\"_blank\" href=https://colab.research.google.com/notebooks/data_table.ipynb>data table notebook</a>'\n",
              "            + ' to learn more about interactive tables.';\n",
              "          element.innerHTML = '';\n",
              "          dataTable['output_type'] = 'display_data';\n",
              "          await google.colab.output.renderOutput(dataTable, element);\n",
              "          const docLink = document.createElement('div');\n",
              "          docLink.innerHTML = docLinkHtml;\n",
              "          element.appendChild(docLink);\n",
              "        }\n",
              "      </script>\n",
              "    </div>\n",
              "  </div>\n",
              "  "
            ]
          },
          "metadata": {},
          "execution_count": 18
        }
      ]
    },
    {
      "cell_type": "markdown",
      "source": [
        "### group for evaluation"
      ],
      "metadata": {
        "id": "U1HfMYQg523d"
      }
    },
    {
      "cell_type": "code",
      "source": [
        "len(df), len(df_img_cf), len(df_txt_cf)"
      ],
      "metadata": {
        "colab": {
          "base_uri": "https://localhost:8080/"
        },
        "id": "1QJEpG486ToZ",
        "outputId": "10c3f003-3912-442d-ef5d-505704d4ee27"
      },
      "execution_count": null,
      "outputs": [
        {
          "output_type": "execute_result",
          "data": {
            "text/plain": [
              "(12540, 2357, 5602)"
            ]
          },
          "metadata": {},
          "execution_count": 20
        }
      ]
    },
    {
      "cell_type": "code",
      "source": [
        "print(df.columns)\n",
        "print(df_img_cf.columns)\n",
        "print(df_txt_cf.columns)"
      ],
      "metadata": {
        "colab": {
          "base_uri": "https://localhost:8080/"
        },
        "id": "MkAvs3SL61nk",
        "outputId": "eec29192-fb3b-4225-cf36-28098210f6c4"
      },
      "execution_count": null,
      "outputs": [
        {
          "output_type": "stream",
          "name": "stdout",
          "text": [
            "Index(['id', 'img', 'label', 'text', 'split', 'is_txt_confounder',\n",
            "       'is_img_confounder'],\n",
            "      dtype='object')\n",
            "Index(['img_id', 'img_cluster', 'label', 'img_org_id'], dtype='object')\n",
            "Index(['id', 'img', 'label', 'text', 'split', 'is_txt_confounder',\n",
            "       'is_img_confounder', 'txt_org_id'],\n",
            "      dtype='object')\n"
          ]
        }
      ]
    },
    {
      "cell_type": "code",
      "source": [
        "df_merged = df[[\"id\", \"split\", \"label\"]].merge(df_img_cf[[\"img_id\", \"img_org_id\"]].set_index(\"img_id\"),left_on=\"id\", right_index=True, how=\"left\").fillna(\"No Confounder\")\n",
        "df_merged = df_merged.merge(df_txt_cf[[\"id\", \"txt_org_id\"]].set_index(\"id\"),left_on=\"id\", right_index=True, how=\"left\").fillna(\"No Confounder\")"
      ],
      "metadata": {
        "id": "k6U-BIog-kF6"
      },
      "execution_count": null,
      "outputs": []
    },
    {
      "cell_type": "code",
      "source": [
        "df_merged.groupby(['split', 'label'])[\"img_org_id\"].nunique()"
      ],
      "metadata": {
        "colab": {
          "base_uri": "https://localhost:8080/"
        },
        "id": "ANGTVAx8APe4",
        "outputId": "aec6f5b0-03d2-4239-a7ba-e5a970fabff3"
      },
      "execution_count": null,
      "outputs": [
        {
          "output_type": "execute_result",
          "data": {
            "text/plain": [
              "split        label\n",
              "dev_seen      0        85\n",
              "              1        85\n",
              "dev_unseen    0        85\n",
              "              1        85\n",
              "test_seen    -1         1\n",
              "test_unseen  -1         1\n",
              "train         0       807\n",
              "              1       810\n",
              "Name: img_org_id, dtype: int64"
            ]
          },
          "metadata": {},
          "execution_count": 29
        }
      ]
    },
    {
      "cell_type": "code",
      "source": [
        "df_merged.groupby(['split', 'label'])[\"txt_org_id\"].nunique()"
      ],
      "metadata": {
        "colab": {
          "base_uri": "https://localhost:8080/"
        },
        "id": "xBoUogwFBZC8",
        "outputId": "6459f94e-e23d-44ae-aeaa-0d4bfe095caf"
      },
      "execution_count": null,
      "outputs": [
        {
          "output_type": "execute_result",
          "data": {
            "text/plain": [
              "split        label\n",
              "dev_seen      0        82\n",
              "              1       206\n",
              "dev_unseen    0        80\n",
              "              1       198\n",
              "test_seen    -1        39\n",
              "test_unseen  -1        33\n",
              "train         0       707\n",
              "              1       824\n",
              "Name: txt_org_id, dtype: int64"
            ]
          },
          "metadata": {},
          "execution_count": 30
        }
      ]
    },
    {
      "cell_type": "code",
      "source": [
        "df_merged.to_parquet(\"/content/drive/MyDrive/annotation/confounders.parquet\", index=False)"
      ],
      "metadata": {
        "id": "ZBDInevPBszH"
      },
      "execution_count": null,
      "outputs": []
    },
    {
      "cell_type": "markdown",
      "source": [
        "# EOS"
      ],
      "metadata": {
        "id": "HEj3AfN37z2A"
      }
    },
    {
      "cell_type": "code",
      "source": [],
      "metadata": {
        "id": "FtyJh1Ay70vU"
      },
      "execution_count": null,
      "outputs": []
    }
  ]
}