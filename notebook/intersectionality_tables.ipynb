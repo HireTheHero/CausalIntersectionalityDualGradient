{
  "nbformat": 4,
  "nbformat_minor": 0,
  "metadata": {
    "colab": {
      "provenance": []
    },
    "kernelspec": {
      "name": "python3",
      "display_name": "Python 3"
    },
    "language_info": {
      "name": "python"
    }
  },
  "cells": [
    {
      "cell_type": "markdown",
      "source": [
        "# ReadMe\n",
        "## Summary\n",
        "- notebook for some figures\n",
        "\n",
        "## Prerequisite\n",
        "- Run repo's `notebook/vilio_gradient.ipynb` to obtain vilio results and intermediate files\n",
        "- place LLama-2 result as `DRIVE_DIR/LLM_PATH`\n"
      ],
      "metadata": {
        "id": "nP0JHwH9EP5S"
      }
    },
    {
      "cell_type": "markdown",
      "source": [
        "# init"
      ],
      "metadata": {
        "id": "oS5VbqtcEpbg"
      }
    },
    {
      "cell_type": "markdown",
      "source": [
        "## env"
      ],
      "metadata": {
        "id": "9jqd70GjSdKW"
      }
    },
    {
      "cell_type": "code",
      "source": [
        "!pip install optuna==3.3.0"
      ],
      "metadata": {
        "colab": {
          "base_uri": "https://localhost:8080/"
        },
        "id": "KbLxvx77SjK1",
        "outputId": "d959c446-6172-4ea0-f6f2-7f4735b6562d"
      },
      "execution_count": null,
      "outputs": [
        {
          "output_type": "stream",
          "name": "stdout",
          "text": [
            "Collecting optuna==3.3.0\n",
            "  Downloading optuna-3.3.0-py3-none-any.whl (404 kB)\n",
            "\u001b[2K     \u001b[90m━━━━━━━━━━━━━━━━━━━━━━━━━━━━━━━━━━━━━━\u001b[0m \u001b[32m404.2/404.2 kB\u001b[0m \u001b[31m12.6 MB/s\u001b[0m eta \u001b[36m0:00:00\u001b[0m\n",
            "\u001b[?25hCollecting alembic>=1.5.0 (from optuna==3.3.0)\n",
            "  Downloading alembic-1.12.0-py3-none-any.whl (226 kB)\n",
            "\u001b[2K     \u001b[90m━━━━━━━━━━━━━━━━━━━━━━━━━━━━━━━━━━━━━━\u001b[0m \u001b[32m226.0/226.0 kB\u001b[0m \u001b[31m27.7 MB/s\u001b[0m eta \u001b[36m0:00:00\u001b[0m\n",
            "\u001b[?25hCollecting cmaes>=0.10.0 (from optuna==3.3.0)\n",
            "  Downloading cmaes-0.10.0-py3-none-any.whl (29 kB)\n",
            "Collecting colorlog (from optuna==3.3.0)\n",
            "  Downloading colorlog-6.7.0-py2.py3-none-any.whl (11 kB)\n",
            "Requirement already satisfied: numpy in /usr/local/lib/python3.10/dist-packages (from optuna==3.3.0) (1.23.5)\n",
            "Requirement already satisfied: packaging>=20.0 in /usr/local/lib/python3.10/dist-packages (from optuna==3.3.0) (23.2)\n",
            "Requirement already satisfied: sqlalchemy>=1.3.0 in /usr/local/lib/python3.10/dist-packages (from optuna==3.3.0) (2.0.21)\n",
            "Requirement already satisfied: tqdm in /usr/local/lib/python3.10/dist-packages (from optuna==3.3.0) (4.66.1)\n",
            "Requirement already satisfied: PyYAML in /usr/local/lib/python3.10/dist-packages (from optuna==3.3.0) (6.0.1)\n",
            "Collecting Mako (from alembic>=1.5.0->optuna==3.3.0)\n",
            "  Downloading Mako-1.2.4-py3-none-any.whl (78 kB)\n",
            "\u001b[2K     \u001b[90m━━━━━━━━━━━━━━━━━━━━━━━━━━━━━━━━━━━━━━━━\u001b[0m \u001b[32m78.7/78.7 kB\u001b[0m \u001b[31m11.4 MB/s\u001b[0m eta \u001b[36m0:00:00\u001b[0m\n",
            "\u001b[?25hRequirement already satisfied: typing-extensions>=4 in /usr/local/lib/python3.10/dist-packages (from alembic>=1.5.0->optuna==3.3.0) (4.5.0)\n",
            "Requirement already satisfied: greenlet!=0.4.17 in /usr/local/lib/python3.10/dist-packages (from sqlalchemy>=1.3.0->optuna==3.3.0) (3.0.0)\n",
            "Requirement already satisfied: MarkupSafe>=0.9.2 in /usr/local/lib/python3.10/dist-packages (from Mako->alembic>=1.5.0->optuna==3.3.0) (2.1.3)\n",
            "Installing collected packages: Mako, colorlog, cmaes, alembic, optuna\n",
            "Successfully installed Mako-1.2.4 alembic-1.12.0 cmaes-0.10.0 colorlog-6.7.0 optuna-3.3.0\n"
          ]
        }
      ]
    },
    {
      "cell_type": "markdown",
      "source": [
        "## modules and variables"
      ],
      "metadata": {
        "id": "opAEP7yME5q1"
      }
    },
    {
      "cell_type": "code",
      "source": [
        "from copy import deepcopy\n",
        "import glob\n",
        "import os\n",
        "from typing import List\n",
        "import warnings\n",
        "\n",
        "import dask.dataframe as dd\n",
        "from dask import delayed\n",
        "# import lightgbm as lgb\n",
        "import matplotlib.pyplot as plt\n",
        "import numpy as np\n",
        "import optuna.integration.lightgbm as opt_lgb\n",
        "import pandas as pd\n",
        "import plotly.express as px\n",
        "# from sklearn.decomposition import PCA\n",
        "# from sklearn.linear_model import LogisticRegression, LogisticRegressionCV\n",
        "from sklearn.metrics import accuracy_score, roc_curve, roc_auc_score\n",
        "from sklearn.model_selection import train_test_split\n",
        "from sklearn.svm import SVC\n",
        "\n",
        "%matplotlib inline\n",
        "warnings.simplefilter(\"ignore\")"
      ],
      "metadata": {
        "id": "7Z0A-cudJ_xz"
      },
      "execution_count": null,
      "outputs": []
    },
    {
      "cell_type": "code",
      "source": [
        "# /content/drive/MyDrive/vilio/export/V/attattr\n",
        "DRIVE_DIR=\"/content/drive/MyDrive\"\n",
        "LLM_PATH=\"hf/meta_result.csv\"\n",
        "VILIO_DIR=\"vilio/export\"\n",
        "VILIO_MODELS=[\"O\",\"U\",\"V\"]\n",
        "SCORE_TYPE=\"attattr\"\n",
        "SUBMODELS={\n",
        "    \"O\": [\"O36\",\"O50\",\"OV50\"],\n",
        "    \"U\": [\"U36\",\"U50\",\"U72\"],\n",
        "    \"V\": [\"V135\",\"V45\",\"V90\"],\n",
        "}\n",
        "INPUT_MODALITIES=[\"img\",\"txt\"]\n",
        "INTERACTION_MODALITIES=[\"cross\",\"image\",\"text\"]\n",
        "EXPORT_DIR=\"additional_figures\"\n",
        "SPLIT=\"dev_seen\"\n",
        "RS=1991"
      ],
      "metadata": {
        "id": "mS-Z6c6iE8Yv"
      },
      "execution_count": null,
      "outputs": []
    },
    {
      "cell_type": "code",
      "source": [
        "ATTR_COL=\"score\"\n",
        "PRED_COL=\"micace\"\n",
        "plot_cols={ATTR_COL: \"MIDAS\", PRED_COL: \"miATE\"}\n",
        "\n",
        "KEEP_COLS=[\"id\",\"input_modality\",\"model_type\",\"submodel\",\"micace\",\"score\"]\n",
        "KEY_COLS=[\"id\",\"input_modality\",\"model_type\",\"submodel\"]\n",
        "\n",
        "dummy_cols = deepcopy(KEY_COLS)\n",
        "dummy_cols.remove(\"id\")"
      ],
      "metadata": {
        "id": "k3L9gFHjC8Dr"
      },
      "execution_count": null,
      "outputs": []
    },
    {
      "cell_type": "code",
      "source": [
        "os.makedirs(f\"{DRIVE_DIR}/{VILIO_DIR}/{EXPORT_DIR}\", exist_ok=True)"
      ],
      "metadata": {
        "id": "sbwGRTcg-Iee"
      },
      "execution_count": null,
      "outputs": []
    },
    {
      "cell_type": "markdown",
      "source": [
        "## functions"
      ],
      "metadata": {
        "id": "xH3VG6v-LoWZ"
      }
    },
    {
      "cell_type": "code",
      "source": [
        "def collect_lgb_results(drive_dir=DRIVE_DIR,vilio_dir=VILIO_DIR,export_dir=EXPORT_DIR,score_type=SCORE_TYPE,search_str=\"\"):\n",
        "    results = glob.glob(f\"{drive_dir}/{vilio_dir}/{export_dir}/*{search_str}*.csv\")\n",
        "    return results\n",
        "\n",
        "@delayed\n",
        "def read_csv_w_meta(file_path: str):\n",
        "    df = pd.read_csv(file_path)\n",
        "    cols = df.columns.tolist()\n",
        "    filename_seg = file_path.split(\"/\")[-1].split(\"_\")\n",
        "    df[\"model_type\"], df[\"seed\"] = filename_seg[0], filename_seg[-1].split(\".\")[0]\n",
        "    return df[[\"model_type\",\"seed\"]+cols]\n",
        "\n",
        "def read_csvs_w_meta(file_list: List[str],):\n",
        "    ddf = dd.from_delayed(\n",
        "        [read_csv_w_meta(file_path) for file_path in file_list]\n",
        "    )\n",
        "    df = ddf.compute()\n",
        "    return df\n",
        "\n",
        "def lgb_results2df(search_strs = [\"_indv_optuna_occurrences_\",\"_indv_optuna_nunique_\"]):\n",
        "    dfs = {s: None for s in search_strs}\n",
        "    for search_str in search_strs:\n",
        "        file_list = collect_lgb_results(search_str=search_str)\n",
        "        df = read_csvs_w_meta(file_list)\n",
        "        dfs[search_str] = df.copy()\n",
        "    return dfs\n",
        "\n",
        "def collect_vilio_results(drive_dir=DRIVE_DIR,vilio_dir=VILIO_DIR,score_type=SCORE_TYPE,split=SPLIT):\n",
        "    results = glob.glob(f\"{drive_dir}/{vilio_dir}/*/{score_type}/*{split}_result_*.csv\")\n",
        "    return results\n",
        "\n",
        "@delayed\n",
        "def read_csv_w_source(file_path: str):\n",
        "    df = pd.read_csv(file_path)\n",
        "    df[\"model_type\"], df[\"score_type\"], file_name = file_path.split(\"/\")[-3:]\n",
        "    df[\"input_modality\"], df[\"submodel\"] = file_name.split(\"_\")[:2]\n",
        "    df[\"interaction_type\"] = file_name.split(\"_\")[-1].split(\".\")[0]\n",
        "    return df.drop_duplicates()\n",
        "\n",
        "def read_csvs_w_source(file_list: List[str]):\n",
        "    ddf = dd.from_delayed(\n",
        "        [read_csv_w_source(file_path) for file_path in file_list]\n",
        "    )\n",
        "    df = ddf.compute()\n",
        "    return df\n",
        "\n",
        "def vilio_results2df():\n",
        "    file_list = collect_vilio_results()\n",
        "    df = read_csvs_w_source(file_list)\n",
        "    return df\n",
        "\n",
        "def ate_score(y_true: np.array, y_pred: np.array):\n",
        "    score_pos = y_pred[y_true==1].sum()/len(y_pred[y_true==1])\n",
        "    score_neg = y_pred[y_true==0].sum()/len(y_pred[y_true==0])\n",
        "    return score_pos-score_neg\n",
        "\n",
        "def convert_metric_to_method(metric: str):\n",
        "    if metric==\"ate\":\n",
        "        out = ate_score\n",
        "    elif metric==\"acc\":\n",
        "        out = accuracy_score\n",
        "    else:\n",
        "        raise NotImplementedError\n",
        "    return out\n",
        "\n",
        "def score_over_segment(df: pd.DataFrame, gt_col: str, pred_col: str, segment_col: str, metric: str=\"ate\"):\n",
        "    y_true,y_pred,segment = df[gt_col].values,df[pred_col].values,df[segment_col].values\n",
        "    out, out_col = [], [segment_col, \"cnt\", metric]\n",
        "    for s in sorted(np.unique(segment)):\n",
        "        cnt = len(y_true[segment==s])\n",
        "        calculate_score = convert_metric_to_method(metric)\n",
        "        score = calculate_score(y_true[segment==s], y_pred[segment==s])\n",
        "        out.append([s, cnt, score])\n",
        "    out_df = pd.DataFrame(out, columns=out_col)\n",
        "    return out_df"
      ],
      "metadata": {
        "id": "pcXy-PEaEyfW"
      },
      "execution_count": null,
      "outputs": []
    },
    {
      "cell_type": "markdown",
      "source": [
        "# load data"
      ],
      "metadata": {
        "id": "BDYjTMrPErCh"
      }
    },
    {
      "cell_type": "code",
      "execution_count": null,
      "metadata": {
        "colab": {
          "base_uri": "https://localhost:8080/"
        },
        "id": "oDcdP8FUymSy",
        "outputId": "9c42cde1-84e1-44e8-8e56-df20b05ec3ec"
      },
      "outputs": [
        {
          "output_type": "stream",
          "name": "stdout",
          "text": [
            "Mounted at /content/drive\n"
          ]
        }
      ],
      "source": [
        "# mount\n",
        "from google.colab import drive\n",
        "drive.mount('/content/drive', force_remount=True)"
      ]
    },
    {
      "cell_type": "code",
      "source": [
        "# vilio result\n",
        "df_vilio = vilio_results2df()\n",
        "df_vilio.head()"
      ],
      "metadata": {
        "colab": {
          "base_uri": "https://localhost:8080/",
          "height": 313
        },
        "id": "ut7lDFcgL_vZ",
        "outputId": "54a70cc4-6648-4b33-9c1a-9c01fa43a362"
      },
      "execution_count": null,
      "outputs": [
        {
          "output_type": "execute_result",
          "data": {
            "text/plain": [
              "     id  mod         score    micace  score_pos  score_neg     p_pos  \\\n",
              "0  1726  txt -7.027270e-07  0.006276   0.000007   0.000007  0.992601   \n",
              "1  2634  txt -1.827422e-06  0.996531   0.000096   0.000098  0.999385   \n",
              "2  2783  txt -5.818038e-08  0.335680   0.000012   0.000012  0.338589   \n",
              "3  3519  txt -1.605993e-06  0.994688   0.000111   0.000112  0.997842   \n",
              "4  3567  txt  6.900736e-07  0.878905   0.000053   0.000052  0.889791   \n",
              "\n",
              "      p_neg model_type score_type input_modality submodel interaction_type  \n",
              "0  0.986325          O    attattr            txt     OV50              all  \n",
              "1  0.002854          O    attattr            txt     OV50              all  \n",
              "2  0.002909          O    attattr            txt     OV50              all  \n",
              "3  0.003154          O    attattr            txt     OV50              all  \n",
              "4  0.010886          O    attattr            txt     OV50              all  "
            ],
            "text/html": [
              "\n",
              "  <div id=\"df-3a2bda69-77e7-4c66-8e64-a93ba7506094\" class=\"colab-df-container\">\n",
              "    <div>\n",
              "<style scoped>\n",
              "    .dataframe tbody tr th:only-of-type {\n",
              "        vertical-align: middle;\n",
              "    }\n",
              "\n",
              "    .dataframe tbody tr th {\n",
              "        vertical-align: top;\n",
              "    }\n",
              "\n",
              "    .dataframe thead th {\n",
              "        text-align: right;\n",
              "    }\n",
              "</style>\n",
              "<table border=\"1\" class=\"dataframe\">\n",
              "  <thead>\n",
              "    <tr style=\"text-align: right;\">\n",
              "      <th></th>\n",
              "      <th>id</th>\n",
              "      <th>mod</th>\n",
              "      <th>score</th>\n",
              "      <th>micace</th>\n",
              "      <th>score_pos</th>\n",
              "      <th>score_neg</th>\n",
              "      <th>p_pos</th>\n",
              "      <th>p_neg</th>\n",
              "      <th>model_type</th>\n",
              "      <th>score_type</th>\n",
              "      <th>input_modality</th>\n",
              "      <th>submodel</th>\n",
              "      <th>interaction_type</th>\n",
              "    </tr>\n",
              "  </thead>\n",
              "  <tbody>\n",
              "    <tr>\n",
              "      <th>0</th>\n",
              "      <td>1726</td>\n",
              "      <td>txt</td>\n",
              "      <td>-7.027270e-07</td>\n",
              "      <td>0.006276</td>\n",
              "      <td>0.000007</td>\n",
              "      <td>0.000007</td>\n",
              "      <td>0.992601</td>\n",
              "      <td>0.986325</td>\n",
              "      <td>O</td>\n",
              "      <td>attattr</td>\n",
              "      <td>txt</td>\n",
              "      <td>OV50</td>\n",
              "      <td>all</td>\n",
              "    </tr>\n",
              "    <tr>\n",
              "      <th>1</th>\n",
              "      <td>2634</td>\n",
              "      <td>txt</td>\n",
              "      <td>-1.827422e-06</td>\n",
              "      <td>0.996531</td>\n",
              "      <td>0.000096</td>\n",
              "      <td>0.000098</td>\n",
              "      <td>0.999385</td>\n",
              "      <td>0.002854</td>\n",
              "      <td>O</td>\n",
              "      <td>attattr</td>\n",
              "      <td>txt</td>\n",
              "      <td>OV50</td>\n",
              "      <td>all</td>\n",
              "    </tr>\n",
              "    <tr>\n",
              "      <th>2</th>\n",
              "      <td>2783</td>\n",
              "      <td>txt</td>\n",
              "      <td>-5.818038e-08</td>\n",
              "      <td>0.335680</td>\n",
              "      <td>0.000012</td>\n",
              "      <td>0.000012</td>\n",
              "      <td>0.338589</td>\n",
              "      <td>0.002909</td>\n",
              "      <td>O</td>\n",
              "      <td>attattr</td>\n",
              "      <td>txt</td>\n",
              "      <td>OV50</td>\n",
              "      <td>all</td>\n",
              "    </tr>\n",
              "    <tr>\n",
              "      <th>3</th>\n",
              "      <td>3519</td>\n",
              "      <td>txt</td>\n",
              "      <td>-1.605993e-06</td>\n",
              "      <td>0.994688</td>\n",
              "      <td>0.000111</td>\n",
              "      <td>0.000112</td>\n",
              "      <td>0.997842</td>\n",
              "      <td>0.003154</td>\n",
              "      <td>O</td>\n",
              "      <td>attattr</td>\n",
              "      <td>txt</td>\n",
              "      <td>OV50</td>\n",
              "      <td>all</td>\n",
              "    </tr>\n",
              "    <tr>\n",
              "      <th>4</th>\n",
              "      <td>3567</td>\n",
              "      <td>txt</td>\n",
              "      <td>6.900736e-07</td>\n",
              "      <td>0.878905</td>\n",
              "      <td>0.000053</td>\n",
              "      <td>0.000052</td>\n",
              "      <td>0.889791</td>\n",
              "      <td>0.010886</td>\n",
              "      <td>O</td>\n",
              "      <td>attattr</td>\n",
              "      <td>txt</td>\n",
              "      <td>OV50</td>\n",
              "      <td>all</td>\n",
              "    </tr>\n",
              "  </tbody>\n",
              "</table>\n",
              "</div>\n",
              "    <div class=\"colab-df-buttons\">\n",
              "\n",
              "  <div class=\"colab-df-container\">\n",
              "    <button class=\"colab-df-convert\" onclick=\"convertToInteractive('df-3a2bda69-77e7-4c66-8e64-a93ba7506094')\"\n",
              "            title=\"Convert this dataframe to an interactive table.\"\n",
              "            style=\"display:none;\">\n",
              "\n",
              "  <svg xmlns=\"http://www.w3.org/2000/svg\" height=\"24px\" viewBox=\"0 -960 960 960\">\n",
              "    <path d=\"M120-120v-720h720v720H120Zm60-500h600v-160H180v160Zm220 220h160v-160H400v160Zm0 220h160v-160H400v160ZM180-400h160v-160H180v160Zm440 0h160v-160H620v160ZM180-180h160v-160H180v160Zm440 0h160v-160H620v160Z\"/>\n",
              "  </svg>\n",
              "    </button>\n",
              "\n",
              "  <style>\n",
              "    .colab-df-container {\n",
              "      display:flex;\n",
              "      gap: 12px;\n",
              "    }\n",
              "\n",
              "    .colab-df-convert {\n",
              "      background-color: #E8F0FE;\n",
              "      border: none;\n",
              "      border-radius: 50%;\n",
              "      cursor: pointer;\n",
              "      display: none;\n",
              "      fill: #1967D2;\n",
              "      height: 32px;\n",
              "      padding: 0 0 0 0;\n",
              "      width: 32px;\n",
              "    }\n",
              "\n",
              "    .colab-df-convert:hover {\n",
              "      background-color: #E2EBFA;\n",
              "      box-shadow: 0px 1px 2px rgba(60, 64, 67, 0.3), 0px 1px 3px 1px rgba(60, 64, 67, 0.15);\n",
              "      fill: #174EA6;\n",
              "    }\n",
              "\n",
              "    .colab-df-buttons div {\n",
              "      margin-bottom: 4px;\n",
              "    }\n",
              "\n",
              "    [theme=dark] .colab-df-convert {\n",
              "      background-color: #3B4455;\n",
              "      fill: #D2E3FC;\n",
              "    }\n",
              "\n",
              "    [theme=dark] .colab-df-convert:hover {\n",
              "      background-color: #434B5C;\n",
              "      box-shadow: 0px 1px 3px 1px rgba(0, 0, 0, 0.15);\n",
              "      filter: drop-shadow(0px 1px 2px rgba(0, 0, 0, 0.3));\n",
              "      fill: #FFFFFF;\n",
              "    }\n",
              "  </style>\n",
              "\n",
              "    <script>\n",
              "      const buttonEl =\n",
              "        document.querySelector('#df-3a2bda69-77e7-4c66-8e64-a93ba7506094 button.colab-df-convert');\n",
              "      buttonEl.style.display =\n",
              "        google.colab.kernel.accessAllowed ? 'block' : 'none';\n",
              "\n",
              "      async function convertToInteractive(key) {\n",
              "        const element = document.querySelector('#df-3a2bda69-77e7-4c66-8e64-a93ba7506094');\n",
              "        const dataTable =\n",
              "          await google.colab.kernel.invokeFunction('convertToInteractive',\n",
              "                                                    [key], {});\n",
              "        if (!dataTable) return;\n",
              "\n",
              "        const docLinkHtml = 'Like what you see? Visit the ' +\n",
              "          '<a target=\"_blank\" href=https://colab.research.google.com/notebooks/data_table.ipynb>data table notebook</a>'\n",
              "          + ' to learn more about interactive tables.';\n",
              "        element.innerHTML = '';\n",
              "        dataTable['output_type'] = 'display_data';\n",
              "        await google.colab.output.renderOutput(dataTable, element);\n",
              "        const docLink = document.createElement('div');\n",
              "        docLink.innerHTML = docLinkHtml;\n",
              "        element.appendChild(docLink);\n",
              "      }\n",
              "    </script>\n",
              "  </div>\n",
              "\n",
              "\n",
              "<div id=\"df-1c4112de-71fd-4856-91f9-8386283d252c\">\n",
              "  <button class=\"colab-df-quickchart\" onclick=\"quickchart('df-1c4112de-71fd-4856-91f9-8386283d252c')\"\n",
              "            title=\"Suggest charts.\"\n",
              "            style=\"display:none;\">\n",
              "\n",
              "<svg xmlns=\"http://www.w3.org/2000/svg\" height=\"24px\"viewBox=\"0 0 24 24\"\n",
              "     width=\"24px\">\n",
              "    <g>\n",
              "        <path d=\"M19 3H5c-1.1 0-2 .9-2 2v14c0 1.1.9 2 2 2h14c1.1 0 2-.9 2-2V5c0-1.1-.9-2-2-2zM9 17H7v-7h2v7zm4 0h-2V7h2v10zm4 0h-2v-4h2v4z\"/>\n",
              "    </g>\n",
              "</svg>\n",
              "  </button>\n",
              "\n",
              "<style>\n",
              "  .colab-df-quickchart {\n",
              "      --bg-color: #E8F0FE;\n",
              "      --fill-color: #1967D2;\n",
              "      --hover-bg-color: #E2EBFA;\n",
              "      --hover-fill-color: #174EA6;\n",
              "      --disabled-fill-color: #AAA;\n",
              "      --disabled-bg-color: #DDD;\n",
              "  }\n",
              "\n",
              "  [theme=dark] .colab-df-quickchart {\n",
              "      --bg-color: #3B4455;\n",
              "      --fill-color: #D2E3FC;\n",
              "      --hover-bg-color: #434B5C;\n",
              "      --hover-fill-color: #FFFFFF;\n",
              "      --disabled-bg-color: #3B4455;\n",
              "      --disabled-fill-color: #666;\n",
              "  }\n",
              "\n",
              "  .colab-df-quickchart {\n",
              "    background-color: var(--bg-color);\n",
              "    border: none;\n",
              "    border-radius: 50%;\n",
              "    cursor: pointer;\n",
              "    display: none;\n",
              "    fill: var(--fill-color);\n",
              "    height: 32px;\n",
              "    padding: 0;\n",
              "    width: 32px;\n",
              "  }\n",
              "\n",
              "  .colab-df-quickchart:hover {\n",
              "    background-color: var(--hover-bg-color);\n",
              "    box-shadow: 0 1px 2px rgba(60, 64, 67, 0.3), 0 1px 3px 1px rgba(60, 64, 67, 0.15);\n",
              "    fill: var(--button-hover-fill-color);\n",
              "  }\n",
              "\n",
              "  .colab-df-quickchart-complete:disabled,\n",
              "  .colab-df-quickchart-complete:disabled:hover {\n",
              "    background-color: var(--disabled-bg-color);\n",
              "    fill: var(--disabled-fill-color);\n",
              "    box-shadow: none;\n",
              "  }\n",
              "\n",
              "  .colab-df-spinner {\n",
              "    border: 2px solid var(--fill-color);\n",
              "    border-color: transparent;\n",
              "    border-bottom-color: var(--fill-color);\n",
              "    animation:\n",
              "      spin 1s steps(1) infinite;\n",
              "  }\n",
              "\n",
              "  @keyframes spin {\n",
              "    0% {\n",
              "      border-color: transparent;\n",
              "      border-bottom-color: var(--fill-color);\n",
              "      border-left-color: var(--fill-color);\n",
              "    }\n",
              "    20% {\n",
              "      border-color: transparent;\n",
              "      border-left-color: var(--fill-color);\n",
              "      border-top-color: var(--fill-color);\n",
              "    }\n",
              "    30% {\n",
              "      border-color: transparent;\n",
              "      border-left-color: var(--fill-color);\n",
              "      border-top-color: var(--fill-color);\n",
              "      border-right-color: var(--fill-color);\n",
              "    }\n",
              "    40% {\n",
              "      border-color: transparent;\n",
              "      border-right-color: var(--fill-color);\n",
              "      border-top-color: var(--fill-color);\n",
              "    }\n",
              "    60% {\n",
              "      border-color: transparent;\n",
              "      border-right-color: var(--fill-color);\n",
              "    }\n",
              "    80% {\n",
              "      border-color: transparent;\n",
              "      border-right-color: var(--fill-color);\n",
              "      border-bottom-color: var(--fill-color);\n",
              "    }\n",
              "    90% {\n",
              "      border-color: transparent;\n",
              "      border-bottom-color: var(--fill-color);\n",
              "    }\n",
              "  }\n",
              "</style>\n",
              "\n",
              "  <script>\n",
              "    async function quickchart(key) {\n",
              "      const quickchartButtonEl =\n",
              "        document.querySelector('#' + key + ' button');\n",
              "      quickchartButtonEl.disabled = true;  // To prevent multiple clicks.\n",
              "      quickchartButtonEl.classList.add('colab-df-spinner');\n",
              "      try {\n",
              "        const charts = await google.colab.kernel.invokeFunction(\n",
              "            'suggestCharts', [key], {});\n",
              "      } catch (error) {\n",
              "        console.error('Error during call to suggestCharts:', error);\n",
              "      }\n",
              "      quickchartButtonEl.classList.remove('colab-df-spinner');\n",
              "      quickchartButtonEl.classList.add('colab-df-quickchart-complete');\n",
              "    }\n",
              "    (() => {\n",
              "      let quickchartButtonEl =\n",
              "        document.querySelector('#df-1c4112de-71fd-4856-91f9-8386283d252c button');\n",
              "      quickchartButtonEl.style.display =\n",
              "        google.colab.kernel.accessAllowed ? 'block' : 'none';\n",
              "    })();\n",
              "  </script>\n",
              "</div>\n",
              "    </div>\n",
              "  </div>\n"
            ]
          },
          "metadata": {},
          "execution_count": 8
        }
      ]
    },
    {
      "cell_type": "code",
      "source": [
        "# llm result\n",
        "df_llm = pd.read_csv(f\"{DRIVE_DIR}/{LLM_PATH}\")\n",
        "df_llm.head()"
      ],
      "metadata": {
        "colab": {
          "base_uri": "https://localhost:8080/",
          "height": 834
        },
        "id": "3lHsRD_IN06U",
        "outputId": "cf0d62ee-d341-4534-cda8-203adff8dbb1"
      },
      "execution_count": null,
      "outputs": [
        {
          "output_type": "execute_result",
          "data": {
            "text/plain": [
              "   image_id  few_shot_num  ans_num  is_functional  is_formatted  is_hateful  \\\n",
              "0      1456             0        0              1             1           0   \n",
              "1      1456             0        1              1             1           0   \n",
              "2      1456             1        0              1             1           0   \n",
              "3      1456             1        1              1             1           0   \n",
              "4      1456             2        0              1             1           0   \n",
              "\n",
              "   is_sarcastic  is_benign  ground_truth         image_info  \\\n",
              "0             0          1             0  01456_1_pos_max_1   \n",
              "1             0          1             1  01456_1_pos_max_1   \n",
              "2             0          1             0  01456_1_pos_max_1   \n",
              "3             1          0             1  01456_1_pos_max_1   \n",
              "4             0          1             0  01456_1_pos_max_1   \n",
              "\n",
              "                                              prompt  \\\n",
              "0  User: Out of image-caption pairs #0 to #1, sel...   \n",
              "1  User: Out of image-caption pairs #0 to #1, sel...   \n",
              "2  User: Out of image-caption pairs #0 to #1, sel...   \n",
              "3  User: Out of image-caption pairs #0 to #1, sel...   \n",
              "4  User: Out of image-caption pairs #0 to #1, sel...   \n",
              "\n",
              "                                      extracted_info  \\\n",
              "0  \\nAll pairs are benign.\\nPlease provide at lea...   \n",
              "1  \\nAll pairs are benign.\\nPlease provide at lea...   \n",
              "2  \\nThe most likely hateful or sarcastic pair is...   \n",
              "3  \\nThe most likely hateful or sarcastic pair is...   \n",
              "4  \\n\\nThe most likely hateful or sarcastic pair ...   \n",
              "\n",
              "                                      generated_text  is_hateful_or_sarcastic  \\\n",
              "0  User: Out of image-caption pairs #0 to #1, sel...                        0   \n",
              "1  User: Out of image-caption pairs #0 to #1, sel...                        0   \n",
              "2  User: Out of image-caption pairs #0 to #1, sel...                        0   \n",
              "3  User: Out of image-caption pairs #0 to #1, sel...                        1   \n",
              "4  User: Out of image-caption pairs #0 to #1, sel...                        0   \n",
              "\n",
              "   is_few_shot  \n",
              "0            0  \n",
              "1            0  \n",
              "2            1  \n",
              "3            1  \n",
              "4            1  "
            ],
            "text/html": [
              "\n",
              "  <div id=\"df-224c5111-85b7-44bd-b2bf-89b58631b517\" class=\"colab-df-container\">\n",
              "    <div>\n",
              "<style scoped>\n",
              "    .dataframe tbody tr th:only-of-type {\n",
              "        vertical-align: middle;\n",
              "    }\n",
              "\n",
              "    .dataframe tbody tr th {\n",
              "        vertical-align: top;\n",
              "    }\n",
              "\n",
              "    .dataframe thead th {\n",
              "        text-align: right;\n",
              "    }\n",
              "</style>\n",
              "<table border=\"1\" class=\"dataframe\">\n",
              "  <thead>\n",
              "    <tr style=\"text-align: right;\">\n",
              "      <th></th>\n",
              "      <th>image_id</th>\n",
              "      <th>few_shot_num</th>\n",
              "      <th>ans_num</th>\n",
              "      <th>is_functional</th>\n",
              "      <th>is_formatted</th>\n",
              "      <th>is_hateful</th>\n",
              "      <th>is_sarcastic</th>\n",
              "      <th>is_benign</th>\n",
              "      <th>ground_truth</th>\n",
              "      <th>image_info</th>\n",
              "      <th>prompt</th>\n",
              "      <th>extracted_info</th>\n",
              "      <th>generated_text</th>\n",
              "      <th>is_hateful_or_sarcastic</th>\n",
              "      <th>is_few_shot</th>\n",
              "    </tr>\n",
              "  </thead>\n",
              "  <tbody>\n",
              "    <tr>\n",
              "      <th>0</th>\n",
              "      <td>1456</td>\n",
              "      <td>0</td>\n",
              "      <td>0</td>\n",
              "      <td>1</td>\n",
              "      <td>1</td>\n",
              "      <td>0</td>\n",
              "      <td>0</td>\n",
              "      <td>1</td>\n",
              "      <td>0</td>\n",
              "      <td>01456_1_pos_max_1</td>\n",
              "      <td>User: Out of image-caption pairs #0 to #1, sel...</td>\n",
              "      <td>\\nAll pairs are benign.\\nPlease provide at lea...</td>\n",
              "      <td>User: Out of image-caption pairs #0 to #1, sel...</td>\n",
              "      <td>0</td>\n",
              "      <td>0</td>\n",
              "    </tr>\n",
              "    <tr>\n",
              "      <th>1</th>\n",
              "      <td>1456</td>\n",
              "      <td>0</td>\n",
              "      <td>1</td>\n",
              "      <td>1</td>\n",
              "      <td>1</td>\n",
              "      <td>0</td>\n",
              "      <td>0</td>\n",
              "      <td>1</td>\n",
              "      <td>1</td>\n",
              "      <td>01456_1_pos_max_1</td>\n",
              "      <td>User: Out of image-caption pairs #0 to #1, sel...</td>\n",
              "      <td>\\nAll pairs are benign.\\nPlease provide at lea...</td>\n",
              "      <td>User: Out of image-caption pairs #0 to #1, sel...</td>\n",
              "      <td>0</td>\n",
              "      <td>0</td>\n",
              "    </tr>\n",
              "    <tr>\n",
              "      <th>2</th>\n",
              "      <td>1456</td>\n",
              "      <td>1</td>\n",
              "      <td>0</td>\n",
              "      <td>1</td>\n",
              "      <td>1</td>\n",
              "      <td>0</td>\n",
              "      <td>0</td>\n",
              "      <td>1</td>\n",
              "      <td>0</td>\n",
              "      <td>01456_1_pos_max_1</td>\n",
              "      <td>User: Out of image-caption pairs #0 to #1, sel...</td>\n",
              "      <td>\\nThe most likely hateful or sarcastic pair is...</td>\n",
              "      <td>User: Out of image-caption pairs #0 to #1, sel...</td>\n",
              "      <td>0</td>\n",
              "      <td>1</td>\n",
              "    </tr>\n",
              "    <tr>\n",
              "      <th>3</th>\n",
              "      <td>1456</td>\n",
              "      <td>1</td>\n",
              "      <td>1</td>\n",
              "      <td>1</td>\n",
              "      <td>1</td>\n",
              "      <td>0</td>\n",
              "      <td>1</td>\n",
              "      <td>0</td>\n",
              "      <td>1</td>\n",
              "      <td>01456_1_pos_max_1</td>\n",
              "      <td>User: Out of image-caption pairs #0 to #1, sel...</td>\n",
              "      <td>\\nThe most likely hateful or sarcastic pair is...</td>\n",
              "      <td>User: Out of image-caption pairs #0 to #1, sel...</td>\n",
              "      <td>1</td>\n",
              "      <td>1</td>\n",
              "    </tr>\n",
              "    <tr>\n",
              "      <th>4</th>\n",
              "      <td>1456</td>\n",
              "      <td>2</td>\n",
              "      <td>0</td>\n",
              "      <td>1</td>\n",
              "      <td>1</td>\n",
              "      <td>0</td>\n",
              "      <td>0</td>\n",
              "      <td>1</td>\n",
              "      <td>0</td>\n",
              "      <td>01456_1_pos_max_1</td>\n",
              "      <td>User: Out of image-caption pairs #0 to #1, sel...</td>\n",
              "      <td>\\n\\nThe most likely hateful or sarcastic pair ...</td>\n",
              "      <td>User: Out of image-caption pairs #0 to #1, sel...</td>\n",
              "      <td>0</td>\n",
              "      <td>1</td>\n",
              "    </tr>\n",
              "  </tbody>\n",
              "</table>\n",
              "</div>\n",
              "    <div class=\"colab-df-buttons\">\n",
              "\n",
              "  <div class=\"colab-df-container\">\n",
              "    <button class=\"colab-df-convert\" onclick=\"convertToInteractive('df-224c5111-85b7-44bd-b2bf-89b58631b517')\"\n",
              "            title=\"Convert this dataframe to an interactive table.\"\n",
              "            style=\"display:none;\">\n",
              "\n",
              "  <svg xmlns=\"http://www.w3.org/2000/svg\" height=\"24px\" viewBox=\"0 -960 960 960\">\n",
              "    <path d=\"M120-120v-720h720v720H120Zm60-500h600v-160H180v160Zm220 220h160v-160H400v160Zm0 220h160v-160H400v160ZM180-400h160v-160H180v160Zm440 0h160v-160H620v160ZM180-180h160v-160H180v160Zm440 0h160v-160H620v160Z\"/>\n",
              "  </svg>\n",
              "    </button>\n",
              "\n",
              "  <style>\n",
              "    .colab-df-container {\n",
              "      display:flex;\n",
              "      gap: 12px;\n",
              "    }\n",
              "\n",
              "    .colab-df-convert {\n",
              "      background-color: #E8F0FE;\n",
              "      border: none;\n",
              "      border-radius: 50%;\n",
              "      cursor: pointer;\n",
              "      display: none;\n",
              "      fill: #1967D2;\n",
              "      height: 32px;\n",
              "      padding: 0 0 0 0;\n",
              "      width: 32px;\n",
              "    }\n",
              "\n",
              "    .colab-df-convert:hover {\n",
              "      background-color: #E2EBFA;\n",
              "      box-shadow: 0px 1px 2px rgba(60, 64, 67, 0.3), 0px 1px 3px 1px rgba(60, 64, 67, 0.15);\n",
              "      fill: #174EA6;\n",
              "    }\n",
              "\n",
              "    .colab-df-buttons div {\n",
              "      margin-bottom: 4px;\n",
              "    }\n",
              "\n",
              "    [theme=dark] .colab-df-convert {\n",
              "      background-color: #3B4455;\n",
              "      fill: #D2E3FC;\n",
              "    }\n",
              "\n",
              "    [theme=dark] .colab-df-convert:hover {\n",
              "      background-color: #434B5C;\n",
              "      box-shadow: 0px 1px 3px 1px rgba(0, 0, 0, 0.15);\n",
              "      filter: drop-shadow(0px 1px 2px rgba(0, 0, 0, 0.3));\n",
              "      fill: #FFFFFF;\n",
              "    }\n",
              "  </style>\n",
              "\n",
              "    <script>\n",
              "      const buttonEl =\n",
              "        document.querySelector('#df-224c5111-85b7-44bd-b2bf-89b58631b517 button.colab-df-convert');\n",
              "      buttonEl.style.display =\n",
              "        google.colab.kernel.accessAllowed ? 'block' : 'none';\n",
              "\n",
              "      async function convertToInteractive(key) {\n",
              "        const element = document.querySelector('#df-224c5111-85b7-44bd-b2bf-89b58631b517');\n",
              "        const dataTable =\n",
              "          await google.colab.kernel.invokeFunction('convertToInteractive',\n",
              "                                                    [key], {});\n",
              "        if (!dataTable) return;\n",
              "\n",
              "        const docLinkHtml = 'Like what you see? Visit the ' +\n",
              "          '<a target=\"_blank\" href=https://colab.research.google.com/notebooks/data_table.ipynb>data table notebook</a>'\n",
              "          + ' to learn more about interactive tables.';\n",
              "        element.innerHTML = '';\n",
              "        dataTable['output_type'] = 'display_data';\n",
              "        await google.colab.output.renderOutput(dataTable, element);\n",
              "        const docLink = document.createElement('div');\n",
              "        docLink.innerHTML = docLinkHtml;\n",
              "        element.appendChild(docLink);\n",
              "      }\n",
              "    </script>\n",
              "  </div>\n",
              "\n",
              "\n",
              "<div id=\"df-59f66764-0110-4c53-a7fd-e6cbbdbfefeb\">\n",
              "  <button class=\"colab-df-quickchart\" onclick=\"quickchart('df-59f66764-0110-4c53-a7fd-e6cbbdbfefeb')\"\n",
              "            title=\"Suggest charts.\"\n",
              "            style=\"display:none;\">\n",
              "\n",
              "<svg xmlns=\"http://www.w3.org/2000/svg\" height=\"24px\"viewBox=\"0 0 24 24\"\n",
              "     width=\"24px\">\n",
              "    <g>\n",
              "        <path d=\"M19 3H5c-1.1 0-2 .9-2 2v14c0 1.1.9 2 2 2h14c1.1 0 2-.9 2-2V5c0-1.1-.9-2-2-2zM9 17H7v-7h2v7zm4 0h-2V7h2v10zm4 0h-2v-4h2v4z\"/>\n",
              "    </g>\n",
              "</svg>\n",
              "  </button>\n",
              "\n",
              "<style>\n",
              "  .colab-df-quickchart {\n",
              "      --bg-color: #E8F0FE;\n",
              "      --fill-color: #1967D2;\n",
              "      --hover-bg-color: #E2EBFA;\n",
              "      --hover-fill-color: #174EA6;\n",
              "      --disabled-fill-color: #AAA;\n",
              "      --disabled-bg-color: #DDD;\n",
              "  }\n",
              "\n",
              "  [theme=dark] .colab-df-quickchart {\n",
              "      --bg-color: #3B4455;\n",
              "      --fill-color: #D2E3FC;\n",
              "      --hover-bg-color: #434B5C;\n",
              "      --hover-fill-color: #FFFFFF;\n",
              "      --disabled-bg-color: #3B4455;\n",
              "      --disabled-fill-color: #666;\n",
              "  }\n",
              "\n",
              "  .colab-df-quickchart {\n",
              "    background-color: var(--bg-color);\n",
              "    border: none;\n",
              "    border-radius: 50%;\n",
              "    cursor: pointer;\n",
              "    display: none;\n",
              "    fill: var(--fill-color);\n",
              "    height: 32px;\n",
              "    padding: 0;\n",
              "    width: 32px;\n",
              "  }\n",
              "\n",
              "  .colab-df-quickchart:hover {\n",
              "    background-color: var(--hover-bg-color);\n",
              "    box-shadow: 0 1px 2px rgba(60, 64, 67, 0.3), 0 1px 3px 1px rgba(60, 64, 67, 0.15);\n",
              "    fill: var(--button-hover-fill-color);\n",
              "  }\n",
              "\n",
              "  .colab-df-quickchart-complete:disabled,\n",
              "  .colab-df-quickchart-complete:disabled:hover {\n",
              "    background-color: var(--disabled-bg-color);\n",
              "    fill: var(--disabled-fill-color);\n",
              "    box-shadow: none;\n",
              "  }\n",
              "\n",
              "  .colab-df-spinner {\n",
              "    border: 2px solid var(--fill-color);\n",
              "    border-color: transparent;\n",
              "    border-bottom-color: var(--fill-color);\n",
              "    animation:\n",
              "      spin 1s steps(1) infinite;\n",
              "  }\n",
              "\n",
              "  @keyframes spin {\n",
              "    0% {\n",
              "      border-color: transparent;\n",
              "      border-bottom-color: var(--fill-color);\n",
              "      border-left-color: var(--fill-color);\n",
              "    }\n",
              "    20% {\n",
              "      border-color: transparent;\n",
              "      border-left-color: var(--fill-color);\n",
              "      border-top-color: var(--fill-color);\n",
              "    }\n",
              "    30% {\n",
              "      border-color: transparent;\n",
              "      border-left-color: var(--fill-color);\n",
              "      border-top-color: var(--fill-color);\n",
              "      border-right-color: var(--fill-color);\n",
              "    }\n",
              "    40% {\n",
              "      border-color: transparent;\n",
              "      border-right-color: var(--fill-color);\n",
              "      border-top-color: var(--fill-color);\n",
              "    }\n",
              "    60% {\n",
              "      border-color: transparent;\n",
              "      border-right-color: var(--fill-color);\n",
              "    }\n",
              "    80% {\n",
              "      border-color: transparent;\n",
              "      border-right-color: var(--fill-color);\n",
              "      border-bottom-color: var(--fill-color);\n",
              "    }\n",
              "    90% {\n",
              "      border-color: transparent;\n",
              "      border-bottom-color: var(--fill-color);\n",
              "    }\n",
              "  }\n",
              "</style>\n",
              "\n",
              "  <script>\n",
              "    async function quickchart(key) {\n",
              "      const quickchartButtonEl =\n",
              "        document.querySelector('#' + key + ' button');\n",
              "      quickchartButtonEl.disabled = true;  // To prevent multiple clicks.\n",
              "      quickchartButtonEl.classList.add('colab-df-spinner');\n",
              "      try {\n",
              "        const charts = await google.colab.kernel.invokeFunction(\n",
              "            'suggestCharts', [key], {});\n",
              "      } catch (error) {\n",
              "        console.error('Error during call to suggestCharts:', error);\n",
              "      }\n",
              "      quickchartButtonEl.classList.remove('colab-df-spinner');\n",
              "      quickchartButtonEl.classList.add('colab-df-quickchart-complete');\n",
              "    }\n",
              "    (() => {\n",
              "      let quickchartButtonEl =\n",
              "        document.querySelector('#df-59f66764-0110-4c53-a7fd-e6cbbdbfefeb button');\n",
              "      quickchartButtonEl.style.display =\n",
              "        google.colab.kernel.accessAllowed ? 'block' : 'none';\n",
              "    })();\n",
              "  </script>\n",
              "</div>\n",
              "    </div>\n",
              "  </div>\n"
            ]
          },
          "metadata": {},
          "execution_count": 9
        }
      ]
    },
    {
      "cell_type": "markdown",
      "source": [
        "# analysis"
      ],
      "metadata": {
        "id": "YmoelbRZy5P_"
      }
    },
    {
      "cell_type": "markdown",
      "source": [
        "## llm"
      ],
      "metadata": {
        "id": "SVVxx-U5y7qa"
      }
    },
    {
      "cell_type": "code",
      "source": [
        "np.random.seed(seed=RS)\n",
        "df_llm[\"random_label\"] = np.random.randint(2, size=len(df_llm))"
      ],
      "metadata": {
        "id": "YdujBD97gtp4"
      },
      "execution_count": null,
      "outputs": []
    },
    {
      "cell_type": "code",
      "source": [
        "df_llm[\"is_hateful_or_sarcastic\"] = (np.logical_or(df_llm[\"is_hateful\"], df_llm[\"is_sarcastic\"])).astype(int)\n",
        "df_llm[\"is_few_shot\"] = 0\n",
        "df_llm.loc[df_llm[\"few_shot_num\"] != 0, \"is_few_shot\"] = 1"
      ],
      "metadata": {
        "id": "L3D-Fss5mVbn"
      },
      "execution_count": null,
      "outputs": []
    },
    {
      "cell_type": "code",
      "source": [
        "df_llm[\"is_few_shot\"] = 0\n",
        "df_llm.loc[df_llm[\"few_shot_num\"] != 0, \"is_few_shot\"] = 1"
      ],
      "metadata": {
        "id": "LxPYGkbVNAzq"
      },
      "execution_count": null,
      "outputs": []
    },
    {
      "cell_type": "code",
      "source": [
        "# label TTC-absent sample as incorrect\n",
        "df_llm[\"gt_flipped\"] = df_llm[\"ground_truth\"].apply(lambda x: int(not x))\n",
        "df_llm.loc[df_llm[\"is_functional\"]==0, [\"is_functional\", \"ground_truth\", \"is_hateful\"]].value_counts()"
      ],
      "metadata": {
        "id": "XO100uctt1TV",
        "colab": {
          "base_uri": "https://localhost:8080/"
        },
        "outputId": "10a1b0b4-5c1b-4321-d86e-c92854916558"
      },
      "execution_count": null,
      "outputs": [
        {
          "output_type": "execute_result",
          "data": {
            "text/plain": [
              "is_functional  ground_truth  is_hateful\n",
              "0              0             0             41\n",
              "               1             0             25\n",
              "dtype: int64"
            ]
          },
          "metadata": {},
          "execution_count": 12
        }
      ]
    },
    {
      "cell_type": "code",
      "source": [
        "# use flipped gt label in case of non-functional response\n",
        "df_llm[\"is_hateful_ttc\"] = df_llm[\"is_hateful\"].copy()\n",
        "df_llm.loc[df_llm[\"is_functional\"]==0, \"is_hateful_ttc\"] = df_llm.loc[df_llm[\"is_functional\"]==0, \"gt_flipped\"]\n",
        "df_llm.loc[df_llm[\"is_functional\"]==0, [\"is_functional\", \"ground_truth\", \"is_hateful\", \"is_hateful_ttc\"]].value_counts()\n"
      ],
      "metadata": {
        "colab": {
          "base_uri": "https://localhost:8080/"
        },
        "id": "Hb7e2F4qz6h-",
        "outputId": "c65f574a-ea36-4ac4-b1af-5a17ba64e10d"
      },
      "execution_count": null,
      "outputs": [
        {
          "output_type": "execute_result",
          "data": {
            "text/plain": [
              "is_functional  ground_truth  is_hateful  is_hateful_ttc\n",
              "0              0             0           1                 41\n",
              "               1             0           0                 25\n",
              "dtype: int64"
            ]
          },
          "metadata": {},
          "execution_count": 13
        }
      ]
    },
    {
      "cell_type": "code",
      "source": [
        "# use flipped gt label in case of non-functional response\n",
        "df_llm[\"is_hateful_or_sarcastic_ttc\"] = df_llm[\"is_hateful_or_sarcastic\"].copy()\n",
        "df_llm.loc[df_llm[\"is_functional\"]==0, \"is_hateful_or_sarcastic_ttc\"] = df_llm.loc[df_llm[\"is_functional\"]==0, \"gt_flipped\"]\n",
        "df_llm.loc[df_llm[\"is_functional\"]==0, [\"is_functional\", \"ground_truth\", \"is_hateful_or_sarcastic\", \"is_hateful_or_sarcastic_ttc\"]].value_counts()"
      ],
      "metadata": {
        "colab": {
          "base_uri": "https://localhost:8080/"
        },
        "id": "NaMPTW6Zmwmc",
        "outputId": "4528c6cf-1660-4ae0-8cd3-a90b4655c32a"
      },
      "execution_count": null,
      "outputs": [
        {
          "output_type": "execute_result",
          "data": {
            "text/plain": [
              "is_functional  ground_truth  is_hateful_or_sarcastic  is_hateful_or_sarcastic_ttc\n",
              "0              0             0                        1                              41\n",
              "               1             0                        0                              25\n",
              "dtype: int64"
            ]
          },
          "metadata": {},
          "execution_count": 14
        }
      ]
    },
    {
      "cell_type": "code",
      "source": [
        "df_llm_ttc = df_llm[df_llm[\"is_functional\"]==1].reset_index(drop=True)"
      ],
      "metadata": {
        "id": "fiqWBNgyd1SA"
      },
      "execution_count": null,
      "outputs": []
    },
    {
      "cell_type": "code",
      "source": [
        "# before flipping\n",
        "for metric in [\"acc\",\"ate\"]:\n",
        "    print(metric)\n",
        "    print(\"all result\")\n",
        "    print(\"random\")\n",
        "    print(score_over_segment(df_llm, \"ground_truth\", \"random_label\", \"few_shot_num\", metric=metric))\n",
        "    print(\"model\")\n",
        "    print(score_over_segment(df_llm, \"ground_truth\", \"is_hateful\", \"few_shot_num\", metric=metric))\n",
        "    print(\"---------------------------------------\")\n",
        "    print(\"ttc\")\n",
        "    print(\"random\")\n",
        "    print(score_over_segment(df_llm_ttc, \"ground_truth\", \"random_label\", \"few_shot_num\", metric=metric))\n",
        "    print(\"model\")\n",
        "    print(score_over_segment(df_llm_ttc, \"ground_truth\", \"is_hateful\", \"few_shot_num\", metric=metric))\n",
        "    print(\"=======================================\")"
      ],
      "metadata": {
        "colab": {
          "base_uri": "https://localhost:8080/"
        },
        "id": "FGC8rv-x1SBK",
        "outputId": "cb2fbe60-3650-44ab-c009-384d88d22a64"
      },
      "execution_count": null,
      "outputs": [
        {
          "output_type": "stream",
          "name": "stdout",
          "text": [
            "acc\n",
            "all result\n",
            "random\n",
            "   few_shot_num  cnt       acc\n",
            "0             0  264  0.530303\n",
            "1             1  264  0.473485\n",
            "2             2  264  0.507576\n",
            "3             3  191  0.534031\n",
            "4             4   14  0.500000\n",
            "model\n",
            "   few_shot_num  cnt       acc\n",
            "0             0  264  0.617424\n",
            "1             1  264  0.628788\n",
            "2             2  264  0.625000\n",
            "3             3  191  0.591623\n",
            "4             4   14  0.642857\n",
            "---------------------------------------\n",
            "ttc\n",
            "random\n",
            "   few_shot_num  cnt       acc\n",
            "0             0  198  0.540404\n",
            "1             1  264  0.473485\n",
            "2             2  264  0.507576\n",
            "3             3  191  0.534031\n",
            "4             4   14  0.500000\n",
            "model\n",
            "   few_shot_num  cnt       acc\n",
            "0             0  198  0.616162\n",
            "1             1  264  0.628788\n",
            "2             2  264  0.625000\n",
            "3             3  191  0.591623\n",
            "4             4   14  0.642857\n",
            "=======================================\n",
            "ate\n",
            "all result\n",
            "random\n",
            "   few_shot_num  cnt       ate\n",
            "0             0  264  0.061931\n",
            "1             1  264 -0.045227\n",
            "2             2  264 -0.003317\n",
            "3             3  191  0.039540\n",
            "4             4   14  0.000000\n",
            "model\n",
            "   few_shot_num  cnt       ate\n",
            "0             0  264  0.075378\n",
            "1             1  264  0.111500\n",
            "2             2  264  0.122776\n",
            "3             3  191  0.063678\n",
            "4             4   14  0.285714\n",
            "---------------------------------------\n",
            "ttc\n",
            "random\n",
            "   few_shot_num  cnt       ate\n",
            "0             0  198  0.093590\n",
            "1             1  264 -0.045227\n",
            "2             2  264 -0.003317\n",
            "3             3  191  0.039540\n",
            "4             4   14  0.000000\n",
            "model\n",
            "   few_shot_num  cnt       ate\n",
            "0             0  198  0.097436\n",
            "1             1  264  0.111500\n",
            "2             2  264  0.122776\n",
            "3             3  191  0.063678\n",
            "4             4   14  0.285714\n",
            "=======================================\n"
          ]
        }
      ]
    },
    {
      "cell_type": "code",
      "source": [
        "# before flipping - few_shot or not\n",
        "for metric in [\"acc\",\"ate\"]:\n",
        "    print(metric)\n",
        "    print(\"all result\")\n",
        "    print(\"random\")\n",
        "    print(score_over_segment(df_llm, \"ground_truth\", \"random_label\", \"is_few_shot\", metric=metric))\n",
        "    print(\"model\")\n",
        "    print(score_over_segment(df_llm, \"ground_truth\", \"is_hateful\", \"is_few_shot\", metric=metric))\n",
        "    print(\"---------------------------------------\")\n",
        "    print(\"ttc\")\n",
        "    print(\"random\")\n",
        "    print(score_over_segment(df_llm_ttc, \"ground_truth\", \"random_label\", \"is_few_shot\", metric=metric))\n",
        "    print(\"model\")\n",
        "    print(score_over_segment(df_llm_ttc, \"ground_truth\", \"is_hateful\", \"is_few_shot\", metric=metric))\n",
        "    print(\"=======================================\")"
      ],
      "metadata": {
        "colab": {
          "base_uri": "https://localhost:8080/"
        },
        "id": "V20jyCr_icEX",
        "outputId": "7a8802d3-25d1-4cce-b1b9-c8589fe599e9"
      },
      "execution_count": null,
      "outputs": [
        {
          "output_type": "stream",
          "name": "stdout",
          "text": [
            "acc\n",
            "all result\n",
            "random\n",
            "   is_few_shot  cnt       acc\n",
            "0            0  264  0.530303\n",
            "1            1  733  0.502046\n",
            "model\n",
            "   is_few_shot  cnt       acc\n",
            "0            0  264  0.617424\n",
            "1            1  733  0.618008\n",
            "---------------------------------------\n",
            "ttc\n",
            "random\n",
            "   is_few_shot  cnt       acc\n",
            "0            0  198  0.540404\n",
            "1            1  733  0.502046\n",
            "model\n",
            "   is_few_shot  cnt       acc\n",
            "0            0  198  0.616162\n",
            "1            1  733  0.618008\n",
            "=======================================\n",
            "ate\n",
            "all result\n",
            "random\n",
            "   is_few_shot  cnt       ate\n",
            "0            0  264  0.061931\n",
            "1            1  733 -0.007654\n",
            "model\n",
            "   is_few_shot  cnt       ate\n",
            "0            0  264  0.075378\n",
            "1            1  733  0.107405\n",
            "---------------------------------------\n",
            "ttc\n",
            "random\n",
            "   is_few_shot  cnt       ate\n",
            "0            0  198  0.093590\n",
            "1            1  733 -0.007654\n",
            "model\n",
            "   is_few_shot  cnt       ate\n",
            "0            0  198  0.097436\n",
            "1            1  733  0.107405\n",
            "=======================================\n"
          ]
        }
      ]
    },
    {
      "cell_type": "code",
      "source": [
        "# after flipping\n",
        "for metric in [\"acc\",\"ate\"]:\n",
        "    print(metric)\n",
        "    print(\"all result\")\n",
        "    print(\"random\")\n",
        "    print(score_over_segment(df_llm, \"ground_truth\", \"random_label\", \"few_shot_num\", metric=metric))\n",
        "    print(\"model\")\n",
        "    print(score_over_segment(df_llm, \"ground_truth\", \"is_hateful_ttc\", \"few_shot_num\", metric=metric))\n",
        "    print(\"---------------------------------------\")\n",
        "    print(\"ttc\")\n",
        "    print(\"random\")\n",
        "    print(score_over_segment(df_llm_ttc, \"ground_truth\", \"random_label\", \"few_shot_num\", metric=metric))\n",
        "    print(\"model\")\n",
        "    print(score_over_segment(df_llm_ttc, \"ground_truth\", \"is_hateful_ttc\", \"few_shot_num\", metric=metric))\n",
        "    print(\"=======================================\")"
      ],
      "metadata": {
        "colab": {
          "base_uri": "https://localhost:8080/"
        },
        "id": "C2mv5b6Eim4f",
        "outputId": "2e59f215-b3bc-4ed1-f240-13144f6166bf"
      },
      "execution_count": null,
      "outputs": [
        {
          "output_type": "stream",
          "name": "stdout",
          "text": [
            "acc\n",
            "all result\n",
            "random\n",
            "   few_shot_num  cnt       acc\n",
            "0             0  264  0.530303\n",
            "1             1  264  0.473485\n",
            "2             2  264  0.507576\n",
            "3             3  191  0.534031\n",
            "4             4   14  0.500000\n",
            "model\n",
            "   few_shot_num  cnt       acc\n",
            "0             0  264  0.462121\n",
            "1             1  264  0.628788\n",
            "2             2  264  0.625000\n",
            "3             3  191  0.591623\n",
            "4             4   14  0.642857\n",
            "---------------------------------------\n",
            "ttc\n",
            "random\n",
            "   few_shot_num  cnt       acc\n",
            "0             0  198  0.540404\n",
            "1             1  264  0.473485\n",
            "2             2  264  0.507576\n",
            "3             3  191  0.534031\n",
            "4             4   14  0.500000\n",
            "model\n",
            "   few_shot_num  cnt       acc\n",
            "0             0  198  0.616162\n",
            "1             1  264  0.628788\n",
            "2             2  264  0.625000\n",
            "3             3  191  0.591623\n",
            "4             4   14  0.642857\n",
            "=======================================\n",
            "ate\n",
            "all result\n",
            "random\n",
            "   few_shot_num  cnt       ate\n",
            "0             0  264  0.061931\n",
            "1             1  264 -0.045227\n",
            "2             2  264 -0.003317\n",
            "3             3  191  0.039540\n",
            "4             4   14  0.000000\n",
            "model\n",
            "   few_shot_num  cnt       ate\n",
            "0             0  264 -0.179280\n",
            "1             1  264  0.111500\n",
            "2             2  264  0.122776\n",
            "3             3  191  0.063678\n",
            "4             4   14  0.285714\n",
            "---------------------------------------\n",
            "ttc\n",
            "random\n",
            "   few_shot_num  cnt       ate\n",
            "0             0  198  0.093590\n",
            "1             1  264 -0.045227\n",
            "2             2  264 -0.003317\n",
            "3             3  191  0.039540\n",
            "4             4   14  0.000000\n",
            "model\n",
            "   few_shot_num  cnt       ate\n",
            "0             0  198  0.097436\n",
            "1             1  264  0.111500\n",
            "2             2  264  0.122776\n",
            "3             3  191  0.063678\n",
            "4             4   14  0.285714\n",
            "=======================================\n"
          ]
        }
      ]
    },
    {
      "cell_type": "code",
      "source": [
        "# after flipping - few_shot or not\n",
        "for metric in [\"acc\",\"ate\"]:\n",
        "    print(metric)\n",
        "    print(\"all result\")\n",
        "    print(\"random\")\n",
        "    print(score_over_segment(df_llm, \"ground_truth\", \"random_label\", \"is_few_shot\", metric=metric))\n",
        "    print(\"model\")\n",
        "    print(score_over_segment(df_llm, \"ground_truth\", \"is_hateful_ttc\", \"is_few_shot\", metric=metric))\n",
        "    print(\"---------------------------------------\")\n",
        "    print(\"ttc\")\n",
        "    print(\"random\")\n",
        "    print(score_over_segment(df_llm_ttc, \"ground_truth\", \"random_label\", \"is_few_shot\", metric=metric))\n",
        "    print(\"model\")\n",
        "    print(score_over_segment(df_llm_ttc, \"ground_truth\", \"is_hateful_ttc\", \"is_few_shot\", metric=metric))\n",
        "    print(\"=======================================\")"
      ],
      "metadata": {
        "colab": {
          "base_uri": "https://localhost:8080/"
        },
        "id": "LGnTzz4xi9Yp",
        "outputId": "df730378-939f-4d55-fbe3-0e1d1b1c6107"
      },
      "execution_count": null,
      "outputs": [
        {
          "output_type": "stream",
          "name": "stdout",
          "text": [
            "acc\n",
            "all result\n",
            "random\n",
            "   is_few_shot  cnt       acc\n",
            "0            0  264  0.530303\n",
            "1            1  733  0.502046\n",
            "model\n",
            "   is_few_shot  cnt       acc\n",
            "0            0  264  0.462121\n",
            "1            1  733  0.618008\n",
            "---------------------------------------\n",
            "ttc\n",
            "random\n",
            "   is_few_shot  cnt       acc\n",
            "0            0  198  0.540404\n",
            "1            1  733  0.502046\n",
            "model\n",
            "   is_few_shot  cnt       acc\n",
            "0            0  198  0.616162\n",
            "1            1  733  0.618008\n",
            "=======================================\n",
            "ate\n",
            "all result\n",
            "random\n",
            "   is_few_shot  cnt       ate\n",
            "0            0  264  0.061931\n",
            "1            1  733 -0.007654\n",
            "model\n",
            "   is_few_shot  cnt       ate\n",
            "0            0  264 -0.179280\n",
            "1            1  733  0.107405\n",
            "---------------------------------------\n",
            "ttc\n",
            "random\n",
            "   is_few_shot  cnt       ate\n",
            "0            0  198  0.093590\n",
            "1            1  733 -0.007654\n",
            "model\n",
            "   is_few_shot  cnt       ate\n",
            "0            0  198  0.097436\n",
            "1            1  733  0.107405\n",
            "=======================================\n"
          ]
        }
      ]
    },
    {
      "cell_type": "code",
      "source": [
        "# after flipping - hateful+sarcastic\n",
        "for metric in [\"acc\",\"ate\"]:\n",
        "    print(metric)\n",
        "    print(\"all result\")\n",
        "    # print(\"random\")\n",
        "    # print(score_over_segment(df_llm, \"ground_truth\", \"random_label\", \"few_shot_num\", metric=metric))\n",
        "    print(\"model\")\n",
        "    print(score_over_segment(df_llm, \"ground_truth\", \"is_hateful_or_sarcastic_ttc\", \"few_shot_num\", metric=metric))\n",
        "    print(\"---------------------------------------\")\n",
        "    print(\"ttc\")\n",
        "    # print(\"random\")\n",
        "    # print(score_over_segment(df_llm_ttc, \"ground_truth\", \"random_label\", \"few_shot_num\", metric=metric))\n",
        "    print(\"model\")\n",
        "    print(score_over_segment(df_llm_ttc, \"ground_truth\", \"is_hateful_or_sarcastic_ttc\", \"few_shot_num\", metric=metric))\n",
        "    print(\"=======================================\")"
      ],
      "metadata": {
        "colab": {
          "base_uri": "https://localhost:8080/"
        },
        "id": "me9jht55mpDk",
        "outputId": "71208f8c-db4c-480f-b589-bd033f99a2ae"
      },
      "execution_count": null,
      "outputs": [
        {
          "output_type": "stream",
          "name": "stdout",
          "text": [
            "acc\n",
            "all result\n",
            "model\n",
            "   few_shot_num  cnt       acc\n",
            "0             0  264  0.469697\n",
            "1             1  264  0.606061\n",
            "2             2  264  0.609848\n",
            "3             3  191  0.575916\n",
            "4             4   14  0.714286\n",
            "---------------------------------------\n",
            "ttc\n",
            "model\n",
            "   few_shot_num  cnt       acc\n",
            "0             0  198  0.626263\n",
            "1             1  264  0.606061\n",
            "2             2  264  0.609848\n",
            "3             3  191  0.575916\n",
            "4             4   14  0.714286\n",
            "=======================================\n",
            "ate\n",
            "all result\n",
            "model\n",
            "   few_shot_num  cnt       ate\n",
            "0             0  264 -0.145872\n",
            "1             1  264  0.154676\n",
            "2             2  264  0.129410\n",
            "3             3  191  0.070805\n",
            "4             4   14  0.428571\n",
            "---------------------------------------\n",
            "ttc\n",
            "model\n",
            "   few_shot_num  cnt       ate\n",
            "0             0  198  0.141026\n",
            "1             1  264  0.154676\n",
            "2             2  264  0.129410\n",
            "3             3  191  0.070805\n",
            "4             4   14  0.428571\n",
            "=======================================\n"
          ]
        }
      ]
    },
    {
      "cell_type": "markdown",
      "source": [
        "## Vilio"
      ],
      "metadata": {
        "id": "lvwcRzGABNVz"
      }
    },
    {
      "cell_type": "markdown",
      "source": [
        "### preprocessing"
      ],
      "metadata": {
        "id": "HhBBz9XSX0yp"
      }
    },
    {
      "cell_type": "markdown",
      "source": [
        "#### shared 1"
      ],
      "metadata": {
        "id": "HyVUBZTKwI-J"
      }
    },
    {
      "cell_type": "code",
      "source": [
        "# limit scope\n",
        "score_type=\"attattr\"\n",
        "# input_modality=\"txt\"\n",
        "# submodel=\"U72\"\n",
        "df_scope = df_vilio[\n",
        "    (df_vilio[\"score_type\"]==score_type)\n",
        "    # &(df_horizontal[\"input_modality\"]==input_modality)\n",
        "    # &(df_horizontal[\"submodel\"]==submodel)\n",
        "].drop(\"score_type\", axis=1).reset_index(drop=True)\n",
        "df_scope.head()"
      ],
      "metadata": {
        "colab": {
          "base_uri": "https://localhost:8080/",
          "height": 313
        },
        "id": "D3rsNK0TYCht",
        "outputId": "1aa6c1ee-19fd-4f4c-e69c-d16c8b4d61d1"
      },
      "execution_count": null,
      "outputs": [
        {
          "output_type": "execute_result",
          "data": {
            "text/plain": [
              "     id  mod         score    micace  score_pos  score_neg     p_pos  \\\n",
              "0  1726  txt -7.027270e-07  0.006276   0.000007   0.000007  0.992601   \n",
              "1  2634  txt -1.827422e-06  0.996531   0.000096   0.000098  0.999385   \n",
              "2  2783  txt -5.818038e-08  0.335680   0.000012   0.000012  0.338589   \n",
              "3  3519  txt -1.605993e-06  0.994688   0.000111   0.000112  0.997842   \n",
              "4  3567  txt  6.900736e-07  0.878905   0.000053   0.000052  0.889791   \n",
              "\n",
              "      p_neg model_type input_modality submodel interaction_type  \n",
              "0  0.986325          O            txt     OV50              all  \n",
              "1  0.002854          O            txt     OV50              all  \n",
              "2  0.002909          O            txt     OV50              all  \n",
              "3  0.003154          O            txt     OV50              all  \n",
              "4  0.010886          O            txt     OV50              all  "
            ],
            "text/html": [
              "\n",
              "  <div id=\"df-51622db4-b4cf-4e9d-b41f-85ca759e3de4\" class=\"colab-df-container\">\n",
              "    <div>\n",
              "<style scoped>\n",
              "    .dataframe tbody tr th:only-of-type {\n",
              "        vertical-align: middle;\n",
              "    }\n",
              "\n",
              "    .dataframe tbody tr th {\n",
              "        vertical-align: top;\n",
              "    }\n",
              "\n",
              "    .dataframe thead th {\n",
              "        text-align: right;\n",
              "    }\n",
              "</style>\n",
              "<table border=\"1\" class=\"dataframe\">\n",
              "  <thead>\n",
              "    <tr style=\"text-align: right;\">\n",
              "      <th></th>\n",
              "      <th>id</th>\n",
              "      <th>mod</th>\n",
              "      <th>score</th>\n",
              "      <th>micace</th>\n",
              "      <th>score_pos</th>\n",
              "      <th>score_neg</th>\n",
              "      <th>p_pos</th>\n",
              "      <th>p_neg</th>\n",
              "      <th>model_type</th>\n",
              "      <th>input_modality</th>\n",
              "      <th>submodel</th>\n",
              "      <th>interaction_type</th>\n",
              "    </tr>\n",
              "  </thead>\n",
              "  <tbody>\n",
              "    <tr>\n",
              "      <th>0</th>\n",
              "      <td>1726</td>\n",
              "      <td>txt</td>\n",
              "      <td>-7.027270e-07</td>\n",
              "      <td>0.006276</td>\n",
              "      <td>0.000007</td>\n",
              "      <td>0.000007</td>\n",
              "      <td>0.992601</td>\n",
              "      <td>0.986325</td>\n",
              "      <td>O</td>\n",
              "      <td>txt</td>\n",
              "      <td>OV50</td>\n",
              "      <td>all</td>\n",
              "    </tr>\n",
              "    <tr>\n",
              "      <th>1</th>\n",
              "      <td>2634</td>\n",
              "      <td>txt</td>\n",
              "      <td>-1.827422e-06</td>\n",
              "      <td>0.996531</td>\n",
              "      <td>0.000096</td>\n",
              "      <td>0.000098</td>\n",
              "      <td>0.999385</td>\n",
              "      <td>0.002854</td>\n",
              "      <td>O</td>\n",
              "      <td>txt</td>\n",
              "      <td>OV50</td>\n",
              "      <td>all</td>\n",
              "    </tr>\n",
              "    <tr>\n",
              "      <th>2</th>\n",
              "      <td>2783</td>\n",
              "      <td>txt</td>\n",
              "      <td>-5.818038e-08</td>\n",
              "      <td>0.335680</td>\n",
              "      <td>0.000012</td>\n",
              "      <td>0.000012</td>\n",
              "      <td>0.338589</td>\n",
              "      <td>0.002909</td>\n",
              "      <td>O</td>\n",
              "      <td>txt</td>\n",
              "      <td>OV50</td>\n",
              "      <td>all</td>\n",
              "    </tr>\n",
              "    <tr>\n",
              "      <th>3</th>\n",
              "      <td>3519</td>\n",
              "      <td>txt</td>\n",
              "      <td>-1.605993e-06</td>\n",
              "      <td>0.994688</td>\n",
              "      <td>0.000111</td>\n",
              "      <td>0.000112</td>\n",
              "      <td>0.997842</td>\n",
              "      <td>0.003154</td>\n",
              "      <td>O</td>\n",
              "      <td>txt</td>\n",
              "      <td>OV50</td>\n",
              "      <td>all</td>\n",
              "    </tr>\n",
              "    <tr>\n",
              "      <th>4</th>\n",
              "      <td>3567</td>\n",
              "      <td>txt</td>\n",
              "      <td>6.900736e-07</td>\n",
              "      <td>0.878905</td>\n",
              "      <td>0.000053</td>\n",
              "      <td>0.000052</td>\n",
              "      <td>0.889791</td>\n",
              "      <td>0.010886</td>\n",
              "      <td>O</td>\n",
              "      <td>txt</td>\n",
              "      <td>OV50</td>\n",
              "      <td>all</td>\n",
              "    </tr>\n",
              "  </tbody>\n",
              "</table>\n",
              "</div>\n",
              "    <div class=\"colab-df-buttons\">\n",
              "\n",
              "  <div class=\"colab-df-container\">\n",
              "    <button class=\"colab-df-convert\" onclick=\"convertToInteractive('df-51622db4-b4cf-4e9d-b41f-85ca759e3de4')\"\n",
              "            title=\"Convert this dataframe to an interactive table.\"\n",
              "            style=\"display:none;\">\n",
              "\n",
              "  <svg xmlns=\"http://www.w3.org/2000/svg\" height=\"24px\" viewBox=\"0 -960 960 960\">\n",
              "    <path d=\"M120-120v-720h720v720H120Zm60-500h600v-160H180v160Zm220 220h160v-160H400v160Zm0 220h160v-160H400v160ZM180-400h160v-160H180v160Zm440 0h160v-160H620v160ZM180-180h160v-160H180v160Zm440 0h160v-160H620v160Z\"/>\n",
              "  </svg>\n",
              "    </button>\n",
              "\n",
              "  <style>\n",
              "    .colab-df-container {\n",
              "      display:flex;\n",
              "      gap: 12px;\n",
              "    }\n",
              "\n",
              "    .colab-df-convert {\n",
              "      background-color: #E8F0FE;\n",
              "      border: none;\n",
              "      border-radius: 50%;\n",
              "      cursor: pointer;\n",
              "      display: none;\n",
              "      fill: #1967D2;\n",
              "      height: 32px;\n",
              "      padding: 0 0 0 0;\n",
              "      width: 32px;\n",
              "    }\n",
              "\n",
              "    .colab-df-convert:hover {\n",
              "      background-color: #E2EBFA;\n",
              "      box-shadow: 0px 1px 2px rgba(60, 64, 67, 0.3), 0px 1px 3px 1px rgba(60, 64, 67, 0.15);\n",
              "      fill: #174EA6;\n",
              "    }\n",
              "\n",
              "    .colab-df-buttons div {\n",
              "      margin-bottom: 4px;\n",
              "    }\n",
              "\n",
              "    [theme=dark] .colab-df-convert {\n",
              "      background-color: #3B4455;\n",
              "      fill: #D2E3FC;\n",
              "    }\n",
              "\n",
              "    [theme=dark] .colab-df-convert:hover {\n",
              "      background-color: #434B5C;\n",
              "      box-shadow: 0px 1px 3px 1px rgba(0, 0, 0, 0.15);\n",
              "      filter: drop-shadow(0px 1px 2px rgba(0, 0, 0, 0.3));\n",
              "      fill: #FFFFFF;\n",
              "    }\n",
              "  </style>\n",
              "\n",
              "    <script>\n",
              "      const buttonEl =\n",
              "        document.querySelector('#df-51622db4-b4cf-4e9d-b41f-85ca759e3de4 button.colab-df-convert');\n",
              "      buttonEl.style.display =\n",
              "        google.colab.kernel.accessAllowed ? 'block' : 'none';\n",
              "\n",
              "      async function convertToInteractive(key) {\n",
              "        const element = document.querySelector('#df-51622db4-b4cf-4e9d-b41f-85ca759e3de4');\n",
              "        const dataTable =\n",
              "          await google.colab.kernel.invokeFunction('convertToInteractive',\n",
              "                                                    [key], {});\n",
              "        if (!dataTable) return;\n",
              "\n",
              "        const docLinkHtml = 'Like what you see? Visit the ' +\n",
              "          '<a target=\"_blank\" href=https://colab.research.google.com/notebooks/data_table.ipynb>data table notebook</a>'\n",
              "          + ' to learn more about interactive tables.';\n",
              "        element.innerHTML = '';\n",
              "        dataTable['output_type'] = 'display_data';\n",
              "        await google.colab.output.renderOutput(dataTable, element);\n",
              "        const docLink = document.createElement('div');\n",
              "        docLink.innerHTML = docLinkHtml;\n",
              "        element.appendChild(docLink);\n",
              "      }\n",
              "    </script>\n",
              "  </div>\n",
              "\n",
              "\n",
              "<div id=\"df-d5e624bd-c968-49dc-ae0c-011f4cc62a1b\">\n",
              "  <button class=\"colab-df-quickchart\" onclick=\"quickchart('df-d5e624bd-c968-49dc-ae0c-011f4cc62a1b')\"\n",
              "            title=\"Suggest charts.\"\n",
              "            style=\"display:none;\">\n",
              "\n",
              "<svg xmlns=\"http://www.w3.org/2000/svg\" height=\"24px\"viewBox=\"0 0 24 24\"\n",
              "     width=\"24px\">\n",
              "    <g>\n",
              "        <path d=\"M19 3H5c-1.1 0-2 .9-2 2v14c0 1.1.9 2 2 2h14c1.1 0 2-.9 2-2V5c0-1.1-.9-2-2-2zM9 17H7v-7h2v7zm4 0h-2V7h2v10zm4 0h-2v-4h2v4z\"/>\n",
              "    </g>\n",
              "</svg>\n",
              "  </button>\n",
              "\n",
              "<style>\n",
              "  .colab-df-quickchart {\n",
              "      --bg-color: #E8F0FE;\n",
              "      --fill-color: #1967D2;\n",
              "      --hover-bg-color: #E2EBFA;\n",
              "      --hover-fill-color: #174EA6;\n",
              "      --disabled-fill-color: #AAA;\n",
              "      --disabled-bg-color: #DDD;\n",
              "  }\n",
              "\n",
              "  [theme=dark] .colab-df-quickchart {\n",
              "      --bg-color: #3B4455;\n",
              "      --fill-color: #D2E3FC;\n",
              "      --hover-bg-color: #434B5C;\n",
              "      --hover-fill-color: #FFFFFF;\n",
              "      --disabled-bg-color: #3B4455;\n",
              "      --disabled-fill-color: #666;\n",
              "  }\n",
              "\n",
              "  .colab-df-quickchart {\n",
              "    background-color: var(--bg-color);\n",
              "    border: none;\n",
              "    border-radius: 50%;\n",
              "    cursor: pointer;\n",
              "    display: none;\n",
              "    fill: var(--fill-color);\n",
              "    height: 32px;\n",
              "    padding: 0;\n",
              "    width: 32px;\n",
              "  }\n",
              "\n",
              "  .colab-df-quickchart:hover {\n",
              "    background-color: var(--hover-bg-color);\n",
              "    box-shadow: 0 1px 2px rgba(60, 64, 67, 0.3), 0 1px 3px 1px rgba(60, 64, 67, 0.15);\n",
              "    fill: var(--button-hover-fill-color);\n",
              "  }\n",
              "\n",
              "  .colab-df-quickchart-complete:disabled,\n",
              "  .colab-df-quickchart-complete:disabled:hover {\n",
              "    background-color: var(--disabled-bg-color);\n",
              "    fill: var(--disabled-fill-color);\n",
              "    box-shadow: none;\n",
              "  }\n",
              "\n",
              "  .colab-df-spinner {\n",
              "    border: 2px solid var(--fill-color);\n",
              "    border-color: transparent;\n",
              "    border-bottom-color: var(--fill-color);\n",
              "    animation:\n",
              "      spin 1s steps(1) infinite;\n",
              "  }\n",
              "\n",
              "  @keyframes spin {\n",
              "    0% {\n",
              "      border-color: transparent;\n",
              "      border-bottom-color: var(--fill-color);\n",
              "      border-left-color: var(--fill-color);\n",
              "    }\n",
              "    20% {\n",
              "      border-color: transparent;\n",
              "      border-left-color: var(--fill-color);\n",
              "      border-top-color: var(--fill-color);\n",
              "    }\n",
              "    30% {\n",
              "      border-color: transparent;\n",
              "      border-left-color: var(--fill-color);\n",
              "      border-top-color: var(--fill-color);\n",
              "      border-right-color: var(--fill-color);\n",
              "    }\n",
              "    40% {\n",
              "      border-color: transparent;\n",
              "      border-right-color: var(--fill-color);\n",
              "      border-top-color: var(--fill-color);\n",
              "    }\n",
              "    60% {\n",
              "      border-color: transparent;\n",
              "      border-right-color: var(--fill-color);\n",
              "    }\n",
              "    80% {\n",
              "      border-color: transparent;\n",
              "      border-right-color: var(--fill-color);\n",
              "      border-bottom-color: var(--fill-color);\n",
              "    }\n",
              "    90% {\n",
              "      border-color: transparent;\n",
              "      border-bottom-color: var(--fill-color);\n",
              "    }\n",
              "  }\n",
              "</style>\n",
              "\n",
              "  <script>\n",
              "    async function quickchart(key) {\n",
              "      const quickchartButtonEl =\n",
              "        document.querySelector('#' + key + ' button');\n",
              "      quickchartButtonEl.disabled = true;  // To prevent multiple clicks.\n",
              "      quickchartButtonEl.classList.add('colab-df-spinner');\n",
              "      try {\n",
              "        const charts = await google.colab.kernel.invokeFunction(\n",
              "            'suggestCharts', [key], {});\n",
              "      } catch (error) {\n",
              "        console.error('Error during call to suggestCharts:', error);\n",
              "      }\n",
              "      quickchartButtonEl.classList.remove('colab-df-spinner');\n",
              "      quickchartButtonEl.classList.add('colab-df-quickchart-complete');\n",
              "    }\n",
              "    (() => {\n",
              "      let quickchartButtonEl =\n",
              "        document.querySelector('#df-d5e624bd-c968-49dc-ae0c-011f4cc62a1b button');\n",
              "      quickchartButtonEl.style.display =\n",
              "        google.colab.kernel.accessAllowed ? 'block' : 'none';\n",
              "    })();\n",
              "  </script>\n",
              "</div>\n",
              "    </div>\n",
              "  </div>\n"
            ]
          },
          "metadata": {},
          "execution_count": 408
        }
      ]
    },
    {
      "cell_type": "code",
      "source": [
        "# transpose\n",
        "for i,it in enumerate(df_scope[\"interaction_type\"].unique()):\n",
        "    df_it = df_scope.loc[df_scope[\"interaction_type\"]==it, KEEP_COLS].reset_index(drop=True).rename(plot_cols, axis=1)\n",
        "    if not i:\n",
        "        it_dict = {\"MIDAS\": f\"MIDAS_{it}\"}\n",
        "        df_horizontal = df_it.copy()\n",
        "    else:\n",
        "        df_it = df_it.set_index(KEY_COLS).drop(\"miATE\", axis=1)\n",
        "        df_horizontal = df_horizontal.merge(df_it, left_on=KEY_COLS, right_index=True, suffixes=[\"\", f\"_{it}\"])\n",
        "df_horizontal = df_horizontal.rename(it_dict, axis=1)\n",
        "df_horizontal.head()"
      ],
      "metadata": {
        "colab": {
          "base_uri": "https://localhost:8080/",
          "height": 313
        },
        "id": "Np00tFE58fiH",
        "outputId": "7347c5dc-411f-458c-c827-1359c339520b"
      },
      "execution_count": null,
      "outputs": [
        {
          "output_type": "execute_result",
          "data": {
            "text/plain": [
              "     id input_modality model_type submodel     miATE     MIDAS_all  \\\n",
              "0  1726            txt          O     OV50  0.006276 -7.027270e-07   \n",
              "1  2634            txt          O     OV50  0.996531 -1.827422e-06   \n",
              "2  2783            txt          O     OV50  0.335680 -5.818038e-08   \n",
              "3  3519            txt          O     OV50  0.994688 -1.605993e-06   \n",
              "4  3567            txt          O     OV50  0.878905  6.900736e-07   \n",
              "\n",
              "     MIDAS_text   MIDAS_cross   MIDAS_image  \n",
              "0 -3.051471e-06 -1.931298e-06 -2.006102e-07  \n",
              "1 -1.886216e-05 -2.025146e-05  5.231394e-06  \n",
              "2 -5.007169e-07 -7.091439e-07  1.870875e-07  \n",
              "3 -1.852855e-05 -1.602669e-05  4.012049e-06  \n",
              "4 -1.262204e-06  6.769260e-07  7.081253e-07  "
            ],
            "text/html": [
              "\n",
              "  <div id=\"df-235a1aee-823b-4b88-a741-9d16427afa71\" class=\"colab-df-container\">\n",
              "    <div>\n",
              "<style scoped>\n",
              "    .dataframe tbody tr th:only-of-type {\n",
              "        vertical-align: middle;\n",
              "    }\n",
              "\n",
              "    .dataframe tbody tr th {\n",
              "        vertical-align: top;\n",
              "    }\n",
              "\n",
              "    .dataframe thead th {\n",
              "        text-align: right;\n",
              "    }\n",
              "</style>\n",
              "<table border=\"1\" class=\"dataframe\">\n",
              "  <thead>\n",
              "    <tr style=\"text-align: right;\">\n",
              "      <th></th>\n",
              "      <th>id</th>\n",
              "      <th>input_modality</th>\n",
              "      <th>model_type</th>\n",
              "      <th>submodel</th>\n",
              "      <th>miATE</th>\n",
              "      <th>MIDAS_all</th>\n",
              "      <th>MIDAS_text</th>\n",
              "      <th>MIDAS_cross</th>\n",
              "      <th>MIDAS_image</th>\n",
              "    </tr>\n",
              "  </thead>\n",
              "  <tbody>\n",
              "    <tr>\n",
              "      <th>0</th>\n",
              "      <td>1726</td>\n",
              "      <td>txt</td>\n",
              "      <td>O</td>\n",
              "      <td>OV50</td>\n",
              "      <td>0.006276</td>\n",
              "      <td>-7.027270e-07</td>\n",
              "      <td>-3.051471e-06</td>\n",
              "      <td>-1.931298e-06</td>\n",
              "      <td>-2.006102e-07</td>\n",
              "    </tr>\n",
              "    <tr>\n",
              "      <th>1</th>\n",
              "      <td>2634</td>\n",
              "      <td>txt</td>\n",
              "      <td>O</td>\n",
              "      <td>OV50</td>\n",
              "      <td>0.996531</td>\n",
              "      <td>-1.827422e-06</td>\n",
              "      <td>-1.886216e-05</td>\n",
              "      <td>-2.025146e-05</td>\n",
              "      <td>5.231394e-06</td>\n",
              "    </tr>\n",
              "    <tr>\n",
              "      <th>2</th>\n",
              "      <td>2783</td>\n",
              "      <td>txt</td>\n",
              "      <td>O</td>\n",
              "      <td>OV50</td>\n",
              "      <td>0.335680</td>\n",
              "      <td>-5.818038e-08</td>\n",
              "      <td>-5.007169e-07</td>\n",
              "      <td>-7.091439e-07</td>\n",
              "      <td>1.870875e-07</td>\n",
              "    </tr>\n",
              "    <tr>\n",
              "      <th>3</th>\n",
              "      <td>3519</td>\n",
              "      <td>txt</td>\n",
              "      <td>O</td>\n",
              "      <td>OV50</td>\n",
              "      <td>0.994688</td>\n",
              "      <td>-1.605993e-06</td>\n",
              "      <td>-1.852855e-05</td>\n",
              "      <td>-1.602669e-05</td>\n",
              "      <td>4.012049e-06</td>\n",
              "    </tr>\n",
              "    <tr>\n",
              "      <th>4</th>\n",
              "      <td>3567</td>\n",
              "      <td>txt</td>\n",
              "      <td>O</td>\n",
              "      <td>OV50</td>\n",
              "      <td>0.878905</td>\n",
              "      <td>6.900736e-07</td>\n",
              "      <td>-1.262204e-06</td>\n",
              "      <td>6.769260e-07</td>\n",
              "      <td>7.081253e-07</td>\n",
              "    </tr>\n",
              "  </tbody>\n",
              "</table>\n",
              "</div>\n",
              "    <div class=\"colab-df-buttons\">\n",
              "\n",
              "  <div class=\"colab-df-container\">\n",
              "    <button class=\"colab-df-convert\" onclick=\"convertToInteractive('df-235a1aee-823b-4b88-a741-9d16427afa71')\"\n",
              "            title=\"Convert this dataframe to an interactive table.\"\n",
              "            style=\"display:none;\">\n",
              "\n",
              "  <svg xmlns=\"http://www.w3.org/2000/svg\" height=\"24px\" viewBox=\"0 -960 960 960\">\n",
              "    <path d=\"M120-120v-720h720v720H120Zm60-500h600v-160H180v160Zm220 220h160v-160H400v160Zm0 220h160v-160H400v160ZM180-400h160v-160H180v160Zm440 0h160v-160H620v160ZM180-180h160v-160H180v160Zm440 0h160v-160H620v160Z\"/>\n",
              "  </svg>\n",
              "    </button>\n",
              "\n",
              "  <style>\n",
              "    .colab-df-container {\n",
              "      display:flex;\n",
              "      gap: 12px;\n",
              "    }\n",
              "\n",
              "    .colab-df-convert {\n",
              "      background-color: #E8F0FE;\n",
              "      border: none;\n",
              "      border-radius: 50%;\n",
              "      cursor: pointer;\n",
              "      display: none;\n",
              "      fill: #1967D2;\n",
              "      height: 32px;\n",
              "      padding: 0 0 0 0;\n",
              "      width: 32px;\n",
              "    }\n",
              "\n",
              "    .colab-df-convert:hover {\n",
              "      background-color: #E2EBFA;\n",
              "      box-shadow: 0px 1px 2px rgba(60, 64, 67, 0.3), 0px 1px 3px 1px rgba(60, 64, 67, 0.15);\n",
              "      fill: #174EA6;\n",
              "    }\n",
              "\n",
              "    .colab-df-buttons div {\n",
              "      margin-bottom: 4px;\n",
              "    }\n",
              "\n",
              "    [theme=dark] .colab-df-convert {\n",
              "      background-color: #3B4455;\n",
              "      fill: #D2E3FC;\n",
              "    }\n",
              "\n",
              "    [theme=dark] .colab-df-convert:hover {\n",
              "      background-color: #434B5C;\n",
              "      box-shadow: 0px 1px 3px 1px rgba(0, 0, 0, 0.15);\n",
              "      filter: drop-shadow(0px 1px 2px rgba(0, 0, 0, 0.3));\n",
              "      fill: #FFFFFF;\n",
              "    }\n",
              "  </style>\n",
              "\n",
              "    <script>\n",
              "      const buttonEl =\n",
              "        document.querySelector('#df-235a1aee-823b-4b88-a741-9d16427afa71 button.colab-df-convert');\n",
              "      buttonEl.style.display =\n",
              "        google.colab.kernel.accessAllowed ? 'block' : 'none';\n",
              "\n",
              "      async function convertToInteractive(key) {\n",
              "        const element = document.querySelector('#df-235a1aee-823b-4b88-a741-9d16427afa71');\n",
              "        const dataTable =\n",
              "          await google.colab.kernel.invokeFunction('convertToInteractive',\n",
              "                                                    [key], {});\n",
              "        if (!dataTable) return;\n",
              "\n",
              "        const docLinkHtml = 'Like what you see? Visit the ' +\n",
              "          '<a target=\"_blank\" href=https://colab.research.google.com/notebooks/data_table.ipynb>data table notebook</a>'\n",
              "          + ' to learn more about interactive tables.';\n",
              "        element.innerHTML = '';\n",
              "        dataTable['output_type'] = 'display_data';\n",
              "        await google.colab.output.renderOutput(dataTable, element);\n",
              "        const docLink = document.createElement('div');\n",
              "        docLink.innerHTML = docLinkHtml;\n",
              "        element.appendChild(docLink);\n",
              "      }\n",
              "    </script>\n",
              "  </div>\n",
              "\n",
              "\n",
              "<div id=\"df-274a6942-8fd0-4ac6-8288-77388752fde2\">\n",
              "  <button class=\"colab-df-quickchart\" onclick=\"quickchart('df-274a6942-8fd0-4ac6-8288-77388752fde2')\"\n",
              "            title=\"Suggest charts.\"\n",
              "            style=\"display:none;\">\n",
              "\n",
              "<svg xmlns=\"http://www.w3.org/2000/svg\" height=\"24px\"viewBox=\"0 0 24 24\"\n",
              "     width=\"24px\">\n",
              "    <g>\n",
              "        <path d=\"M19 3H5c-1.1 0-2 .9-2 2v14c0 1.1.9 2 2 2h14c1.1 0 2-.9 2-2V5c0-1.1-.9-2-2-2zM9 17H7v-7h2v7zm4 0h-2V7h2v10zm4 0h-2v-4h2v4z\"/>\n",
              "    </g>\n",
              "</svg>\n",
              "  </button>\n",
              "\n",
              "<style>\n",
              "  .colab-df-quickchart {\n",
              "      --bg-color: #E8F0FE;\n",
              "      --fill-color: #1967D2;\n",
              "      --hover-bg-color: #E2EBFA;\n",
              "      --hover-fill-color: #174EA6;\n",
              "      --disabled-fill-color: #AAA;\n",
              "      --disabled-bg-color: #DDD;\n",
              "  }\n",
              "\n",
              "  [theme=dark] .colab-df-quickchart {\n",
              "      --bg-color: #3B4455;\n",
              "      --fill-color: #D2E3FC;\n",
              "      --hover-bg-color: #434B5C;\n",
              "      --hover-fill-color: #FFFFFF;\n",
              "      --disabled-bg-color: #3B4455;\n",
              "      --disabled-fill-color: #666;\n",
              "  }\n",
              "\n",
              "  .colab-df-quickchart {\n",
              "    background-color: var(--bg-color);\n",
              "    border: none;\n",
              "    border-radius: 50%;\n",
              "    cursor: pointer;\n",
              "    display: none;\n",
              "    fill: var(--fill-color);\n",
              "    height: 32px;\n",
              "    padding: 0;\n",
              "    width: 32px;\n",
              "  }\n",
              "\n",
              "  .colab-df-quickchart:hover {\n",
              "    background-color: var(--hover-bg-color);\n",
              "    box-shadow: 0 1px 2px rgba(60, 64, 67, 0.3), 0 1px 3px 1px rgba(60, 64, 67, 0.15);\n",
              "    fill: var(--button-hover-fill-color);\n",
              "  }\n",
              "\n",
              "  .colab-df-quickchart-complete:disabled,\n",
              "  .colab-df-quickchart-complete:disabled:hover {\n",
              "    background-color: var(--disabled-bg-color);\n",
              "    fill: var(--disabled-fill-color);\n",
              "    box-shadow: none;\n",
              "  }\n",
              "\n",
              "  .colab-df-spinner {\n",
              "    border: 2px solid var(--fill-color);\n",
              "    border-color: transparent;\n",
              "    border-bottom-color: var(--fill-color);\n",
              "    animation:\n",
              "      spin 1s steps(1) infinite;\n",
              "  }\n",
              "\n",
              "  @keyframes spin {\n",
              "    0% {\n",
              "      border-color: transparent;\n",
              "      border-bottom-color: var(--fill-color);\n",
              "      border-left-color: var(--fill-color);\n",
              "    }\n",
              "    20% {\n",
              "      border-color: transparent;\n",
              "      border-left-color: var(--fill-color);\n",
              "      border-top-color: var(--fill-color);\n",
              "    }\n",
              "    30% {\n",
              "      border-color: transparent;\n",
              "      border-left-color: var(--fill-color);\n",
              "      border-top-color: var(--fill-color);\n",
              "      border-right-color: var(--fill-color);\n",
              "    }\n",
              "    40% {\n",
              "      border-color: transparent;\n",
              "      border-right-color: var(--fill-color);\n",
              "      border-top-color: var(--fill-color);\n",
              "    }\n",
              "    60% {\n",
              "      border-color: transparent;\n",
              "      border-right-color: var(--fill-color);\n",
              "    }\n",
              "    80% {\n",
              "      border-color: transparent;\n",
              "      border-right-color: var(--fill-color);\n",
              "      border-bottom-color: var(--fill-color);\n",
              "    }\n",
              "    90% {\n",
              "      border-color: transparent;\n",
              "      border-bottom-color: var(--fill-color);\n",
              "    }\n",
              "  }\n",
              "</style>\n",
              "\n",
              "  <script>\n",
              "    async function quickchart(key) {\n",
              "      const quickchartButtonEl =\n",
              "        document.querySelector('#' + key + ' button');\n",
              "      quickchartButtonEl.disabled = true;  // To prevent multiple clicks.\n",
              "      quickchartButtonEl.classList.add('colab-df-spinner');\n",
              "      try {\n",
              "        const charts = await google.colab.kernel.invokeFunction(\n",
              "            'suggestCharts', [key], {});\n",
              "      } catch (error) {\n",
              "        console.error('Error during call to suggestCharts:', error);\n",
              "      }\n",
              "      quickchartButtonEl.classList.remove('colab-df-spinner');\n",
              "      quickchartButtonEl.classList.add('colab-df-quickchart-complete');\n",
              "    }\n",
              "    (() => {\n",
              "      let quickchartButtonEl =\n",
              "        document.querySelector('#df-274a6942-8fd0-4ac6-8288-77388752fde2 button');\n",
              "      quickchartButtonEl.style.display =\n",
              "        google.colab.kernel.accessAllowed ? 'block' : 'none';\n",
              "    })();\n",
              "  </script>\n",
              "</div>\n",
              "    </div>\n",
              "  </div>\n"
            ]
          },
          "metadata": {},
          "execution_count": 409
        }
      ]
    },
    {
      "cell_type": "code",
      "source": [
        "# target variable\n",
        "df_horizontal[f\"{plot_cols[PRED_COL]}_category\"] = (df_horizontal[plot_cols[PRED_COL]]>=0.5).astype(int)\n",
        "df_scope = df_horizontal.drop(plot_cols[PRED_COL], axis=1)\n",
        "df_scope.head()"
      ],
      "metadata": {
        "colab": {
          "base_uri": "https://localhost:8080/",
          "height": 313
        },
        "id": "zbGU8JQWckNj",
        "outputId": "3b126ab6-7853-480d-8c06-f6a4680f2b3c"
      },
      "execution_count": null,
      "outputs": [
        {
          "output_type": "execute_result",
          "data": {
            "text/plain": [
              "     id input_modality model_type submodel     MIDAS_all    MIDAS_text  \\\n",
              "0  1726            txt          O     OV50 -7.027270e-07 -3.051471e-06   \n",
              "1  2634            txt          O     OV50 -1.827422e-06 -1.886216e-05   \n",
              "2  2783            txt          O     OV50 -5.818038e-08 -5.007169e-07   \n",
              "3  3519            txt          O     OV50 -1.605993e-06 -1.852855e-05   \n",
              "4  3567            txt          O     OV50  6.900736e-07 -1.262204e-06   \n",
              "\n",
              "    MIDAS_cross   MIDAS_image  miATE_category  \n",
              "0 -1.931298e-06 -2.006102e-07               0  \n",
              "1 -2.025146e-05  5.231394e-06               1  \n",
              "2 -7.091439e-07  1.870875e-07               0  \n",
              "3 -1.602669e-05  4.012049e-06               1  \n",
              "4  6.769260e-07  7.081253e-07               1  "
            ],
            "text/html": [
              "\n",
              "  <div id=\"df-e0290a73-9262-49df-89b3-59cbef5c54df\" class=\"colab-df-container\">\n",
              "    <div>\n",
              "<style scoped>\n",
              "    .dataframe tbody tr th:only-of-type {\n",
              "        vertical-align: middle;\n",
              "    }\n",
              "\n",
              "    .dataframe tbody tr th {\n",
              "        vertical-align: top;\n",
              "    }\n",
              "\n",
              "    .dataframe thead th {\n",
              "        text-align: right;\n",
              "    }\n",
              "</style>\n",
              "<table border=\"1\" class=\"dataframe\">\n",
              "  <thead>\n",
              "    <tr style=\"text-align: right;\">\n",
              "      <th></th>\n",
              "      <th>id</th>\n",
              "      <th>input_modality</th>\n",
              "      <th>model_type</th>\n",
              "      <th>submodel</th>\n",
              "      <th>MIDAS_all</th>\n",
              "      <th>MIDAS_text</th>\n",
              "      <th>MIDAS_cross</th>\n",
              "      <th>MIDAS_image</th>\n",
              "      <th>miATE_category</th>\n",
              "    </tr>\n",
              "  </thead>\n",
              "  <tbody>\n",
              "    <tr>\n",
              "      <th>0</th>\n",
              "      <td>1726</td>\n",
              "      <td>txt</td>\n",
              "      <td>O</td>\n",
              "      <td>OV50</td>\n",
              "      <td>-7.027270e-07</td>\n",
              "      <td>-3.051471e-06</td>\n",
              "      <td>-1.931298e-06</td>\n",
              "      <td>-2.006102e-07</td>\n",
              "      <td>0</td>\n",
              "    </tr>\n",
              "    <tr>\n",
              "      <th>1</th>\n",
              "      <td>2634</td>\n",
              "      <td>txt</td>\n",
              "      <td>O</td>\n",
              "      <td>OV50</td>\n",
              "      <td>-1.827422e-06</td>\n",
              "      <td>-1.886216e-05</td>\n",
              "      <td>-2.025146e-05</td>\n",
              "      <td>5.231394e-06</td>\n",
              "      <td>1</td>\n",
              "    </tr>\n",
              "    <tr>\n",
              "      <th>2</th>\n",
              "      <td>2783</td>\n",
              "      <td>txt</td>\n",
              "      <td>O</td>\n",
              "      <td>OV50</td>\n",
              "      <td>-5.818038e-08</td>\n",
              "      <td>-5.007169e-07</td>\n",
              "      <td>-7.091439e-07</td>\n",
              "      <td>1.870875e-07</td>\n",
              "      <td>0</td>\n",
              "    </tr>\n",
              "    <tr>\n",
              "      <th>3</th>\n",
              "      <td>3519</td>\n",
              "      <td>txt</td>\n",
              "      <td>O</td>\n",
              "      <td>OV50</td>\n",
              "      <td>-1.605993e-06</td>\n",
              "      <td>-1.852855e-05</td>\n",
              "      <td>-1.602669e-05</td>\n",
              "      <td>4.012049e-06</td>\n",
              "      <td>1</td>\n",
              "    </tr>\n",
              "    <tr>\n",
              "      <th>4</th>\n",
              "      <td>3567</td>\n",
              "      <td>txt</td>\n",
              "      <td>O</td>\n",
              "      <td>OV50</td>\n",
              "      <td>6.900736e-07</td>\n",
              "      <td>-1.262204e-06</td>\n",
              "      <td>6.769260e-07</td>\n",
              "      <td>7.081253e-07</td>\n",
              "      <td>1</td>\n",
              "    </tr>\n",
              "  </tbody>\n",
              "</table>\n",
              "</div>\n",
              "    <div class=\"colab-df-buttons\">\n",
              "\n",
              "  <div class=\"colab-df-container\">\n",
              "    <button class=\"colab-df-convert\" onclick=\"convertToInteractive('df-e0290a73-9262-49df-89b3-59cbef5c54df')\"\n",
              "            title=\"Convert this dataframe to an interactive table.\"\n",
              "            style=\"display:none;\">\n",
              "\n",
              "  <svg xmlns=\"http://www.w3.org/2000/svg\" height=\"24px\" viewBox=\"0 -960 960 960\">\n",
              "    <path d=\"M120-120v-720h720v720H120Zm60-500h600v-160H180v160Zm220 220h160v-160H400v160Zm0 220h160v-160H400v160ZM180-400h160v-160H180v160Zm440 0h160v-160H620v160ZM180-180h160v-160H180v160Zm440 0h160v-160H620v160Z\"/>\n",
              "  </svg>\n",
              "    </button>\n",
              "\n",
              "  <style>\n",
              "    .colab-df-container {\n",
              "      display:flex;\n",
              "      gap: 12px;\n",
              "    }\n",
              "\n",
              "    .colab-df-convert {\n",
              "      background-color: #E8F0FE;\n",
              "      border: none;\n",
              "      border-radius: 50%;\n",
              "      cursor: pointer;\n",
              "      display: none;\n",
              "      fill: #1967D2;\n",
              "      height: 32px;\n",
              "      padding: 0 0 0 0;\n",
              "      width: 32px;\n",
              "    }\n",
              "\n",
              "    .colab-df-convert:hover {\n",
              "      background-color: #E2EBFA;\n",
              "      box-shadow: 0px 1px 2px rgba(60, 64, 67, 0.3), 0px 1px 3px 1px rgba(60, 64, 67, 0.15);\n",
              "      fill: #174EA6;\n",
              "    }\n",
              "\n",
              "    .colab-df-buttons div {\n",
              "      margin-bottom: 4px;\n",
              "    }\n",
              "\n",
              "    [theme=dark] .colab-df-convert {\n",
              "      background-color: #3B4455;\n",
              "      fill: #D2E3FC;\n",
              "    }\n",
              "\n",
              "    [theme=dark] .colab-df-convert:hover {\n",
              "      background-color: #434B5C;\n",
              "      box-shadow: 0px 1px 3px 1px rgba(0, 0, 0, 0.15);\n",
              "      filter: drop-shadow(0px 1px 2px rgba(0, 0, 0, 0.3));\n",
              "      fill: #FFFFFF;\n",
              "    }\n",
              "  </style>\n",
              "\n",
              "    <script>\n",
              "      const buttonEl =\n",
              "        document.querySelector('#df-e0290a73-9262-49df-89b3-59cbef5c54df button.colab-df-convert');\n",
              "      buttonEl.style.display =\n",
              "        google.colab.kernel.accessAllowed ? 'block' : 'none';\n",
              "\n",
              "      async function convertToInteractive(key) {\n",
              "        const element = document.querySelector('#df-e0290a73-9262-49df-89b3-59cbef5c54df');\n",
              "        const dataTable =\n",
              "          await google.colab.kernel.invokeFunction('convertToInteractive',\n",
              "                                                    [key], {});\n",
              "        if (!dataTable) return;\n",
              "\n",
              "        const docLinkHtml = 'Like what you see? Visit the ' +\n",
              "          '<a target=\"_blank\" href=https://colab.research.google.com/notebooks/data_table.ipynb>data table notebook</a>'\n",
              "          + ' to learn more about interactive tables.';\n",
              "        element.innerHTML = '';\n",
              "        dataTable['output_type'] = 'display_data';\n",
              "        await google.colab.output.renderOutput(dataTable, element);\n",
              "        const docLink = document.createElement('div');\n",
              "        docLink.innerHTML = docLinkHtml;\n",
              "        element.appendChild(docLink);\n",
              "      }\n",
              "    </script>\n",
              "  </div>\n",
              "\n",
              "\n",
              "<div id=\"df-86c3a08d-dc0f-48b2-a121-b11ac6ed9007\">\n",
              "  <button class=\"colab-df-quickchart\" onclick=\"quickchart('df-86c3a08d-dc0f-48b2-a121-b11ac6ed9007')\"\n",
              "            title=\"Suggest charts.\"\n",
              "            style=\"display:none;\">\n",
              "\n",
              "<svg xmlns=\"http://www.w3.org/2000/svg\" height=\"24px\"viewBox=\"0 0 24 24\"\n",
              "     width=\"24px\">\n",
              "    <g>\n",
              "        <path d=\"M19 3H5c-1.1 0-2 .9-2 2v14c0 1.1.9 2 2 2h14c1.1 0 2-.9 2-2V5c0-1.1-.9-2-2-2zM9 17H7v-7h2v7zm4 0h-2V7h2v10zm4 0h-2v-4h2v4z\"/>\n",
              "    </g>\n",
              "</svg>\n",
              "  </button>\n",
              "\n",
              "<style>\n",
              "  .colab-df-quickchart {\n",
              "      --bg-color: #E8F0FE;\n",
              "      --fill-color: #1967D2;\n",
              "      --hover-bg-color: #E2EBFA;\n",
              "      --hover-fill-color: #174EA6;\n",
              "      --disabled-fill-color: #AAA;\n",
              "      --disabled-bg-color: #DDD;\n",
              "  }\n",
              "\n",
              "  [theme=dark] .colab-df-quickchart {\n",
              "      --bg-color: #3B4455;\n",
              "      --fill-color: #D2E3FC;\n",
              "      --hover-bg-color: #434B5C;\n",
              "      --hover-fill-color: #FFFFFF;\n",
              "      --disabled-bg-color: #3B4455;\n",
              "      --disabled-fill-color: #666;\n",
              "  }\n",
              "\n",
              "  .colab-df-quickchart {\n",
              "    background-color: var(--bg-color);\n",
              "    border: none;\n",
              "    border-radius: 50%;\n",
              "    cursor: pointer;\n",
              "    display: none;\n",
              "    fill: var(--fill-color);\n",
              "    height: 32px;\n",
              "    padding: 0;\n",
              "    width: 32px;\n",
              "  }\n",
              "\n",
              "  .colab-df-quickchart:hover {\n",
              "    background-color: var(--hover-bg-color);\n",
              "    box-shadow: 0 1px 2px rgba(60, 64, 67, 0.3), 0 1px 3px 1px rgba(60, 64, 67, 0.15);\n",
              "    fill: var(--button-hover-fill-color);\n",
              "  }\n",
              "\n",
              "  .colab-df-quickchart-complete:disabled,\n",
              "  .colab-df-quickchart-complete:disabled:hover {\n",
              "    background-color: var(--disabled-bg-color);\n",
              "    fill: var(--disabled-fill-color);\n",
              "    box-shadow: none;\n",
              "  }\n",
              "\n",
              "  .colab-df-spinner {\n",
              "    border: 2px solid var(--fill-color);\n",
              "    border-color: transparent;\n",
              "    border-bottom-color: var(--fill-color);\n",
              "    animation:\n",
              "      spin 1s steps(1) infinite;\n",
              "  }\n",
              "\n",
              "  @keyframes spin {\n",
              "    0% {\n",
              "      border-color: transparent;\n",
              "      border-bottom-color: var(--fill-color);\n",
              "      border-left-color: var(--fill-color);\n",
              "    }\n",
              "    20% {\n",
              "      border-color: transparent;\n",
              "      border-left-color: var(--fill-color);\n",
              "      border-top-color: var(--fill-color);\n",
              "    }\n",
              "    30% {\n",
              "      border-color: transparent;\n",
              "      border-left-color: var(--fill-color);\n",
              "      border-top-color: var(--fill-color);\n",
              "      border-right-color: var(--fill-color);\n",
              "    }\n",
              "    40% {\n",
              "      border-color: transparent;\n",
              "      border-right-color: var(--fill-color);\n",
              "      border-top-color: var(--fill-color);\n",
              "    }\n",
              "    60% {\n",
              "      border-color: transparent;\n",
              "      border-right-color: var(--fill-color);\n",
              "    }\n",
              "    80% {\n",
              "      border-color: transparent;\n",
              "      border-right-color: var(--fill-color);\n",
              "      border-bottom-color: var(--fill-color);\n",
              "    }\n",
              "    90% {\n",
              "      border-color: transparent;\n",
              "      border-bottom-color: var(--fill-color);\n",
              "    }\n",
              "  }\n",
              "</style>\n",
              "\n",
              "  <script>\n",
              "    async function quickchart(key) {\n",
              "      const quickchartButtonEl =\n",
              "        document.querySelector('#' + key + ' button');\n",
              "      quickchartButtonEl.disabled = true;  // To prevent multiple clicks.\n",
              "      quickchartButtonEl.classList.add('colab-df-spinner');\n",
              "      try {\n",
              "        const charts = await google.colab.kernel.invokeFunction(\n",
              "            'suggestCharts', [key], {});\n",
              "      } catch (error) {\n",
              "        console.error('Error during call to suggestCharts:', error);\n",
              "      }\n",
              "      quickchartButtonEl.classList.remove('colab-df-spinner');\n",
              "      quickchartButtonEl.classList.add('colab-df-quickchart-complete');\n",
              "    }\n",
              "    (() => {\n",
              "      let quickchartButtonEl =\n",
              "        document.querySelector('#df-86c3a08d-dc0f-48b2-a121-b11ac6ed9007 button');\n",
              "      quickchartButtonEl.style.display =\n",
              "        google.colab.kernel.accessAllowed ? 'block' : 'none';\n",
              "    })();\n",
              "  </script>\n",
              "</div>\n",
              "    </div>\n",
              "  </div>\n"
            ]
          },
          "metadata": {},
          "execution_count": 410
        }
      ]
    },
    {
      "cell_type": "code",
      "source": [
        "# dropna\n",
        "df_analysis = df_scope.dropna()\n",
        "print(f\"# samples [before,after] = {[len(df_scope),len(df_analysis)]}\")"
      ],
      "metadata": {
        "colab": {
          "base_uri": "https://localhost:8080/"
        },
        "id": "xNBlgs52pvFB",
        "outputId": "1fcb6550-706c-4ce6-977d-3f0e74a6820f"
      },
      "execution_count": null,
      "outputs": [
        {
          "output_type": "stream",
          "name": "stdout",
          "text": [
            "# samples [before,after] = [1114, 1107]\n"
          ]
        }
      ]
    },
    {
      "cell_type": "markdown",
      "source": [
        "#### for category-interaction"
      ],
      "metadata": {
        "id": "LX2UW64BwMVh"
      }
    },
    {
      "cell_type": "code",
      "source": [
        "# dummies\n",
        "# df_dummies = pd.get_dummies(df_analysis[dummy_cols], drop_first=True)\n",
        "df_dummies = pd.get_dummies(df_analysis[dummy_cols])\n",
        "df_dummied = df_analysis.merge(df_dummies, left_index=True, right_index=True)\n",
        "assert len(df_analysis)==len(df_dummied), f\"# samples should match before/after processing: {len(df_analysis),len(df_dummied)}\"\n",
        "df_dummied.head()"
      ],
      "metadata": {
        "colab": {
          "base_uri": "https://localhost:8080/",
          "height": 342
        },
        "id": "nB-FK73hZvVW",
        "outputId": "0c43eb9c-dc2e-4ef6-ff92-c1e6e012a018"
      },
      "execution_count": null,
      "outputs": [
        {
          "output_type": "execute_result",
          "data": {
            "text/plain": [
              "     id input_modality model_type submodel     MIDAS_all    MIDAS_text  \\\n",
              "0  1726            txt          O     OV50 -7.027270e-07 -3.051471e-06   \n",
              "1  2634            txt          O     OV50 -1.827422e-06 -1.886216e-05   \n",
              "2  2783            txt          O     OV50 -5.818038e-08 -5.007169e-07   \n",
              "3  3519            txt          O     OV50 -1.605993e-06 -1.852855e-05   \n",
              "4  3567            txt          O     OV50  6.900736e-07 -1.262204e-06   \n",
              "\n",
              "    MIDAS_cross   MIDAS_image  miATE_category  input_modality_img  ...  \\\n",
              "0 -1.931298e-06 -2.006102e-07               0                   0  ...   \n",
              "1 -2.025146e-05  5.231394e-06               1                   0  ...   \n",
              "2 -7.091439e-07  1.870875e-07               0                   0  ...   \n",
              "3 -1.602669e-05  4.012049e-06               1                   0  ...   \n",
              "4  6.769260e-07  7.081253e-07               1                   0  ...   \n",
              "\n",
              "   model_type_V  submodel_O36  submodel_O50  submodel_OV50  submodel_U36  \\\n",
              "0             0             0             0              1             0   \n",
              "1             0             0             0              1             0   \n",
              "2             0             0             0              1             0   \n",
              "3             0             0             0              1             0   \n",
              "4             0             0             0              1             0   \n",
              "\n",
              "   submodel_U50  submodel_U72  submodel_V135  submodel_V45  submodel_V90  \n",
              "0             0             0              0             0             0  \n",
              "1             0             0              0             0             0  \n",
              "2             0             0              0             0             0  \n",
              "3             0             0              0             0             0  \n",
              "4             0             0              0             0             0  \n",
              "\n",
              "[5 rows x 23 columns]"
            ],
            "text/html": [
              "\n",
              "  <div id=\"df-48ca0289-ab48-4581-89ae-a2c74b0ca6e6\" class=\"colab-df-container\">\n",
              "    <div>\n",
              "<style scoped>\n",
              "    .dataframe tbody tr th:only-of-type {\n",
              "        vertical-align: middle;\n",
              "    }\n",
              "\n",
              "    .dataframe tbody tr th {\n",
              "        vertical-align: top;\n",
              "    }\n",
              "\n",
              "    .dataframe thead th {\n",
              "        text-align: right;\n",
              "    }\n",
              "</style>\n",
              "<table border=\"1\" class=\"dataframe\">\n",
              "  <thead>\n",
              "    <tr style=\"text-align: right;\">\n",
              "      <th></th>\n",
              "      <th>id</th>\n",
              "      <th>input_modality</th>\n",
              "      <th>model_type</th>\n",
              "      <th>submodel</th>\n",
              "      <th>MIDAS_all</th>\n",
              "      <th>MIDAS_text</th>\n",
              "      <th>MIDAS_cross</th>\n",
              "      <th>MIDAS_image</th>\n",
              "      <th>miATE_category</th>\n",
              "      <th>input_modality_img</th>\n",
              "      <th>...</th>\n",
              "      <th>model_type_V</th>\n",
              "      <th>submodel_O36</th>\n",
              "      <th>submodel_O50</th>\n",
              "      <th>submodel_OV50</th>\n",
              "      <th>submodel_U36</th>\n",
              "      <th>submodel_U50</th>\n",
              "      <th>submodel_U72</th>\n",
              "      <th>submodel_V135</th>\n",
              "      <th>submodel_V45</th>\n",
              "      <th>submodel_V90</th>\n",
              "    </tr>\n",
              "  </thead>\n",
              "  <tbody>\n",
              "    <tr>\n",
              "      <th>0</th>\n",
              "      <td>1726</td>\n",
              "      <td>txt</td>\n",
              "      <td>O</td>\n",
              "      <td>OV50</td>\n",
              "      <td>-7.027270e-07</td>\n",
              "      <td>-3.051471e-06</td>\n",
              "      <td>-1.931298e-06</td>\n",
              "      <td>-2.006102e-07</td>\n",
              "      <td>0</td>\n",
              "      <td>0</td>\n",
              "      <td>...</td>\n",
              "      <td>0</td>\n",
              "      <td>0</td>\n",
              "      <td>0</td>\n",
              "      <td>1</td>\n",
              "      <td>0</td>\n",
              "      <td>0</td>\n",
              "      <td>0</td>\n",
              "      <td>0</td>\n",
              "      <td>0</td>\n",
              "      <td>0</td>\n",
              "    </tr>\n",
              "    <tr>\n",
              "      <th>1</th>\n",
              "      <td>2634</td>\n",
              "      <td>txt</td>\n",
              "      <td>O</td>\n",
              "      <td>OV50</td>\n",
              "      <td>-1.827422e-06</td>\n",
              "      <td>-1.886216e-05</td>\n",
              "      <td>-2.025146e-05</td>\n",
              "      <td>5.231394e-06</td>\n",
              "      <td>1</td>\n",
              "      <td>0</td>\n",
              "      <td>...</td>\n",
              "      <td>0</td>\n",
              "      <td>0</td>\n",
              "      <td>0</td>\n",
              "      <td>1</td>\n",
              "      <td>0</td>\n",
              "      <td>0</td>\n",
              "      <td>0</td>\n",
              "      <td>0</td>\n",
              "      <td>0</td>\n",
              "      <td>0</td>\n",
              "    </tr>\n",
              "    <tr>\n",
              "      <th>2</th>\n",
              "      <td>2783</td>\n",
              "      <td>txt</td>\n",
              "      <td>O</td>\n",
              "      <td>OV50</td>\n",
              "      <td>-5.818038e-08</td>\n",
              "      <td>-5.007169e-07</td>\n",
              "      <td>-7.091439e-07</td>\n",
              "      <td>1.870875e-07</td>\n",
              "      <td>0</td>\n",
              "      <td>0</td>\n",
              "      <td>...</td>\n",
              "      <td>0</td>\n",
              "      <td>0</td>\n",
              "      <td>0</td>\n",
              "      <td>1</td>\n",
              "      <td>0</td>\n",
              "      <td>0</td>\n",
              "      <td>0</td>\n",
              "      <td>0</td>\n",
              "      <td>0</td>\n",
              "      <td>0</td>\n",
              "    </tr>\n",
              "    <tr>\n",
              "      <th>3</th>\n",
              "      <td>3519</td>\n",
              "      <td>txt</td>\n",
              "      <td>O</td>\n",
              "      <td>OV50</td>\n",
              "      <td>-1.605993e-06</td>\n",
              "      <td>-1.852855e-05</td>\n",
              "      <td>-1.602669e-05</td>\n",
              "      <td>4.012049e-06</td>\n",
              "      <td>1</td>\n",
              "      <td>0</td>\n",
              "      <td>...</td>\n",
              "      <td>0</td>\n",
              "      <td>0</td>\n",
              "      <td>0</td>\n",
              "      <td>1</td>\n",
              "      <td>0</td>\n",
              "      <td>0</td>\n",
              "      <td>0</td>\n",
              "      <td>0</td>\n",
              "      <td>0</td>\n",
              "      <td>0</td>\n",
              "    </tr>\n",
              "    <tr>\n",
              "      <th>4</th>\n",
              "      <td>3567</td>\n",
              "      <td>txt</td>\n",
              "      <td>O</td>\n",
              "      <td>OV50</td>\n",
              "      <td>6.900736e-07</td>\n",
              "      <td>-1.262204e-06</td>\n",
              "      <td>6.769260e-07</td>\n",
              "      <td>7.081253e-07</td>\n",
              "      <td>1</td>\n",
              "      <td>0</td>\n",
              "      <td>...</td>\n",
              "      <td>0</td>\n",
              "      <td>0</td>\n",
              "      <td>0</td>\n",
              "      <td>1</td>\n",
              "      <td>0</td>\n",
              "      <td>0</td>\n",
              "      <td>0</td>\n",
              "      <td>0</td>\n",
              "      <td>0</td>\n",
              "      <td>0</td>\n",
              "    </tr>\n",
              "  </tbody>\n",
              "</table>\n",
              "<p>5 rows × 23 columns</p>\n",
              "</div>\n",
              "    <div class=\"colab-df-buttons\">\n",
              "\n",
              "  <div class=\"colab-df-container\">\n",
              "    <button class=\"colab-df-convert\" onclick=\"convertToInteractive('df-48ca0289-ab48-4581-89ae-a2c74b0ca6e6')\"\n",
              "            title=\"Convert this dataframe to an interactive table.\"\n",
              "            style=\"display:none;\">\n",
              "\n",
              "  <svg xmlns=\"http://www.w3.org/2000/svg\" height=\"24px\" viewBox=\"0 -960 960 960\">\n",
              "    <path d=\"M120-120v-720h720v720H120Zm60-500h600v-160H180v160Zm220 220h160v-160H400v160Zm0 220h160v-160H400v160ZM180-400h160v-160H180v160Zm440 0h160v-160H620v160ZM180-180h160v-160H180v160Zm440 0h160v-160H620v160Z\"/>\n",
              "  </svg>\n",
              "    </button>\n",
              "\n",
              "  <style>\n",
              "    .colab-df-container {\n",
              "      display:flex;\n",
              "      gap: 12px;\n",
              "    }\n",
              "\n",
              "    .colab-df-convert {\n",
              "      background-color: #E8F0FE;\n",
              "      border: none;\n",
              "      border-radius: 50%;\n",
              "      cursor: pointer;\n",
              "      display: none;\n",
              "      fill: #1967D2;\n",
              "      height: 32px;\n",
              "      padding: 0 0 0 0;\n",
              "      width: 32px;\n",
              "    }\n",
              "\n",
              "    .colab-df-convert:hover {\n",
              "      background-color: #E2EBFA;\n",
              "      box-shadow: 0px 1px 2px rgba(60, 64, 67, 0.3), 0px 1px 3px 1px rgba(60, 64, 67, 0.15);\n",
              "      fill: #174EA6;\n",
              "    }\n",
              "\n",
              "    .colab-df-buttons div {\n",
              "      margin-bottom: 4px;\n",
              "    }\n",
              "\n",
              "    [theme=dark] .colab-df-convert {\n",
              "      background-color: #3B4455;\n",
              "      fill: #D2E3FC;\n",
              "    }\n",
              "\n",
              "    [theme=dark] .colab-df-convert:hover {\n",
              "      background-color: #434B5C;\n",
              "      box-shadow: 0px 1px 3px 1px rgba(0, 0, 0, 0.15);\n",
              "      filter: drop-shadow(0px 1px 2px rgba(0, 0, 0, 0.3));\n",
              "      fill: #FFFFFF;\n",
              "    }\n",
              "  </style>\n",
              "\n",
              "    <script>\n",
              "      const buttonEl =\n",
              "        document.querySelector('#df-48ca0289-ab48-4581-89ae-a2c74b0ca6e6 button.colab-df-convert');\n",
              "      buttonEl.style.display =\n",
              "        google.colab.kernel.accessAllowed ? 'block' : 'none';\n",
              "\n",
              "      async function convertToInteractive(key) {\n",
              "        const element = document.querySelector('#df-48ca0289-ab48-4581-89ae-a2c74b0ca6e6');\n",
              "        const dataTable =\n",
              "          await google.colab.kernel.invokeFunction('convertToInteractive',\n",
              "                                                    [key], {});\n",
              "        if (!dataTable) return;\n",
              "\n",
              "        const docLinkHtml = 'Like what you see? Visit the ' +\n",
              "          '<a target=\"_blank\" href=https://colab.research.google.com/notebooks/data_table.ipynb>data table notebook</a>'\n",
              "          + ' to learn more about interactive tables.';\n",
              "        element.innerHTML = '';\n",
              "        dataTable['output_type'] = 'display_data';\n",
              "        await google.colab.output.renderOutput(dataTable, element);\n",
              "        const docLink = document.createElement('div');\n",
              "        docLink.innerHTML = docLinkHtml;\n",
              "        element.appendChild(docLink);\n",
              "      }\n",
              "    </script>\n",
              "  </div>\n",
              "\n",
              "\n",
              "<div id=\"df-b64e3ad8-3d68-4fc4-963b-df7e50865b72\">\n",
              "  <button class=\"colab-df-quickchart\" onclick=\"quickchart('df-b64e3ad8-3d68-4fc4-963b-df7e50865b72')\"\n",
              "            title=\"Suggest charts.\"\n",
              "            style=\"display:none;\">\n",
              "\n",
              "<svg xmlns=\"http://www.w3.org/2000/svg\" height=\"24px\"viewBox=\"0 0 24 24\"\n",
              "     width=\"24px\">\n",
              "    <g>\n",
              "        <path d=\"M19 3H5c-1.1 0-2 .9-2 2v14c0 1.1.9 2 2 2h14c1.1 0 2-.9 2-2V5c0-1.1-.9-2-2-2zM9 17H7v-7h2v7zm4 0h-2V7h2v10zm4 0h-2v-4h2v4z\"/>\n",
              "    </g>\n",
              "</svg>\n",
              "  </button>\n",
              "\n",
              "<style>\n",
              "  .colab-df-quickchart {\n",
              "      --bg-color: #E8F0FE;\n",
              "      --fill-color: #1967D2;\n",
              "      --hover-bg-color: #E2EBFA;\n",
              "      --hover-fill-color: #174EA6;\n",
              "      --disabled-fill-color: #AAA;\n",
              "      --disabled-bg-color: #DDD;\n",
              "  }\n",
              "\n",
              "  [theme=dark] .colab-df-quickchart {\n",
              "      --bg-color: #3B4455;\n",
              "      --fill-color: #D2E3FC;\n",
              "      --hover-bg-color: #434B5C;\n",
              "      --hover-fill-color: #FFFFFF;\n",
              "      --disabled-bg-color: #3B4455;\n",
              "      --disabled-fill-color: #666;\n",
              "  }\n",
              "\n",
              "  .colab-df-quickchart {\n",
              "    background-color: var(--bg-color);\n",
              "    border: none;\n",
              "    border-radius: 50%;\n",
              "    cursor: pointer;\n",
              "    display: none;\n",
              "    fill: var(--fill-color);\n",
              "    height: 32px;\n",
              "    padding: 0;\n",
              "    width: 32px;\n",
              "  }\n",
              "\n",
              "  .colab-df-quickchart:hover {\n",
              "    background-color: var(--hover-bg-color);\n",
              "    box-shadow: 0 1px 2px rgba(60, 64, 67, 0.3), 0 1px 3px 1px rgba(60, 64, 67, 0.15);\n",
              "    fill: var(--button-hover-fill-color);\n",
              "  }\n",
              "\n",
              "  .colab-df-quickchart-complete:disabled,\n",
              "  .colab-df-quickchart-complete:disabled:hover {\n",
              "    background-color: var(--disabled-bg-color);\n",
              "    fill: var(--disabled-fill-color);\n",
              "    box-shadow: none;\n",
              "  }\n",
              "\n",
              "  .colab-df-spinner {\n",
              "    border: 2px solid var(--fill-color);\n",
              "    border-color: transparent;\n",
              "    border-bottom-color: var(--fill-color);\n",
              "    animation:\n",
              "      spin 1s steps(1) infinite;\n",
              "  }\n",
              "\n",
              "  @keyframes spin {\n",
              "    0% {\n",
              "      border-color: transparent;\n",
              "      border-bottom-color: var(--fill-color);\n",
              "      border-left-color: var(--fill-color);\n",
              "    }\n",
              "    20% {\n",
              "      border-color: transparent;\n",
              "      border-left-color: var(--fill-color);\n",
              "      border-top-color: var(--fill-color);\n",
              "    }\n",
              "    30% {\n",
              "      border-color: transparent;\n",
              "      border-left-color: var(--fill-color);\n",
              "      border-top-color: var(--fill-color);\n",
              "      border-right-color: var(--fill-color);\n",
              "    }\n",
              "    40% {\n",
              "      border-color: transparent;\n",
              "      border-right-color: var(--fill-color);\n",
              "      border-top-color: var(--fill-color);\n",
              "    }\n",
              "    60% {\n",
              "      border-color: transparent;\n",
              "      border-right-color: var(--fill-color);\n",
              "    }\n",
              "    80% {\n",
              "      border-color: transparent;\n",
              "      border-right-color: var(--fill-color);\n",
              "      border-bottom-color: var(--fill-color);\n",
              "    }\n",
              "    90% {\n",
              "      border-color: transparent;\n",
              "      border-bottom-color: var(--fill-color);\n",
              "    }\n",
              "  }\n",
              "</style>\n",
              "\n",
              "  <script>\n",
              "    async function quickchart(key) {\n",
              "      const quickchartButtonEl =\n",
              "        document.querySelector('#' + key + ' button');\n",
              "      quickchartButtonEl.disabled = true;  // To prevent multiple clicks.\n",
              "      quickchartButtonEl.classList.add('colab-df-spinner');\n",
              "      try {\n",
              "        const charts = await google.colab.kernel.invokeFunction(\n",
              "            'suggestCharts', [key], {});\n",
              "      } catch (error) {\n",
              "        console.error('Error during call to suggestCharts:', error);\n",
              "      }\n",
              "      quickchartButtonEl.classList.remove('colab-df-spinner');\n",
              "      quickchartButtonEl.classList.add('colab-df-quickchart-complete');\n",
              "    }\n",
              "    (() => {\n",
              "      let quickchartButtonEl =\n",
              "        document.querySelector('#df-b64e3ad8-3d68-4fc4-963b-df7e50865b72 button');\n",
              "      quickchartButtonEl.style.display =\n",
              "        google.colab.kernel.accessAllowed ? 'block' : 'none';\n",
              "    })();\n",
              "  </script>\n",
              "</div>\n",
              "    </div>\n",
              "  </div>\n"
            ]
          },
          "metadata": {},
          "execution_count": 412
        }
      ]
    },
    {
      "cell_type": "code",
      "source": [
        "# interaction terms\n",
        "df_analysis = df_dummied.copy()\n",
        "score_cols = ['MIDAS_all', 'MIDAS_text', 'MIDAS_cross', 'MIDAS_image']\n",
        "# df_analysis = df_dummied.drop('MIDAS_all', axis=1)\n",
        "# score_cols = ['MIDAS_text', 'MIDAS_cross', 'MIDAS_image']\n",
        "category_cols = df_analysis.columns.tolist()\n",
        "for col in [\"id\",f\"{plot_cols[PRED_COL]}_category\"]+score_cols+dummy_cols:\n",
        "    category_cols.remove(col)\n",
        "for s_col in score_cols:\n",
        "    for c_col in category_cols:\n",
        "        df_analysis[f\"{s_col}_{c_col}\"] = df_analysis[s_col]*df_analysis[c_col]\n",
        "df_analysis.head()"
      ],
      "metadata": {
        "colab": {
          "base_uri": "https://localhost:8080/",
          "height": 342
        },
        "id": "gIulhioKheM6",
        "outputId": "55b4a798-4846-4a5d-db6b-b008d04dbb4a"
      },
      "execution_count": null,
      "outputs": [
        {
          "output_type": "execute_result",
          "data": {
            "text/plain": [
              "     id input_modality model_type submodel     MIDAS_all    MIDAS_text  \\\n",
              "0  1726            txt          O     OV50 -7.027270e-07 -3.051471e-06   \n",
              "1  2634            txt          O     OV50 -1.827422e-06 -1.886216e-05   \n",
              "2  2783            txt          O     OV50 -5.818038e-08 -5.007169e-07   \n",
              "3  3519            txt          O     OV50 -1.605993e-06 -1.852855e-05   \n",
              "4  3567            txt          O     OV50  6.900736e-07 -1.262204e-06   \n",
              "\n",
              "    MIDAS_cross   MIDAS_image  miATE_category  input_modality_img  ...  \\\n",
              "0 -1.931298e-06 -2.006102e-07               0                   0  ...   \n",
              "1 -2.025146e-05  5.231394e-06               1                   0  ...   \n",
              "2 -7.091439e-07  1.870875e-07               0                   0  ...   \n",
              "3 -1.602669e-05  4.012049e-06               1                   0  ...   \n",
              "4  6.769260e-07  7.081253e-07               1                   0  ...   \n",
              "\n",
              "   MIDAS_image_model_type_V  MIDAS_image_submodel_O36  \\\n",
              "0                      -0.0                      -0.0   \n",
              "1                       0.0                       0.0   \n",
              "2                       0.0                       0.0   \n",
              "3                       0.0                       0.0   \n",
              "4                       0.0                       0.0   \n",
              "\n",
              "   MIDAS_image_submodel_O50  MIDAS_image_submodel_OV50  \\\n",
              "0                      -0.0              -2.006102e-07   \n",
              "1                       0.0               5.231394e-06   \n",
              "2                       0.0               1.870875e-07   \n",
              "3                       0.0               4.012049e-06   \n",
              "4                       0.0               7.081253e-07   \n",
              "\n",
              "   MIDAS_image_submodel_U36  MIDAS_image_submodel_U50  \\\n",
              "0                      -0.0                      -0.0   \n",
              "1                       0.0                       0.0   \n",
              "2                       0.0                       0.0   \n",
              "3                       0.0                       0.0   \n",
              "4                       0.0                       0.0   \n",
              "\n",
              "   MIDAS_image_submodel_U72  MIDAS_image_submodel_V135  \\\n",
              "0                      -0.0                       -0.0   \n",
              "1                       0.0                        0.0   \n",
              "2                       0.0                        0.0   \n",
              "3                       0.0                        0.0   \n",
              "4                       0.0                        0.0   \n",
              "\n",
              "   MIDAS_image_submodel_V45  MIDAS_image_submodel_V90  \n",
              "0                      -0.0                      -0.0  \n",
              "1                       0.0                       0.0  \n",
              "2                       0.0                       0.0  \n",
              "3                       0.0                       0.0  \n",
              "4                       0.0                       0.0  \n",
              "\n",
              "[5 rows x 79 columns]"
            ],
            "text/html": [
              "\n",
              "  <div id=\"df-d2fe9c09-5426-4dc7-b516-f43d3198d7a9\" class=\"colab-df-container\">\n",
              "    <div>\n",
              "<style scoped>\n",
              "    .dataframe tbody tr th:only-of-type {\n",
              "        vertical-align: middle;\n",
              "    }\n",
              "\n",
              "    .dataframe tbody tr th {\n",
              "        vertical-align: top;\n",
              "    }\n",
              "\n",
              "    .dataframe thead th {\n",
              "        text-align: right;\n",
              "    }\n",
              "</style>\n",
              "<table border=\"1\" class=\"dataframe\">\n",
              "  <thead>\n",
              "    <tr style=\"text-align: right;\">\n",
              "      <th></th>\n",
              "      <th>id</th>\n",
              "      <th>input_modality</th>\n",
              "      <th>model_type</th>\n",
              "      <th>submodel</th>\n",
              "      <th>MIDAS_all</th>\n",
              "      <th>MIDAS_text</th>\n",
              "      <th>MIDAS_cross</th>\n",
              "      <th>MIDAS_image</th>\n",
              "      <th>miATE_category</th>\n",
              "      <th>input_modality_img</th>\n",
              "      <th>...</th>\n",
              "      <th>MIDAS_image_model_type_V</th>\n",
              "      <th>MIDAS_image_submodel_O36</th>\n",
              "      <th>MIDAS_image_submodel_O50</th>\n",
              "      <th>MIDAS_image_submodel_OV50</th>\n",
              "      <th>MIDAS_image_submodel_U36</th>\n",
              "      <th>MIDAS_image_submodel_U50</th>\n",
              "      <th>MIDAS_image_submodel_U72</th>\n",
              "      <th>MIDAS_image_submodel_V135</th>\n",
              "      <th>MIDAS_image_submodel_V45</th>\n",
              "      <th>MIDAS_image_submodel_V90</th>\n",
              "    </tr>\n",
              "  </thead>\n",
              "  <tbody>\n",
              "    <tr>\n",
              "      <th>0</th>\n",
              "      <td>1726</td>\n",
              "      <td>txt</td>\n",
              "      <td>O</td>\n",
              "      <td>OV50</td>\n",
              "      <td>-7.027270e-07</td>\n",
              "      <td>-3.051471e-06</td>\n",
              "      <td>-1.931298e-06</td>\n",
              "      <td>-2.006102e-07</td>\n",
              "      <td>0</td>\n",
              "      <td>0</td>\n",
              "      <td>...</td>\n",
              "      <td>-0.0</td>\n",
              "      <td>-0.0</td>\n",
              "      <td>-0.0</td>\n",
              "      <td>-2.006102e-07</td>\n",
              "      <td>-0.0</td>\n",
              "      <td>-0.0</td>\n",
              "      <td>-0.0</td>\n",
              "      <td>-0.0</td>\n",
              "      <td>-0.0</td>\n",
              "      <td>-0.0</td>\n",
              "    </tr>\n",
              "    <tr>\n",
              "      <th>1</th>\n",
              "      <td>2634</td>\n",
              "      <td>txt</td>\n",
              "      <td>O</td>\n",
              "      <td>OV50</td>\n",
              "      <td>-1.827422e-06</td>\n",
              "      <td>-1.886216e-05</td>\n",
              "      <td>-2.025146e-05</td>\n",
              "      <td>5.231394e-06</td>\n",
              "      <td>1</td>\n",
              "      <td>0</td>\n",
              "      <td>...</td>\n",
              "      <td>0.0</td>\n",
              "      <td>0.0</td>\n",
              "      <td>0.0</td>\n",
              "      <td>5.231394e-06</td>\n",
              "      <td>0.0</td>\n",
              "      <td>0.0</td>\n",
              "      <td>0.0</td>\n",
              "      <td>0.0</td>\n",
              "      <td>0.0</td>\n",
              "      <td>0.0</td>\n",
              "    </tr>\n",
              "    <tr>\n",
              "      <th>2</th>\n",
              "      <td>2783</td>\n",
              "      <td>txt</td>\n",
              "      <td>O</td>\n",
              "      <td>OV50</td>\n",
              "      <td>-5.818038e-08</td>\n",
              "      <td>-5.007169e-07</td>\n",
              "      <td>-7.091439e-07</td>\n",
              "      <td>1.870875e-07</td>\n",
              "      <td>0</td>\n",
              "      <td>0</td>\n",
              "      <td>...</td>\n",
              "      <td>0.0</td>\n",
              "      <td>0.0</td>\n",
              "      <td>0.0</td>\n",
              "      <td>1.870875e-07</td>\n",
              "      <td>0.0</td>\n",
              "      <td>0.0</td>\n",
              "      <td>0.0</td>\n",
              "      <td>0.0</td>\n",
              "      <td>0.0</td>\n",
              "      <td>0.0</td>\n",
              "    </tr>\n",
              "    <tr>\n",
              "      <th>3</th>\n",
              "      <td>3519</td>\n",
              "      <td>txt</td>\n",
              "      <td>O</td>\n",
              "      <td>OV50</td>\n",
              "      <td>-1.605993e-06</td>\n",
              "      <td>-1.852855e-05</td>\n",
              "      <td>-1.602669e-05</td>\n",
              "      <td>4.012049e-06</td>\n",
              "      <td>1</td>\n",
              "      <td>0</td>\n",
              "      <td>...</td>\n",
              "      <td>0.0</td>\n",
              "      <td>0.0</td>\n",
              "      <td>0.0</td>\n",
              "      <td>4.012049e-06</td>\n",
              "      <td>0.0</td>\n",
              "      <td>0.0</td>\n",
              "      <td>0.0</td>\n",
              "      <td>0.0</td>\n",
              "      <td>0.0</td>\n",
              "      <td>0.0</td>\n",
              "    </tr>\n",
              "    <tr>\n",
              "      <th>4</th>\n",
              "      <td>3567</td>\n",
              "      <td>txt</td>\n",
              "      <td>O</td>\n",
              "      <td>OV50</td>\n",
              "      <td>6.900736e-07</td>\n",
              "      <td>-1.262204e-06</td>\n",
              "      <td>6.769260e-07</td>\n",
              "      <td>7.081253e-07</td>\n",
              "      <td>1</td>\n",
              "      <td>0</td>\n",
              "      <td>...</td>\n",
              "      <td>0.0</td>\n",
              "      <td>0.0</td>\n",
              "      <td>0.0</td>\n",
              "      <td>7.081253e-07</td>\n",
              "      <td>0.0</td>\n",
              "      <td>0.0</td>\n",
              "      <td>0.0</td>\n",
              "      <td>0.0</td>\n",
              "      <td>0.0</td>\n",
              "      <td>0.0</td>\n",
              "    </tr>\n",
              "  </tbody>\n",
              "</table>\n",
              "<p>5 rows × 79 columns</p>\n",
              "</div>\n",
              "    <div class=\"colab-df-buttons\">\n",
              "\n",
              "  <div class=\"colab-df-container\">\n",
              "    <button class=\"colab-df-convert\" onclick=\"convertToInteractive('df-d2fe9c09-5426-4dc7-b516-f43d3198d7a9')\"\n",
              "            title=\"Convert this dataframe to an interactive table.\"\n",
              "            style=\"display:none;\">\n",
              "\n",
              "  <svg xmlns=\"http://www.w3.org/2000/svg\" height=\"24px\" viewBox=\"0 -960 960 960\">\n",
              "    <path d=\"M120-120v-720h720v720H120Zm60-500h600v-160H180v160Zm220 220h160v-160H400v160Zm0 220h160v-160H400v160ZM180-400h160v-160H180v160Zm440 0h160v-160H620v160ZM180-180h160v-160H180v160Zm440 0h160v-160H620v160Z\"/>\n",
              "  </svg>\n",
              "    </button>\n",
              "\n",
              "  <style>\n",
              "    .colab-df-container {\n",
              "      display:flex;\n",
              "      gap: 12px;\n",
              "    }\n",
              "\n",
              "    .colab-df-convert {\n",
              "      background-color: #E8F0FE;\n",
              "      border: none;\n",
              "      border-radius: 50%;\n",
              "      cursor: pointer;\n",
              "      display: none;\n",
              "      fill: #1967D2;\n",
              "      height: 32px;\n",
              "      padding: 0 0 0 0;\n",
              "      width: 32px;\n",
              "    }\n",
              "\n",
              "    .colab-df-convert:hover {\n",
              "      background-color: #E2EBFA;\n",
              "      box-shadow: 0px 1px 2px rgba(60, 64, 67, 0.3), 0px 1px 3px 1px rgba(60, 64, 67, 0.15);\n",
              "      fill: #174EA6;\n",
              "    }\n",
              "\n",
              "    .colab-df-buttons div {\n",
              "      margin-bottom: 4px;\n",
              "    }\n",
              "\n",
              "    [theme=dark] .colab-df-convert {\n",
              "      background-color: #3B4455;\n",
              "      fill: #D2E3FC;\n",
              "    }\n",
              "\n",
              "    [theme=dark] .colab-df-convert:hover {\n",
              "      background-color: #434B5C;\n",
              "      box-shadow: 0px 1px 3px 1px rgba(0, 0, 0, 0.15);\n",
              "      filter: drop-shadow(0px 1px 2px rgba(0, 0, 0, 0.3));\n",
              "      fill: #FFFFFF;\n",
              "    }\n",
              "  </style>\n",
              "\n",
              "    <script>\n",
              "      const buttonEl =\n",
              "        document.querySelector('#df-d2fe9c09-5426-4dc7-b516-f43d3198d7a9 button.colab-df-convert');\n",
              "      buttonEl.style.display =\n",
              "        google.colab.kernel.accessAllowed ? 'block' : 'none';\n",
              "\n",
              "      async function convertToInteractive(key) {\n",
              "        const element = document.querySelector('#df-d2fe9c09-5426-4dc7-b516-f43d3198d7a9');\n",
              "        const dataTable =\n",
              "          await google.colab.kernel.invokeFunction('convertToInteractive',\n",
              "                                                    [key], {});\n",
              "        if (!dataTable) return;\n",
              "\n",
              "        const docLinkHtml = 'Like what you see? Visit the ' +\n",
              "          '<a target=\"_blank\" href=https://colab.research.google.com/notebooks/data_table.ipynb>data table notebook</a>'\n",
              "          + ' to learn more about interactive tables.';\n",
              "        element.innerHTML = '';\n",
              "        dataTable['output_type'] = 'display_data';\n",
              "        await google.colab.output.renderOutput(dataTable, element);\n",
              "        const docLink = document.createElement('div');\n",
              "        docLink.innerHTML = docLinkHtml;\n",
              "        element.appendChild(docLink);\n",
              "      }\n",
              "    </script>\n",
              "  </div>\n",
              "\n",
              "\n",
              "<div id=\"df-dec93d0e-095e-402a-a286-3caebb4d6404\">\n",
              "  <button class=\"colab-df-quickchart\" onclick=\"quickchart('df-dec93d0e-095e-402a-a286-3caebb4d6404')\"\n",
              "            title=\"Suggest charts.\"\n",
              "            style=\"display:none;\">\n",
              "\n",
              "<svg xmlns=\"http://www.w3.org/2000/svg\" height=\"24px\"viewBox=\"0 0 24 24\"\n",
              "     width=\"24px\">\n",
              "    <g>\n",
              "        <path d=\"M19 3H5c-1.1 0-2 .9-2 2v14c0 1.1.9 2 2 2h14c1.1 0 2-.9 2-2V5c0-1.1-.9-2-2-2zM9 17H7v-7h2v7zm4 0h-2V7h2v10zm4 0h-2v-4h2v4z\"/>\n",
              "    </g>\n",
              "</svg>\n",
              "  </button>\n",
              "\n",
              "<style>\n",
              "  .colab-df-quickchart {\n",
              "      --bg-color: #E8F0FE;\n",
              "      --fill-color: #1967D2;\n",
              "      --hover-bg-color: #E2EBFA;\n",
              "      --hover-fill-color: #174EA6;\n",
              "      --disabled-fill-color: #AAA;\n",
              "      --disabled-bg-color: #DDD;\n",
              "  }\n",
              "\n",
              "  [theme=dark] .colab-df-quickchart {\n",
              "      --bg-color: #3B4455;\n",
              "      --fill-color: #D2E3FC;\n",
              "      --hover-bg-color: #434B5C;\n",
              "      --hover-fill-color: #FFFFFF;\n",
              "      --disabled-bg-color: #3B4455;\n",
              "      --disabled-fill-color: #666;\n",
              "  }\n",
              "\n",
              "  .colab-df-quickchart {\n",
              "    background-color: var(--bg-color);\n",
              "    border: none;\n",
              "    border-radius: 50%;\n",
              "    cursor: pointer;\n",
              "    display: none;\n",
              "    fill: var(--fill-color);\n",
              "    height: 32px;\n",
              "    padding: 0;\n",
              "    width: 32px;\n",
              "  }\n",
              "\n",
              "  .colab-df-quickchart:hover {\n",
              "    background-color: var(--hover-bg-color);\n",
              "    box-shadow: 0 1px 2px rgba(60, 64, 67, 0.3), 0 1px 3px 1px rgba(60, 64, 67, 0.15);\n",
              "    fill: var(--button-hover-fill-color);\n",
              "  }\n",
              "\n",
              "  .colab-df-quickchart-complete:disabled,\n",
              "  .colab-df-quickchart-complete:disabled:hover {\n",
              "    background-color: var(--disabled-bg-color);\n",
              "    fill: var(--disabled-fill-color);\n",
              "    box-shadow: none;\n",
              "  }\n",
              "\n",
              "  .colab-df-spinner {\n",
              "    border: 2px solid var(--fill-color);\n",
              "    border-color: transparent;\n",
              "    border-bottom-color: var(--fill-color);\n",
              "    animation:\n",
              "      spin 1s steps(1) infinite;\n",
              "  }\n",
              "\n",
              "  @keyframes spin {\n",
              "    0% {\n",
              "      border-color: transparent;\n",
              "      border-bottom-color: var(--fill-color);\n",
              "      border-left-color: var(--fill-color);\n",
              "    }\n",
              "    20% {\n",
              "      border-color: transparent;\n",
              "      border-left-color: var(--fill-color);\n",
              "      border-top-color: var(--fill-color);\n",
              "    }\n",
              "    30% {\n",
              "      border-color: transparent;\n",
              "      border-left-color: var(--fill-color);\n",
              "      border-top-color: var(--fill-color);\n",
              "      border-right-color: var(--fill-color);\n",
              "    }\n",
              "    40% {\n",
              "      border-color: transparent;\n",
              "      border-right-color: var(--fill-color);\n",
              "      border-top-color: var(--fill-color);\n",
              "    }\n",
              "    60% {\n",
              "      border-color: transparent;\n",
              "      border-right-color: var(--fill-color);\n",
              "    }\n",
              "    80% {\n",
              "      border-color: transparent;\n",
              "      border-right-color: var(--fill-color);\n",
              "      border-bottom-color: var(--fill-color);\n",
              "    }\n",
              "    90% {\n",
              "      border-color: transparent;\n",
              "      border-bottom-color: var(--fill-color);\n",
              "    }\n",
              "  }\n",
              "</style>\n",
              "\n",
              "  <script>\n",
              "    async function quickchart(key) {\n",
              "      const quickchartButtonEl =\n",
              "        document.querySelector('#' + key + ' button');\n",
              "      quickchartButtonEl.disabled = true;  // To prevent multiple clicks.\n",
              "      quickchartButtonEl.classList.add('colab-df-spinner');\n",
              "      try {\n",
              "        const charts = await google.colab.kernel.invokeFunction(\n",
              "            'suggestCharts', [key], {});\n",
              "      } catch (error) {\n",
              "        console.error('Error during call to suggestCharts:', error);\n",
              "      }\n",
              "      quickchartButtonEl.classList.remove('colab-df-spinner');\n",
              "      quickchartButtonEl.classList.add('colab-df-quickchart-complete');\n",
              "    }\n",
              "    (() => {\n",
              "      let quickchartButtonEl =\n",
              "        document.querySelector('#df-dec93d0e-095e-402a-a286-3caebb4d6404 button');\n",
              "      quickchartButtonEl.style.display =\n",
              "        google.colab.kernel.accessAllowed ? 'block' : 'none';\n",
              "    })();\n",
              "  </script>\n",
              "</div>\n",
              "    </div>\n",
              "  </div>\n"
            ]
          },
          "metadata": {},
          "execution_count": 413
        }
      ]
    },
    {
      "cell_type": "markdown",
      "source": [
        "#### shared 2"
      ],
      "metadata": {
        "id": "Elz27pMkwWBT"
      }
    },
    {
      "cell_type": "code",
      "source": [
        "# for modeling\n",
        "df_analysis = df_analysis.drop(dummy_cols, axis=1)\n",
        "X_cols = df_analysis.columns.tolist()\n",
        "remove_cols = [\"id\",f\"{plot_cols[PRED_COL]}_category\"]\n",
        "for col in remove_cols:\n",
        "    X_cols.remove(col)\n",
        "df_train_eval, df_test = train_test_split(df_analysis, random_state=RS, test_size=0.3)\n",
        "df_train, df_eval = train_test_split(df_train_eval, random_state=RS, test_size=0.2)\n",
        "print(f\"[train, eval, test] size: {[df_train.shape, df_eval.shape, df_test.shape]}\")\n",
        "X_train_eval = df_train_eval[X_cols].values\n",
        "y_train_eval = df_train_eval[f\"{plot_cols[PRED_COL]}_category\"].values\n",
        "X_train, X_eval, X_test = df_train[X_cols].values, df_eval[X_cols].values, df_test[X_cols].values\n",
        "y_train = df_train[f\"{plot_cols[PRED_COL]}_category\"].values\n",
        "y_eval = df_eval[f\"{plot_cols[PRED_COL]}_category\"].values\n",
        "y_test = df_test[f\"{plot_cols[PRED_COL]}_category\"].values"
      ],
      "metadata": {
        "colab": {
          "base_uri": "https://localhost:8080/"
        },
        "id": "zZUazS1GYQ9s",
        "outputId": "3a291718-fa85-4055-f0f7-c8f95781b995"
      },
      "execution_count": null,
      "outputs": [
        {
          "output_type": "stream",
          "name": "stdout",
          "text": [
            "[train, eval, test] size: [(619, 76), (155, 76), (333, 76)]\n"
          ]
        }
      ]
    },
    {
      "cell_type": "markdown",
      "source": [
        "### interaction modeling"
      ],
      "metadata": {
        "id": "-1fBe4KFRNK9"
      }
    },
    {
      "cell_type": "markdown",
      "source": [
        "#### for all"
      ],
      "metadata": {
        "id": "3JWe6Hg7Rf_N"
      }
    },
    {
      "cell_type": "code",
      "source": [
        "# model class\n",
        "params = {\n",
        "    'verbose': -1,\n",
        "    'task': 'train',\n",
        "    'boosting_type': 'gbdt',\n",
        "    'objective': 'binary',\n",
        "    'metric': 'binary_logloss',\n",
        "    'learning_rate': 0.1,\n",
        "    'seed': RS,\n",
        "    'deterministic':True,\n",
        "    'force_row_wise':True\n",
        "}"
      ],
      "metadata": {
        "id": "D4u6quztgZEY"
      },
      "execution_count": null,
      "outputs": []
    },
    {
      "cell_type": "code",
      "source": [
        "# fit\n",
        "lgb_train = opt_lgb.Dataset(X_train, y_train)\n",
        "lgb_valid = opt_lgb.Dataset(X_eval, y_eval, reference=lgb_train)\n",
        "lgb_test = opt_lgb.Dataset(X_test, y_test, reference=lgb_train)\n",
        "lgb_results = {}\n",
        "model = opt_lgb.LightGBMTuner(\n",
        "    params=params,\n",
        "    train_set=lgb_train,\n",
        "    valid_sets=[lgb_train, lgb_valid],\n",
        "    valid_names=['Train', 'Valid'],\n",
        "    num_boost_round=500,\n",
        "    early_stopping_rounds=5,\n",
        "    evals_result=lgb_results,\n",
        "    verbosity=-1,\n",
        "    verbose_eval=-1,\n",
        "    optuna_seed=RS,\n",
        ")\n",
        "model.run()\n",
        "model = model.get_best_booster()"
      ],
      "metadata": {
        "colab": {
          "base_uri": "https://localhost:8080/"
        },
        "id": "YN92kpn-mPx_",
        "outputId": "fe665ac2-be5f-40f5-f3cb-ba8c49b20587"
      },
      "execution_count": null,
      "outputs": [
        {
          "output_type": "stream",
          "name": "stderr",
          "text": [
            "feature_fraction, val_score: 0.592745:  71%|#######1  | 5/7 [00:00<00:00, 31.44it/s]"
          ]
        },
        {
          "output_type": "stream",
          "name": "stdout",
          "text": [
            "Training until validation scores don't improve for 5 rounds\n",
            "Early stopping, best iteration is:\n",
            "[16]\tTrain's binary_logloss: 0.434215\tValid's binary_logloss: 0.608309\n",
            "Training until validation scores don't improve for 5 rounds\n",
            "Early stopping, best iteration is:\n",
            "[17]\tTrain's binary_logloss: 0.399755\tValid's binary_logloss: 0.61952\n",
            "Training until validation scores don't improve for 5 rounds\n",
            "Early stopping, best iteration is:\n",
            "[17]\tTrain's binary_logloss: 0.391137\tValid's binary_logloss: 0.605784\n",
            "Training until validation scores don't improve for 5 rounds\n",
            "Early stopping, best iteration is:\n",
            "[14]\tTrain's binary_logloss: 0.429201\tValid's binary_logloss: 0.592745\n",
            "Training until validation scores don't improve for 5 rounds\n",
            "Early stopping, best iteration is:\n",
            "[16]\tTrain's binary_logloss: 0.414887\tValid's binary_logloss: 0.604011\n",
            "Training until validation scores don't improve for 5 rounds\n"
          ]
        },
        {
          "output_type": "stream",
          "name": "stderr",
          "text": [
            "feature_fraction, val_score: 0.592745:  86%|########5 | 6/7 [00:00<00:00, 31.44it/s]"
          ]
        },
        {
          "output_type": "stream",
          "name": "stdout",
          "text": [
            "Early stopping, best iteration is:\n",
            "[19]\tTrain's binary_logloss: 0.37621\tValid's binary_logloss: 0.597824\n",
            "Training until validation scores don't improve for 5 rounds\n",
            "Early stopping, best iteration is:\n",
            "[16]\tTrain's binary_logloss: 0.415787\tValid's binary_logloss: 0.59586\n"
          ]
        },
        {
          "output_type": "stream",
          "name": "stderr",
          "text": [
            "feature_fraction, val_score: 0.592745: 100%|##########| 7/7 [00:00<00:00, 31.50it/s]\n",
            "num_leaves, val_score: 0.592745:  20%|##        | 4/20 [00:00<00:00, 30.28it/s]"
          ]
        },
        {
          "output_type": "stream",
          "name": "stdout",
          "text": [
            "Training until validation scores don't improve for 5 rounds\n",
            "Early stopping, best iteration is:\n",
            "[14]\tTrain's binary_logloss: 0.429201\tValid's binary_logloss: 0.592745\n",
            "Training until validation scores don't improve for 5 rounds\n",
            "Early stopping, best iteration is:\n",
            "[14]\tTrain's binary_logloss: 0.429201\tValid's binary_logloss: 0.592745\n",
            "Training until validation scores don't improve for 5 rounds\n",
            "Early stopping, best iteration is:\n",
            "[14]\tTrain's binary_logloss: 0.429201\tValid's binary_logloss: 0.592745\n",
            "Training until validation scores don't improve for 5 rounds\n",
            "Early stopping, best iteration is:\n",
            "[14]\tTrain's binary_logloss: 0.429201\tValid's binary_logloss: 0.592745\n",
            "Training until validation scores don't improve for 5 rounds\n"
          ]
        },
        {
          "output_type": "stream",
          "name": "stderr",
          "text": [
            "num_leaves, val_score: 0.592745:  30%|###       | 6/20 [00:00<00:00, 30.28it/s]"
          ]
        },
        {
          "output_type": "stream",
          "name": "stdout",
          "text": [
            "Early stopping, best iteration is:\n",
            "[14]\tTrain's binary_logloss: 0.429201\tValid's binary_logloss: 0.592745\n",
            "Training until validation scores don't improve for 5 rounds\n",
            "Early stopping, best iteration is:\n",
            "[14]\tTrain's binary_logloss: 0.429201\tValid's binary_logloss: 0.592745\n",
            "Training until validation scores don't improve for 5 rounds\n"
          ]
        },
        {
          "output_type": "stream",
          "name": "stderr",
          "text": [
            "num_leaves, val_score: 0.592745:  35%|###5      | 7/20 [00:00<00:00, 30.28it/s]"
          ]
        },
        {
          "output_type": "stream",
          "name": "stdout",
          "text": [
            "Early stopping, best iteration is:\n",
            "[14]\tTrain's binary_logloss: 0.429201\tValid's binary_logloss: 0.592745\n",
            "Training until validation scores don't improve for 5 rounds\n"
          ]
        },
        {
          "output_type": "stream",
          "name": "stderr",
          "text": [
            "num_leaves, val_score: 0.592745:  40%|####      | 8/20 [00:02<00:04,  2.53it/s]"
          ]
        },
        {
          "output_type": "stream",
          "name": "stdout",
          "text": [
            "Early stopping, best iteration is:\n",
            "[14]\tTrain's binary_logloss: 0.429201\tValid's binary_logloss: 0.592745\n",
            "Training until validation scores don't improve for 5 rounds\n"
          ]
        },
        {
          "output_type": "stream",
          "name": "stderr",
          "text": [
            "num_leaves, val_score: 0.592745:  60%|######    | 12/20 [00:03<00:02,  2.86it/s]"
          ]
        },
        {
          "output_type": "stream",
          "name": "stdout",
          "text": [
            "Early stopping, best iteration is:\n",
            "[14]\tTrain's binary_logloss: 0.429201\tValid's binary_logloss: 0.592745\n",
            "Training until validation scores don't improve for 5 rounds\n",
            "Early stopping, best iteration is:\n",
            "[14]\tTrain's binary_logloss: 0.429201\tValid's binary_logloss: 0.592745\n",
            "Training until validation scores don't improve for 5 rounds\n",
            "Early stopping, best iteration is:\n",
            "[14]\tTrain's binary_logloss: 0.429201\tValid's binary_logloss: 0.592745\n",
            "Training until validation scores don't improve for 5 rounds\n",
            "Early stopping, best iteration is:\n",
            "[14]\tTrain's binary_logloss: 0.429201\tValid's binary_logloss: 0.592745\n",
            "Training until validation scores don't improve for 5 rounds\n"
          ]
        },
        {
          "output_type": "stream",
          "name": "stderr",
          "text": [
            "num_leaves, val_score: 0.592634:  90%|######### | 18/20 [00:03<00:00,  6.13it/s]"
          ]
        },
        {
          "output_type": "stream",
          "name": "stdout",
          "text": [
            "Early stopping, best iteration is:\n",
            "[14]\tTrain's binary_logloss: 0.429201\tValid's binary_logloss: 0.592745\n",
            "Training until validation scores don't improve for 5 rounds\n",
            "Early stopping, best iteration is:\n",
            "[14]\tTrain's binary_logloss: 0.429201\tValid's binary_logloss: 0.592745\n",
            "Training until validation scores don't improve for 5 rounds\n",
            "Early stopping, best iteration is:\n",
            "[29]\tTrain's binary_logloss: 0.321557\tValid's binary_logloss: 0.592634\n",
            "Training until validation scores don't improve for 5 rounds\n",
            "Early stopping, best iteration is:\n",
            "[30]\tTrain's binary_logloss: 0.507558\tValid's binary_logloss: 0.638052\n",
            "Training until validation scores don't improve for 5 rounds\n",
            "Early stopping, best iteration is:\n",
            "[14]\tTrain's binary_logloss: 0.429201\tValid's binary_logloss: 0.592745\n",
            "Training until validation scores don't improve for 5 rounds\n",
            "Early stopping, best iteration is:\n",
            "[14]\tTrain's binary_logloss: 0.429201\tValid's binary_logloss: 0.592745\n"
          ]
        },
        {
          "output_type": "stream",
          "name": "stderr",
          "text": [
            "num_leaves, val_score: 0.592634: 100%|##########| 20/20 [00:03<00:00,  5.53it/s]\n"
          ]
        },
        {
          "output_type": "stream",
          "name": "stdout",
          "text": [
            "Training until validation scores don't improve for 5 rounds\n",
            "Early stopping, best iteration is:\n",
            "[14]\tTrain's binary_logloss: 0.429201\tValid's binary_logloss: 0.592745\n",
            "Training until validation scores don't improve for 5 rounds\n",
            "Early stopping, best iteration is:\n",
            "[14]\tTrain's binary_logloss: 0.429201\tValid's binary_logloss: 0.592745\n"
          ]
        },
        {
          "output_type": "stream",
          "name": "stderr",
          "text": [
            "bagging, val_score: 0.592634:  20%|##        | 2/10 [00:00<00:00, 14.81it/s]"
          ]
        },
        {
          "output_type": "stream",
          "name": "stdout",
          "text": [
            "Training until validation scores don't improve for 5 rounds\n",
            "Early stopping, best iteration is:\n",
            "[18]\tTrain's binary_logloss: 0.467645\tValid's binary_logloss: 0.610969\n",
            "Training until validation scores don't improve for 5 rounds\n",
            "Early stopping, best iteration is:\n",
            "[19]\tTrain's binary_logloss: 0.39465\tValid's binary_logloss: 0.605371\n"
          ]
        },
        {
          "output_type": "stream",
          "name": "stderr",
          "text": [
            "bagging, val_score: 0.592634:  30%|###       | 3/10 [00:00<00:00, 14.81it/s]"
          ]
        },
        {
          "output_type": "stream",
          "name": "stdout",
          "text": [
            "Training until validation scores don't improve for 5 rounds\n",
            "Early stopping, best iteration is:\n",
            "[17]\tTrain's binary_logloss: 0.517652\tValid's binary_logloss: 0.630746\n",
            "Training until validation scores don't improve for 5 rounds\n"
          ]
        },
        {
          "output_type": "stream",
          "name": "stderr",
          "text": [
            "bagging, val_score: 0.592634:  40%|####      | 4/10 [00:01<00:03,  1.84it/s]"
          ]
        },
        {
          "output_type": "stream",
          "name": "stdout",
          "text": [
            "Early stopping, best iteration is:\n",
            "[23]\tTrain's binary_logloss: 0.362271\tValid's binary_logloss: 0.603296\n"
          ]
        },
        {
          "output_type": "stream",
          "name": "stderr",
          "text": [
            "bagging, val_score: 0.592634:  90%|######### | 9/10 [00:02<00:00,  3.94it/s]"
          ]
        },
        {
          "output_type": "stream",
          "name": "stdout",
          "text": [
            "Training until validation scores don't improve for 5 rounds\n",
            "Early stopping, best iteration is:\n",
            "[30]\tTrain's binary_logloss: 0.369711\tValid's binary_logloss: 0.596716\n",
            "Training until validation scores don't improve for 5 rounds\n",
            "Early stopping, best iteration is:\n",
            "[11]\tTrain's binary_logloss: 0.557416\tValid's binary_logloss: 0.641413\n",
            "Training until validation scores don't improve for 5 rounds\n",
            "Early stopping, best iteration is:\n",
            "[21]\tTrain's binary_logloss: 0.409421\tValid's binary_logloss: 0.607745\n",
            "Training until validation scores don't improve for 5 rounds\n",
            "Early stopping, best iteration is:\n",
            "[25]\tTrain's binary_logloss: 0.439556\tValid's binary_logloss: 0.618459\n",
            "Training until validation scores don't improve for 5 rounds\n",
            "Early stopping, best iteration is:\n",
            "[15]\tTrain's binary_logloss: 0.443975\tValid's binary_logloss: 0.599754\n"
          ]
        },
        {
          "output_type": "stream",
          "name": "stderr",
          "text": [
            "bagging, val_score: 0.592634: 100%|##########| 10/10 [00:02<00:00,  3.88it/s]\n"
          ]
        },
        {
          "output_type": "stream",
          "name": "stdout",
          "text": [
            "Training until validation scores don't improve for 5 rounds\n",
            "Early stopping, best iteration is:\n",
            "[11]\tTrain's binary_logloss: 0.522846\tValid's binary_logloss: 0.63782\n"
          ]
        },
        {
          "output_type": "stream",
          "name": "stderr",
          "text": [
            "feature_fraction_stage2, val_score: 0.592634:  50%|#####     | 3/6 [00:00<00:00, 26.47it/s]"
          ]
        },
        {
          "output_type": "stream",
          "name": "stdout",
          "text": [
            "Training until validation scores don't improve for 5 rounds\n",
            "Early stopping, best iteration is:\n",
            "[15]\tTrain's binary_logloss: 0.428642\tValid's binary_logloss: 0.602609\n",
            "Training until validation scores don't improve for 5 rounds\n",
            "Early stopping, best iteration is:\n",
            "[16]\tTrain's binary_logloss: 0.412219\tValid's binary_logloss: 0.597788\n",
            "Training until validation scores don't improve for 5 rounds\n",
            "Early stopping, best iteration is:\n",
            "[15]\tTrain's binary_logloss: 0.420953\tValid's binary_logloss: 0.597228\n"
          ]
        },
        {
          "output_type": "stream",
          "name": "stderr",
          "text": [
            "feature_fraction_stage2, val_score: 0.592634: 100%|##########| 6/6 [00:01<00:00,  4.39it/s]"
          ]
        },
        {
          "output_type": "stream",
          "name": "stdout",
          "text": [
            "Training until validation scores don't improve for 5 rounds\n",
            "Early stopping, best iteration is:\n",
            "[23]\tTrain's binary_logloss: 0.364034\tValid's binary_logloss: 0.598877\n",
            "Training until validation scores don't improve for 5 rounds\n",
            "Early stopping, best iteration is:\n",
            "[17]\tTrain's binary_logloss: 0.405726\tValid's binary_logloss: 0.598985\n",
            "Training until validation scores don't improve for 5 rounds\n",
            "Early stopping, best iteration is:\n",
            "[16]\tTrain's binary_logloss: 0.413803\tValid's binary_logloss: 0.602276\n"
          ]
        },
        {
          "output_type": "stream",
          "name": "stderr",
          "text": [
            "\n",
            "regularization_factors, val_score: 0.592634:  15%|#5        | 3/20 [00:00<00:01, 16.62it/s]"
          ]
        },
        {
          "output_type": "stream",
          "name": "stdout",
          "text": [
            "Training until validation scores don't improve for 5 rounds\n",
            "Early stopping, best iteration is:\n",
            "[29]\tTrain's binary_logloss: 0.321558\tValid's binary_logloss: 0.592634\n",
            "Training until validation scores don't improve for 5 rounds\n",
            "Early stopping, best iteration is:\n",
            "[29]\tTrain's binary_logloss: 0.321557\tValid's binary_logloss: 0.592634\n",
            "Training until validation scores don't improve for 5 rounds\n",
            "Early stopping, best iteration is:\n",
            "[29]\tTrain's binary_logloss: 0.321557\tValid's binary_logloss: 0.592634\n",
            "Training until validation scores don't improve for 5 rounds\n"
          ]
        },
        {
          "output_type": "stream",
          "name": "stderr",
          "text": [
            "regularization_factors, val_score: 0.592634:  35%|###5      | 7/20 [00:00<00:00, 15.69it/s]"
          ]
        },
        {
          "output_type": "stream",
          "name": "stdout",
          "text": [
            "Early stopping, best iteration is:\n",
            "[29]\tTrain's binary_logloss: 0.321557\tValid's binary_logloss: 0.592634\n",
            "Training until validation scores don't improve for 5 rounds\n",
            "Early stopping, best iteration is:\n",
            "[29]\tTrain's binary_logloss: 0.321557\tValid's binary_logloss: 0.592634\n",
            "Training until validation scores don't improve for 5 rounds\n",
            "Early stopping, best iteration is:\n",
            "[29]\tTrain's binary_logloss: 0.321557\tValid's binary_logloss: 0.592634\n",
            "Training until validation scores don't improve for 5 rounds\n",
            "Early stopping, best iteration is:\n",
            "[29]\tTrain's binary_logloss: 0.321557\tValid's binary_logloss: 0.592634\n"
          ]
        },
        {
          "output_type": "stream",
          "name": "stderr",
          "text": [
            "regularization_factors, val_score: 0.592634:  55%|#####5    | 11/20 [00:00<00:00, 17.55it/s]"
          ]
        },
        {
          "output_type": "stream",
          "name": "stdout",
          "text": [
            "Training until validation scores don't improve for 5 rounds\n",
            "Early stopping, best iteration is:\n",
            "[29]\tTrain's binary_logloss: 0.321557\tValid's binary_logloss: 0.592634\n",
            "Training until validation scores don't improve for 5 rounds\n",
            "Early stopping, best iteration is:\n",
            "[29]\tTrain's binary_logloss: 0.321557\tValid's binary_logloss: 0.592634\n",
            "Training until validation scores don't improve for 5 rounds\n",
            "Early stopping, best iteration is:\n",
            "[29]\tTrain's binary_logloss: 0.321558\tValid's binary_logloss: 0.592634\n",
            "Training until validation scores don't improve for 5 rounds\n",
            "Early stopping, best iteration is:\n",
            "[29]\tTrain's binary_logloss: 0.321558\tValid's binary_logloss: 0.592634\n"
          ]
        },
        {
          "output_type": "stream",
          "name": "stderr",
          "text": [
            "regularization_factors, val_score: 0.592630:  70%|#######   | 14/20 [00:00<00:00, 17.69it/s]"
          ]
        },
        {
          "output_type": "stream",
          "name": "stdout",
          "text": [
            "Training until validation scores don't improve for 5 rounds\n",
            "Early stopping, best iteration is:\n",
            "[29]\tTrain's binary_logloss: 0.321558\tValid's binary_logloss: 0.592634\n",
            "Training until validation scores don't improve for 5 rounds\n",
            "Early stopping, best iteration is:\n",
            "[29]\tTrain's binary_logloss: 0.321565\tValid's binary_logloss: 0.592633\n",
            "Training until validation scores don't improve for 5 rounds\n",
            "Early stopping, best iteration is:\n",
            "[29]\tTrain's binary_logloss: 0.321589\tValid's binary_logloss: 0.59263\n",
            "Training until validation scores don't improve for 5 rounds\n",
            "Early stopping, best iteration is:\n",
            "[29]\tTrain's binary_logloss: 0.321597\tValid's binary_logloss: 0.592629\n"
          ]
        },
        {
          "output_type": "stream",
          "name": "stderr",
          "text": [
            "regularization_factors, val_score: 0.592624:  90%|######### | 18/20 [00:01<00:00, 16.77it/s]"
          ]
        },
        {
          "output_type": "stream",
          "name": "stdout",
          "text": [
            "Training until validation scores don't improve for 5 rounds\n",
            "Early stopping, best iteration is:\n",
            "[29]\tTrain's binary_logloss: 0.321621\tValid's binary_logloss: 0.592625\n",
            "Training until validation scores don't improve for 5 rounds\n",
            "Early stopping, best iteration is:\n",
            "[29]\tTrain's binary_logloss: 0.321622\tValid's binary_logloss: 0.592625\n",
            "Training until validation scores don't improve for 5 rounds\n",
            "Early stopping, best iteration is:\n",
            "[29]\tTrain's binary_logloss: 0.321633\tValid's binary_logloss: 0.592624\n",
            "Training until validation scores don't improve for 5 rounds\n"
          ]
        },
        {
          "output_type": "stream",
          "name": "stderr",
          "text": [
            "regularization_factors, val_score: 0.592624: 100%|##########| 20/20 [00:01<00:00, 16.86it/s]\n"
          ]
        },
        {
          "output_type": "stream",
          "name": "stdout",
          "text": [
            "Early stopping, best iteration is:\n",
            "[29]\tTrain's binary_logloss: 0.321612\tValid's binary_logloss: 0.592627\n",
            "Training until validation scores don't improve for 5 rounds\n",
            "Early stopping, best iteration is:\n",
            "[29]\tTrain's binary_logloss: 0.321628\tValid's binary_logloss: 0.592625\n"
          ]
        },
        {
          "output_type": "stream",
          "name": "stderr",
          "text": [
            "min_data_in_leaf, val_score: 0.591959:  60%|######    | 3/5 [00:00<00:00, 23.46it/s]"
          ]
        },
        {
          "output_type": "stream",
          "name": "stdout",
          "text": [
            "Training until validation scores don't improve for 5 rounds\n",
            "Early stopping, best iteration is:\n",
            "[15]\tTrain's binary_logloss: 0.374364\tValid's binary_logloss: 0.591959\n",
            "Training until validation scores don't improve for 5 rounds\n",
            "Early stopping, best iteration is:\n",
            "[40]\tTrain's binary_logloss: 0.436232\tValid's binary_logloss: 0.62401\n",
            "Training until validation scores don't improve for 5 rounds\n",
            "Early stopping, best iteration is:\n",
            "[23]\tTrain's binary_logloss: 0.389859\tValid's binary_logloss: 0.597317\n"
          ]
        },
        {
          "output_type": "stream",
          "name": "stderr",
          "text": [
            "min_data_in_leaf, val_score: 0.585207: 100%|##########| 5/5 [00:00<00:00, 24.11it/s]"
          ]
        },
        {
          "output_type": "stream",
          "name": "stdout",
          "text": [
            "Training until validation scores don't improve for 5 rounds\n",
            "Early stopping, best iteration is:\n",
            "[53]\tTrain's binary_logloss: 0.528279\tValid's binary_logloss: 0.64645\n",
            "Training until validation scores don't improve for 5 rounds\n",
            "Early stopping, best iteration is:\n",
            "[18]\tTrain's binary_logloss: 0.361738\tValid's binary_logloss: 0.585207\n"
          ]
        },
        {
          "output_type": "stream",
          "name": "stderr",
          "text": [
            "\n"
          ]
        }
      ]
    },
    {
      "cell_type": "code",
      "source": [
        "print(model.params)"
      ],
      "metadata": {
        "colab": {
          "base_uri": "https://localhost:8080/"
        },
        "id": "vEx0x2BSZJLL",
        "outputId": "459ae22b-ebd8-44e9-b667-9edf45175cec"
      },
      "execution_count": null,
      "outputs": [
        {
          "output_type": "stream",
          "name": "stdout",
          "text": [
            "{'verbose': -1, 'task': 'train', 'boosting_type': 'gbdt', 'objective': 'binary', 'metric': 'binary_logloss', 'learning_rate': 0.1, 'seed': 1991, 'deterministic': True, 'force_row_wise': True, 'feature_pre_filter': False, 'lambda_l1': 0.0021256844270571137, 'lambda_l2': 2.141395679420987e-05, 'num_leaves': 22, 'feature_fraction': 0.7, 'bagging_fraction': 1.0, 'bagging_freq': 0, 'min_child_samples': 10, 'num_iterations': 500}\n"
          ]
        }
      ]
    },
    {
      "cell_type": "code",
      "source": [
        "# prediction\n",
        "preds = model.predict(X_test)\n",
        "fpr, tpr, _ = roc_curve(y_test,  preds)\n",
        "auc = roc_auc_score(y_test, preds)\n",
        "print(\"AUC=\"+str(auc))\n",
        "plt.plot(fpr,tpr,label=\"AUC=\"+str(auc))\n",
        "plt.ylabel('True Positive Rate')\n",
        "plt.xlabel('False Positive Rate')\n",
        "plt.legend(loc=4)\n",
        "plt.show()"
      ],
      "metadata": {
        "colab": {
          "base_uri": "https://localhost:8080/",
          "height": 467
        },
        "id": "QrbcFJdtmOQr",
        "outputId": "9e134755-041d-46b9-f13e-bfa92d53c215"
      },
      "execution_count": null,
      "outputs": [
        {
          "output_type": "stream",
          "name": "stdout",
          "text": [
            "AUC=0.7728610143244289\n"
          ]
        },
        {
          "output_type": "display_data",
          "data": {
            "text/plain": [
              "<Figure size 640x480 with 1 Axes>"
            ],
            "image/png": "[encoded data removed]"
          },
          "metadata": {}
        }
      ]
    },
    {
      "cell_type": "code",
      "source": [
        "importance = pd.DataFrame({'feature': X_cols, 'importance': model.feature_importance()})\n",
        "types = ['MIDAS_text','MIDAS_cross','MIDAS_image','model_type_O','model_type_U','model_type_V']\n",
        "for t in types:\n",
        "    importance[f'is_{t}']= 0\n",
        "    importance.loc[importance['feature'].str.contains(t), f'is_{t}']= 1\n",
        "importance = importance[importance[\"importance\"]>=1].reset_index(drop=True)\n",
        "categories = [f\"is_{tp}\" for tp in types]\n",
        "imp_grp = importance.groupby(categories)\n",
        "imp_feat = imp_grp[\"feature\"].nunique().reset_index(drop=False)\n",
        "imp_sum = imp_grp[\"importance\"].sum().reset_index(drop=False)\n",
        "print(imp_feat)\n",
        "print(\"==================\")\n",
        "print(imp_sum)\n",
        "imp_feat.to_csv(f\"{DRIVE_DIR}/{VILIO_DIR}/{EXPORT_DIR}/all_optuna_nunique_{RS}.csv\", index=False)\n",
        "imp_sum.to_csv(f\"{DRIVE_DIR}/{VILIO_DIR}/{EXPORT_DIR}/all_optuna_occurrences_{RS}.csv\", index=False)"
      ],
      "metadata": {
        "colab": {
          "base_uri": "https://localhost:8080/"
        },
        "id": "d40CvYdb-2LB",
        "outputId": "77598b67-2f8e-445a-a6ad-fc748a4be0ce"
      },
      "execution_count": null,
      "outputs": [
        {
          "output_type": "stream",
          "name": "stdout",
          "text": [
            "    is_MIDAS_text  is_MIDAS_cross  is_MIDAS_image  is_model_type_O  \\\n",
            "0               0               0               0                0   \n",
            "1               0               0               0                0   \n",
            "2               0               0               0                0   \n",
            "3               0               0               0                1   \n",
            "4               0               0               1                0   \n",
            "5               0               0               1                0   \n",
            "6               0               0               1                0   \n",
            "7               0               0               1                1   \n",
            "8               0               1               0                0   \n",
            "9               0               1               0                0   \n",
            "10              0               1               0                0   \n",
            "11              0               1               0                1   \n",
            "12              1               0               0                0   \n",
            "13              1               0               0                0   \n",
            "14              1               0               0                0   \n",
            "15              1               0               0                1   \n",
            "\n",
            "    is_model_type_U  is_model_type_V  feature  \n",
            "0                 0                0       11  \n",
            "1                 0                1        2  \n",
            "2                 1                0        1  \n",
            "3                 0                0        2  \n",
            "4                 0                0       10  \n",
            "5                 0                1        1  \n",
            "6                 1                0        1  \n",
            "7                 0                0        1  \n",
            "8                 0                0        7  \n",
            "9                 0                1        1  \n",
            "10                1                0        1  \n",
            "11                0                0        1  \n",
            "12                0                0        8  \n",
            "13                0                1        1  \n",
            "14                1                0        1  \n",
            "15                0                0        1  \n",
            "==================\n",
            "    is_MIDAS_text  is_MIDAS_cross  is_MIDAS_image  is_model_type_O  \\\n",
            "0               0               0               0                0   \n",
            "1               0               0               0                0   \n",
            "2               0               0               0                0   \n",
            "3               0               0               0                1   \n",
            "4               0               0               1                0   \n",
            "5               0               0               1                0   \n",
            "6               0               0               1                0   \n",
            "7               0               0               1                1   \n",
            "8               0               1               0                0   \n",
            "9               0               1               0                0   \n",
            "10              0               1               0                0   \n",
            "11              0               1               0                1   \n",
            "12              1               0               0                0   \n",
            "13              1               0               0                0   \n",
            "14              1               0               0                0   \n",
            "15              1               0               0                1   \n",
            "\n",
            "    is_model_type_U  is_model_type_V  importance  \n",
            "0                 0                0          61  \n",
            "1                 0                1          15  \n",
            "2                 1                0          12  \n",
            "3                 0                0           2  \n",
            "4                 0                0          92  \n",
            "5                 0                1          13  \n",
            "6                 1                0           4  \n",
            "7                 0                0          15  \n",
            "8                 0                0          49  \n",
            "9                 0                1          16  \n",
            "10                1                0           4  \n",
            "11                0                0           1  \n",
            "12                0                0          51  \n",
            "13                0                1          28  \n",
            "14                1                0           2  \n",
            "15                0                0          13  \n"
          ]
        }
      ]
    },
    {
      "cell_type": "markdown",
      "source": [
        "#### for each model type"
      ],
      "metadata": {
        "id": "QsfiKxn9RkJM"
      }
    },
    {
      "cell_type": "code",
      "source": [
        "aucs = {}\n",
        "df_test[\"preds\"] = model.predict(X_test)\n",
        "for tp in [\"O\",\"U\",\"V\"]:\n",
        "    print(f\"Model {tp}\")\n",
        "    if tp==\"O\":\n",
        "        df_plot_scope = df_test[(df_test[f\"model_type_U\"]==0)&(df_test[f\"model_type_V\"]==0)].reset_index(drop=True)\n",
        "    else:\n",
        "        df_plot_scope = df_test[df_test[f\"model_type_{tp}\"]==1].reset_index(drop=True)\n",
        "    fpr, tpr, _ = roc_curve(df_plot_scope[f\"{plot_cols[PRED_COL]}_category\"],  df_plot_scope[\"preds\"])\n",
        "    auc = roc_auc_score(df_plot_scope[f\"{plot_cols[PRED_COL]}_category\"],  df_plot_scope[\"preds\"])\n",
        "    print(\"AUC=\"+str(auc))\n",
        "    aucs[tp] = auc\n",
        "    plt.plot(fpr,tpr,label=\"AUC=\"+str(auc))\n",
        "    plt.ylabel('True Positive Rate')\n",
        "    plt.xlabel('False Positive Rate')\n",
        "    plt.legend(loc=4)\n",
        "    plt.show()"
      ],
      "metadata": {
        "colab": {
          "base_uri": "https://localhost:8080/",
          "height": 1000
        },
        "id": "Y0mLyYAhuHY_",
        "outputId": "2ef330be-e82b-44d4-b058-a7d0fcbd124c"
      },
      "execution_count": null,
      "outputs": [
        {
          "output_type": "stream",
          "name": "stdout",
          "text": [
            "Model O\n",
            "AUC=0.5988721804511278\n"
          ]
        },
        {
          "output_type": "display_data",
          "data": {
            "text/plain": [
              "<Figure size 640x480 with 1 Axes>"
            ],
            "image/png": "[encoded data removed]"
          },
          "metadata": {}
        },
        {
          "output_type": "stream",
          "name": "stdout",
          "text": [
            "Model U\n",
            "AUC=0.7348171152518979\n"
          ]
        },
        {
          "output_type": "display_data",
          "data": {
            "text/plain": [
              "<Figure size 640x480 with 1 Axes>"
            ],
            "image/png": "[encoded data removed]"
          },
          "metadata": {}
        },
        {
          "output_type": "stream",
          "name": "stdout",
          "text": [
            "Model V\n",
            "AUC=0.9132534132534131\n"
          ]
        },
        {
          "output_type": "display_data",
          "data": {
            "text/plain": [
              "<Figure size 640x480 with 1 Axes>"
            ],
            "image/png": "[encoded data removed]"
          },
          "metadata": {}
        }
      ]
    },
    {
      "cell_type": "code",
      "source": [
        "print(aucs)"
      ],
      "metadata": {
        "colab": {
          "base_uri": "https://localhost:8080/"
        },
        "id": "BbgqpTAb1nMz",
        "outputId": "12e3ee84-3031-4c7e-c1e7-4ba777910d4c"
      },
      "execution_count": null,
      "outputs": [
        {
          "output_type": "stream",
          "name": "stdout",
          "text": [
            "{'O': 0.5988721804511278, 'U': 0.7348171152518979, 'V': 0.9132534132534131}\n"
          ]
        }
      ]
    },
    {
      "cell_type": "code",
      "source": [
        "aucs2 = {}\n",
        "for tp in [\"O\",\"U\",\"V\"]:\n",
        "    print(f\"Model {tp}\")\n",
        "    params = {\n",
        "        'verbose': -1,\n",
        "        'task': 'train',\n",
        "        'boosting_type': 'gbdt',\n",
        "        'objective': 'binary',\n",
        "        'metric': 'binary_logloss',\n",
        "        'learning_rate': 0.1,\n",
        "        'seed': RS,\n",
        "        'deterministic':True,\n",
        "        'force_row_wise':True\n",
        "    }\n",
        "    if tp==\"O\":\n",
        "        model_scope = (df_analysis[f\"model_type_U\"]==0)&(df_analysis[f\"model_type_V\"]==0)\n",
        "    else:\n",
        "        model_scope = df_analysis[f\"model_type_{tp}\"]==1\n",
        "    df_analysis_scope = df_analysis[model_scope].reset_index(drop=True)\n",
        "\n",
        "    df_train_eval, df_test = train_test_split(df_analysis_scope, random_state=RS, test_size=0.3)\n",
        "    df_train, df_eval = train_test_split(df_train_eval, random_state=RS, test_size=0.2)\n",
        "    print(f\"[train, eval, test] size: {[df_train.shape, df_eval.shape, df_test.shape]}\")\n",
        "    X_train_eval = df_train_eval[X_cols].values\n",
        "    y_train_eval = df_train_eval[f\"{plot_cols[PRED_COL]}_category\"].values\n",
        "    X_train, X_eval, X_test = df_train[X_cols].values, df_eval[X_cols].values, df_test[X_cols].values\n",
        "    y_train = df_train[f\"{plot_cols[PRED_COL]}_category\"].values\n",
        "    y_eval = df_eval[f\"{plot_cols[PRED_COL]}_category\"].values\n",
        "    y_test = df_test[f\"{plot_cols[PRED_COL]}_category\"].values\n",
        "\n",
        "    lgb_train = opt_lgb.Dataset(X_train, y_train)\n",
        "    lgb_valid = opt_lgb.Dataset(X_eval, y_eval, reference=lgb_train)\n",
        "    lgb_test = opt_lgb.Dataset(X_test, y_test, reference=lgb_train)\n",
        "\n",
        "    lgb_results = {}\n",
        "    model = opt_lgb.LightGBMTuner(\n",
        "        params=params,\n",
        "        train_set=lgb_train,\n",
        "        valid_sets=[lgb_train, lgb_valid],\n",
        "        valid_names=['Train', 'Valid'],\n",
        "        num_boost_round=500,\n",
        "        early_stopping_rounds=5,\n",
        "        evals_result=lgb_results,\n",
        "        verbosity=-1,\n",
        "        verbose_eval=-1,\n",
        "        optuna_seed=RS,\n",
        "    )\n",
        "    model.run()\n",
        "    model = model.get_best_booster()\n",
        "    print(model.params)\n",
        "    print(\"------------------\")\n",
        "\n",
        "    preds = model.predict(X_test)\n",
        "    fpr, tpr, _ = roc_curve(y_test,  preds)\n",
        "    auc = roc_auc_score(y_test, preds)\n",
        "    print(\"AUC=\"+str(auc))\n",
        "    aucs2[tp] = auc\n",
        "    plt.plot(fpr,tpr,label=\"AUC=\"+str(auc))\n",
        "    plt.ylabel('True Positive Rate')\n",
        "    plt.xlabel('False Positive Rate')\n",
        "    plt.legend(loc=4)\n",
        "    plt.show()\n",
        "    print(\"------------------\")\n",
        "\n",
        "    importance = pd.DataFrame({'feature': X_cols, 'importance': model.feature_importance()})\n",
        "    submodels = df_vilio[\"submodel\"].unique().tolist()\n",
        "    submodel_cols = [f\"submodel_{model}\" for model in submodels]\n",
        "    types = ['MIDAS_text','MIDAS_cross','MIDAS_image']+submodel_cols\n",
        "    for t in types:\n",
        "        importance[f'is_{t}']= 0\n",
        "        importance.loc[importance['feature'].str.contains(t), f'is_{t}']= 1\n",
        "    importance = importance[importance[\"importance\"]>=1].reset_index(drop=True)\n",
        "    categories = [f\"is_{tp}\" for tp in types]\n",
        "    imp_grp = importance.groupby(categories)\n",
        "    imp_feat = imp_grp[\"feature\"].nunique().reset_index(drop=False)\n",
        "    imp_sum = imp_grp[\"importance\"].sum().reset_index(drop=False)\n",
        "    print(imp_feat)\n",
        "    print(\"------------------\")\n",
        "    print(imp_sum)\n",
        "    print(\"==================\")\n",
        "    imp_feat.to_csv(f\"{DRIVE_DIR}/{VILIO_DIR}/{EXPORT_DIR}/{tp}_indv_optuna_nunique_{RS}.csv\", index=False)\n",
        "    imp_sum.to_csv(f\"{DRIVE_DIR}/{VILIO_DIR}/{EXPORT_DIR}/{tp}_indv_optuna_occurrences_{RS}.csv\", index=False)"
      ],
      "metadata": {
        "colab": {
          "base_uri": "https://localhost:8080/",
          "height": 1000
        },
        "id": "_x6HZAyUv7Ey",
        "outputId": "cb025c44-6c26-4f34-aef8-b63c85090a6b"
      },
      "execution_count": null,
      "outputs": [
        {
          "output_type": "stream",
          "name": "stdout",
          "text": [
            "Model O\n",
            "[train, eval, test] size: [(200, 76), (50, 76), (108, 76)]\n"
          ]
        },
        {
          "output_type": "stream",
          "name": "stderr",
          "text": [
            "feature_fraction, val_score: 0.637684: 100%|##########| 7/7 [00:00<00:00, 53.59it/s]\n"
          ]
        },
        {
          "output_type": "stream",
          "name": "stdout",
          "text": [
            "Training until validation scores don't improve for 5 rounds\n",
            "Early stopping, best iteration is:\n",
            "[11]\tTrain's binary_logloss: 0.576932\tValid's binary_logloss: 0.641475\n",
            "Training until validation scores don't improve for 5 rounds\n",
            "Early stopping, best iteration is:\n",
            "[1]\tTrain's binary_logloss: 0.653159\tValid's binary_logloss: 0.657267\n",
            "Training until validation scores don't improve for 5 rounds\n",
            "Early stopping, best iteration is:\n",
            "[1]\tTrain's binary_logloss: 0.653159\tValid's binary_logloss: 0.657267\n",
            "Training until validation scores don't improve for 5 rounds\n",
            "Early stopping, best iteration is:\n",
            "[3]\tTrain's binary_logloss: 0.630023\tValid's binary_logloss: 0.637684\n",
            "Training until validation scores don't improve for 5 rounds\n",
            "Early stopping, best iteration is:\n",
            "[1]\tTrain's binary_logloss: 0.654825\tValid's binary_logloss: 0.650468\n",
            "Training until validation scores don't improve for 5 rounds\n",
            "Early stopping, best iteration is:\n",
            "[1]\tTrain's binary_logloss: 0.653159\tValid's binary_logloss: 0.657267\n",
            "Training until validation scores don't improve for 5 rounds\n",
            "Early stopping, best iteration is:\n",
            "[1]\tTrain's binary_logloss: 0.654825\tValid's binary_logloss: 0.650468\n"
          ]
        },
        {
          "output_type": "stream",
          "name": "stderr",
          "text": [
            "num_leaves, val_score: 0.637684:  10%|#         | 2/20 [00:00<00:00, 84.07it/s]"
          ]
        },
        {
          "output_type": "stream",
          "name": "stdout",
          "text": [
            "Training until validation scores don't improve for 5 rounds\n",
            "Early stopping, best iteration is:\n",
            "[3]\tTrain's binary_logloss: 0.630023\tValid's binary_logloss: 0.637684\n",
            "Training until validation scores don't improve for 5 rounds\n",
            "Early stopping, best iteration is:\n",
            "[3]\tTrain's binary_logloss: 0.630023\tValid's binary_logloss: 0.637684\n"
          ]
        },
        {
          "output_type": "stream",
          "name": "stderr",
          "text": [
            "num_leaves, val_score: 0.637684:  15%|#5        | 3/20 [00:00<00:00, 66.47it/s]"
          ]
        },
        {
          "output_type": "stream",
          "name": "stdout",
          "text": [
            "Training until validation scores don't improve for 5 rounds\n",
            "Early stopping, best iteration is:\n",
            "[3]\tTrain's binary_logloss: 0.630023\tValid's binary_logloss: 0.637684\n"
          ]
        },
        {
          "output_type": "stream",
          "name": "stderr",
          "text": [
            "num_leaves, val_score: 0.637684:  20%|##        | 4/20 [00:00<00:00, 63.82it/s]"
          ]
        },
        {
          "output_type": "stream",
          "name": "stdout",
          "text": [
            "Training until validation scores don't improve for 5 rounds\n",
            "Early stopping, best iteration is:\n",
            "[3]\tTrain's binary_logloss: 0.630023\tValid's binary_logloss: 0.637684\n",
            "Training until validation scores don't improve for 5 rounds\n"
          ]
        },
        {
          "output_type": "stream",
          "name": "stderr",
          "text": [
            "num_leaves, val_score: 0.637684:  55%|#####5    | 11/20 [00:00<00:00, 57.88it/s]"
          ]
        },
        {
          "output_type": "stream",
          "name": "stdout",
          "text": [
            "Early stopping, best iteration is:\n",
            "[3]\tTrain's binary_logloss: 0.630023\tValid's binary_logloss: 0.637684\n",
            "Training until validation scores don't improve for 5 rounds\n",
            "Early stopping, best iteration is:\n",
            "[3]\tTrain's binary_logloss: 0.630023\tValid's binary_logloss: 0.637684\n",
            "Training until validation scores don't improve for 5 rounds\n",
            "Early stopping, best iteration is:\n",
            "[3]\tTrain's binary_logloss: 0.630023\tValid's binary_logloss: 0.637684\n",
            "Training until validation scores don't improve for 5 rounds\n",
            "Early stopping, best iteration is:\n",
            "[3]\tTrain's binary_logloss: 0.630023\tValid's binary_logloss: 0.637684\n",
            "Training until validation scores don't improve for 5 rounds\n",
            "Early stopping, best iteration is:\n",
            "[3]\tTrain's binary_logloss: 0.630023\tValid's binary_logloss: 0.637684\n",
            "Training until validation scores don't improve for 5 rounds\n",
            "Early stopping, best iteration is:\n",
            "[3]\tTrain's binary_logloss: 0.630023\tValid's binary_logloss: 0.637684\n",
            "Training until validation scores don't improve for 5 rounds\n",
            "Early stopping, best iteration is:\n",
            "[3]\tTrain's binary_logloss: 0.630023\tValid's binary_logloss: 0.637684\n",
            "Training until validation scores don't improve for 5 rounds\n",
            "Early stopping, best iteration is:\n",
            "[3]\tTrain's binary_logloss: 0.630023\tValid's binary_logloss: 0.637684\n"
          ]
        },
        {
          "output_type": "stream",
          "name": "stderr",
          "text": [
            "num_leaves, val_score: 0.637684:  60%|######    | 12/20 [00:00<00:00, 57.30it/s]"
          ]
        },
        {
          "output_type": "stream",
          "name": "stdout",
          "text": [
            "Training until validation scores don't improve for 5 rounds\n",
            "Early stopping, best iteration is:\n",
            "[3]\tTrain's binary_logloss: 0.630023\tValid's binary_logloss: 0.637684\n"
          ]
        },
        {
          "output_type": "stream",
          "name": "stderr",
          "text": [
            "num_leaves, val_score: 0.637684:  70%|#######   | 14/20 [00:00<00:00, 57.30it/s]"
          ]
        },
        {
          "output_type": "stream",
          "name": "stdout",
          "text": [
            "Training until validation scores don't improve for 5 rounds\n",
            "Early stopping, best iteration is:\n",
            "[3]\tTrain's binary_logloss: 0.630023\tValid's binary_logloss: 0.637684\n"
          ]
        },
        {
          "output_type": "stream",
          "name": "stderr",
          "text": [
            "num_leaves, val_score: 0.637684:  75%|#######5  | 15/20 [00:00<00:00, 57.30it/s]"
          ]
        },
        {
          "output_type": "stream",
          "name": "stdout",
          "text": [
            "Training until validation scores don't improve for 5 rounds\n",
            "Early stopping, best iteration is:\n",
            "[3]\tTrain's binary_logloss: 0.630023\tValid's binary_logloss: 0.637684\n"
          ]
        },
        {
          "output_type": "stream",
          "name": "stderr",
          "text": [
            "num_leaves, val_score: 0.637684: 100%|##########| 20/20 [00:00<00:00, 52.08it/s]\n"
          ]
        },
        {
          "output_type": "stream",
          "name": "stdout",
          "text": [
            "Training until validation scores don't improve for 5 rounds\n",
            "Early stopping, best iteration is:\n",
            "[2]\tTrain's binary_logloss: 0.647189\tValid's binary_logloss: 0.644042\n",
            "Training until validation scores don't improve for 5 rounds\n",
            "Early stopping, best iteration is:\n",
            "[3]\tTrain's binary_logloss: 0.630023\tValid's binary_logloss: 0.637684\n",
            "Training until validation scores don't improve for 5 rounds\n",
            "Early stopping, best iteration is:\n",
            "[3]\tTrain's binary_logloss: 0.630023\tValid's binary_logloss: 0.637684\n",
            "Training until validation scores don't improve for 5 rounds\n",
            "Early stopping, best iteration is:\n",
            "[3]\tTrain's binary_logloss: 0.630023\tValid's binary_logloss: 0.637684\n",
            "Training until validation scores don't improve for 5 rounds\n",
            "Early stopping, best iteration is:\n",
            "[3]\tTrain's binary_logloss: 0.630023\tValid's binary_logloss: 0.637684\n"
          ]
        },
        {
          "output_type": "stream",
          "name": "stderr",
          "text": [
            "bagging, val_score: 0.637684:  10%|#         | 1/10 [00:00<00:00, 45.09it/s]"
          ]
        },
        {
          "output_type": "stream",
          "name": "stdout",
          "text": [
            "Training until validation scores don't improve for 5 rounds\n",
            "Early stopping, best iteration is:\n",
            "[3]\tTrain's binary_logloss: 0.650274\tValid's binary_logloss: 0.638092\n",
            "Training until validation scores don't improve for 5 rounds"
          ]
        },
        {
          "output_type": "stream",
          "name": "stderr",
          "text": [
            "bagging, val_score: 0.632509:  20%|##        | 2/10 [00:00<00:00, 45.38it/s]"
          ]
        },
        {
          "output_type": "stream",
          "name": "stdout",
          "text": [
            "\n",
            "Early stopping, best iteration is:\n",
            "[2]\tTrain's binary_logloss: 0.64201\tValid's binary_logloss: 0.632509\n"
          ]
        },
        {
          "output_type": "stream",
          "name": "stderr",
          "text": [
            "bagging, val_score: 0.632509:  30%|###       | 3/10 [00:00<00:00, 41.87it/s]"
          ]
        },
        {
          "output_type": "stream",
          "name": "stdout",
          "text": [
            "Training until validation scores don't improve for 5 rounds\n",
            "Early stopping, best iteration is:\n",
            "[3]\tTrain's binary_logloss: 0.630023\tValid's binary_logloss: 0.637684\n"
          ]
        },
        {
          "output_type": "stream",
          "name": "stderr",
          "text": [
            "bagging, val_score: 0.632509:  40%|####      | 4/10 [00:00<00:00, 41.47it/s]"
          ]
        },
        {
          "output_type": "stream",
          "name": "stdout",
          "text": [
            "Training until validation scores don't improve for 5 rounds\n",
            "Early stopping, best iteration is:\n",
            "[3]\tTrain's binary_logloss: 0.630023\tValid's binary_logloss: 0.637684\n"
          ]
        },
        {
          "output_type": "stream",
          "name": "stderr",
          "text": [
            "bagging, val_score: 0.623577:  80%|########  | 8/10 [00:00<00:00, 40.42it/s]"
          ]
        },
        {
          "output_type": "stream",
          "name": "stdout",
          "text": [
            "Training until validation scores don't improve for 5 rounds\n",
            "Early stopping, best iteration is:\n",
            "[7]\tTrain's binary_logloss: 0.64217\tValid's binary_logloss: 0.6414\n",
            "Training until validation scores don't improve for 5 rounds\n",
            "Early stopping, best iteration is:\n",
            "[4]\tTrain's binary_logloss: 0.630085\tValid's binary_logloss: 0.630174\n",
            "Training until validation scores don't improve for 5 rounds\n",
            "Early stopping, best iteration is:\n",
            "[4]\tTrain's binary_logloss: 0.624407\tValid's binary_logloss: 0.623577\n",
            "Training until validation scores don't improve for 5 rounds\n",
            "Early stopping, best iteration is:\n",
            "[4]\tTrain's binary_logloss: 0.624407\tValid's binary_logloss: 0.623577\n"
          ]
        },
        {
          "output_type": "stream",
          "name": "stderr",
          "text": [
            "bagging, val_score: 0.623577:  90%|######### | 9/10 [00:00<00:00, 40.42it/s]"
          ]
        },
        {
          "output_type": "stream",
          "name": "stdout",
          "text": [
            "Training until validation scores don't improve for 5 rounds\n",
            "Early stopping, best iteration is:\n",
            "[4]\tTrain's binary_logloss: 0.630085\tValid's binary_logloss: 0.630174\n"
          ]
        },
        {
          "output_type": "stream",
          "name": "stderr",
          "text": [
            "bagging, val_score: 0.623577: 100%|##########| 10/10 [00:00<00:00, 38.29it/s]\n"
          ]
        },
        {
          "output_type": "stream",
          "name": "stdout",
          "text": [
            "Training until validation scores don't improve for 5 rounds\n",
            "Early stopping, best iteration is:\n",
            "[4]\tTrain's binary_logloss: 0.630085\tValid's binary_logloss: 0.630174\n"
          ]
        },
        {
          "output_type": "stream",
          "name": "stderr",
          "text": [
            "feature_fraction_stage2, val_score: 0.621763:   0%|          | 0/6 [00:00<?, ?it/s]"
          ]
        },
        {
          "output_type": "stream",
          "name": "stdout",
          "text": [
            "Training until validation scores don't improve for 5 rounds\n",
            "Early stopping, best iteration is:\n",
            "[4]\tTrain's binary_logloss: 0.625606\tValid's binary_logloss: 0.621763\n"
          ]
        },
        {
          "output_type": "stream",
          "name": "stderr",
          "text": [
            "feature_fraction_stage2, val_score: 0.621763:  33%|###3      | 2/6 [00:00<00:00, 55.31it/s]"
          ]
        },
        {
          "output_type": "stream",
          "name": "stdout",
          "text": [
            "Training until validation scores don't improve for 5 rounds\n",
            "Early stopping, best iteration is:\n",
            "[4]\tTrain's binary_logloss: 0.623684\tValid's binary_logloss: 0.624975\n"
          ]
        },
        {
          "output_type": "stream",
          "name": "stderr",
          "text": [
            "feature_fraction_stage2, val_score: 0.621763: 100%|##########| 6/6 [00:00<00:00, 54.01it/s]\n"
          ]
        },
        {
          "output_type": "stream",
          "name": "stdout",
          "text": [
            "Training until validation scores don't improve for 5 rounds\n",
            "Early stopping, best iteration is:\n",
            "[4]\tTrain's binary_logloss: 0.624407\tValid's binary_logloss: 0.623577\n",
            "Training until validation scores don't improve for 5 rounds\n",
            "Early stopping, best iteration is:\n",
            "[4]\tTrain's binary_logloss: 0.624407\tValid's binary_logloss: 0.623577\n",
            "Training until validation scores don't improve for 5 rounds\n",
            "Early stopping, best iteration is:\n",
            "[4]\tTrain's binary_logloss: 0.624407\tValid's binary_logloss: 0.623577\n",
            "Training until validation scores don't improve for 5 rounds\n",
            "Early stopping, best iteration is:\n",
            "[4]\tTrain's binary_logloss: 0.623684\tValid's binary_logloss: 0.624975\n"
          ]
        },
        {
          "output_type": "stream",
          "name": "stderr",
          "text": [
            "regularization_factors, val_score: 0.621763:   5%|5         | 1/20 [00:00<00:00, 36.87it/s]"
          ]
        },
        {
          "output_type": "stream",
          "name": "stdout",
          "text": [
            "Training until validation scores don't improve for 5 rounds\n",
            "Early stopping, best iteration is:\n",
            "[4]\tTrain's binary_logloss: 0.625606\tValid's binary_logloss: 0.621763\n",
            "Training until validation scores don't improve for 5 rounds"
          ]
        },
        {
          "output_type": "stream",
          "name": "stderr",
          "text": [
            "regularization_factors, val_score: 0.621763:  10%|#         | 2/20 [00:00<00:00, 41.29it/s]"
          ]
        },
        {
          "output_type": "stream",
          "name": "stdout",
          "text": [
            "\n",
            "Early stopping, best iteration is:\n",
            "[4]\tTrain's binary_logloss: 0.625606\tValid's binary_logloss: 0.621763\n"
          ]
        },
        {
          "output_type": "stream",
          "name": "stderr",
          "text": [
            "regularization_factors, val_score: 0.621763:  15%|#5        | 3/20 [00:00<00:00, 39.27it/s]"
          ]
        },
        {
          "output_type": "stream",
          "name": "stdout",
          "text": [
            "Training until validation scores don't improve for 5 rounds\n",
            "Early stopping, best iteration is:\n",
            "[4]\tTrain's binary_logloss: 0.625606\tValid's binary_logloss: 0.621763\n",
            "Training until validation scores don't improve for 5 rounds\n",
            "Early stopping, best iteration is:\n",
            "[4]\tTrain's binary_logloss: 0.625606\tValid's binary_logloss: 0.621763\n"
          ]
        },
        {
          "output_type": "stream",
          "name": "stderr",
          "text": [
            "regularization_factors, val_score: 0.621763:  25%|##5       | 5/20 [00:00<00:00, 41.97it/s]"
          ]
        },
        {
          "output_type": "stream",
          "name": "stdout",
          "text": [
            "Training until validation scores don't improve for 5 rounds\n",
            "Early stopping, best iteration is:\n",
            "[4]\tTrain's binary_logloss: 0.625606\tValid's binary_logloss: 0.621763\n"
          ]
        },
        {
          "output_type": "stream",
          "name": "stderr",
          "text": [
            "regularization_factors, val_score: 0.621763:  40%|####      | 8/20 [00:00<00:00, 41.97it/s]"
          ]
        },
        {
          "output_type": "stream",
          "name": "stdout",
          "text": [
            "Training until validation scores don't improve for 5 rounds\n",
            "Early stopping, best iteration is:\n",
            "[4]\tTrain's binary_logloss: 0.625606\tValid's binary_logloss: 0.621763\n",
            "Training until validation scores don't improve for 5 rounds\n",
            "Early stopping, best iteration is:\n",
            "[4]\tTrain's binary_logloss: 0.625606\tValid's binary_logloss: 0.621763\n",
            "Training until validation scores don't improve for 5 rounds\n",
            "Early stopping, best iteration is:\n",
            "[4]\tTrain's binary_logloss: 0.625606\tValid's binary_logloss: 0.621763\n"
          ]
        },
        {
          "output_type": "stream",
          "name": "stderr",
          "text": [
            "regularization_factors, val_score: 0.621763:  45%|####5     | 9/20 [00:00<00:00, 41.97it/s]"
          ]
        },
        {
          "output_type": "stream",
          "name": "stdout",
          "text": [
            "Training until validation scores don't improve for 5 rounds\n",
            "Early stopping, best iteration is:\n",
            "[4]\tTrain's binary_logloss: 0.625606\tValid's binary_logloss: 0.621763\n"
          ]
        },
        {
          "output_type": "stream",
          "name": "stderr",
          "text": [
            "regularization_factors, val_score: 0.621763:  50%|#####     | 10/20 [00:00<00:00, 36.88it/s]"
          ]
        },
        {
          "output_type": "stream",
          "name": "stdout",
          "text": [
            "Training until validation scores don't improve for 5 rounds\n",
            "Early stopping, best iteration is:\n",
            "[4]\tTrain's binary_logloss: 0.625606\tValid's binary_logloss: 0.621763\n"
          ]
        },
        {
          "output_type": "stream",
          "name": "stderr",
          "text": [
            "regularization_factors, val_score: 0.621763:  55%|#####5    | 11/20 [00:00<00:00, 36.88it/s]"
          ]
        },
        {
          "output_type": "stream",
          "name": "stdout",
          "text": [
            "Training until validation scores don't improve for 5 rounds\n",
            "Early stopping, best iteration is:\n",
            "[4]\tTrain's binary_logloss: 0.625606\tValid's binary_logloss: 0.621763\n"
          ]
        },
        {
          "output_type": "stream",
          "name": "stderr",
          "text": [
            "regularization_factors, val_score: 0.621763:  60%|######    | 12/20 [00:00<00:00, 36.88it/s]"
          ]
        },
        {
          "output_type": "stream",
          "name": "stdout",
          "text": [
            "Training until validation scores don't improve for 5 rounds\n",
            "Early stopping, best iteration is:\n",
            "[4]\tTrain's binary_logloss: 0.625606\tValid's binary_logloss: 0.621763\n"
          ]
        },
        {
          "output_type": "stream",
          "name": "stderr",
          "text": [
            "regularization_factors, val_score: 0.621763:  75%|#######5  | 15/20 [00:00<00:00, 35.13it/s]"
          ]
        },
        {
          "output_type": "stream",
          "name": "stdout",
          "text": [
            "Training until validation scores don't improve for 5 rounds\n",
            "Early stopping, best iteration is:\n",
            "[4]\tTrain's binary_logloss: 0.625606\tValid's binary_logloss: 0.621763\n",
            "Training until validation scores don't improve for 5 rounds\n",
            "Early stopping, best iteration is:\n",
            "[4]\tTrain's binary_logloss: 0.625606\tValid's binary_logloss: 0.621763\n",
            "Training until validation scores don't improve for 5 rounds\n",
            "Early stopping, best iteration is:\n",
            "[4]\tTrain's binary_logloss: 0.625606\tValid's binary_logloss: 0.621763\n"
          ]
        },
        {
          "output_type": "stream",
          "name": "stderr",
          "text": [
            "regularization_factors, val_score: 0.621763:  80%|########  | 16/20 [00:00<00:00, 35.13it/s]"
          ]
        },
        {
          "output_type": "stream",
          "name": "stdout",
          "text": [
            "Training until validation scores don't improve for 5 rounds\n",
            "Early stopping, best iteration is:\n",
            "[4]\tTrain's binary_logloss: 0.625606\tValid's binary_logloss: 0.621763\n"
          ]
        },
        {
          "output_type": "stream",
          "name": "stderr",
          "text": [
            "regularization_factors, val_score: 0.621763:  85%|########5 | 17/20 [00:00<00:00, 35.13it/s]"
          ]
        },
        {
          "output_type": "stream",
          "name": "stdout",
          "text": [
            "Training until validation scores don't improve for 5 rounds\n",
            "Early stopping, best iteration is:\n",
            "[4]\tTrain's binary_logloss: 0.630753\tValid's binary_logloss: 0.629895\n",
            "Training until validation scores don't improve for 5 rounds"
          ]
        },
        {
          "output_type": "stream",
          "name": "stderr",
          "text": [
            "regularization_factors, val_score: 0.621763:  95%|#########5| 19/20 [00:00<00:00, 35.63it/s]"
          ]
        },
        {
          "output_type": "stream",
          "name": "stdout",
          "text": [
            "\n",
            "Early stopping, best iteration is:\n",
            "[4]\tTrain's binary_logloss: 0.625606\tValid's binary_logloss: 0.621763\n",
            "Training until validation scores don't improve for 5 rounds\n",
            "Early stopping, best iteration is:\n",
            "[4]\tTrain's binary_logloss: 0.625606\tValid's binary_logloss: 0.621763\n"
          ]
        },
        {
          "output_type": "stream",
          "name": "stderr",
          "text": [
            "regularization_factors, val_score: 0.621763: 100%|##########| 20/20 [00:00<00:00, 36.55it/s]\n"
          ]
        },
        {
          "output_type": "stream",
          "name": "stdout",
          "text": [
            "Training until validation scores don't improve for 5 rounds\n",
            "Early stopping, best iteration is:\n",
            "[4]\tTrain's binary_logloss: 0.625606\tValid's binary_logloss: 0.621763\n"
          ]
        },
        {
          "output_type": "stream",
          "name": "stderr",
          "text": [
            "min_data_in_leaf, val_score: 0.621763: 100%|##########| 5/5 [00:00<00:00, 61.33it/s]"
          ]
        },
        {
          "output_type": "stream",
          "name": "stdout",
          "text": [
            "Training until validation scores don't improve for 5 rounds\n",
            "Early stopping, best iteration is:\n",
            "[3]\tTrain's binary_logloss: 0.580636\tValid's binary_logloss: 0.64511\n",
            "Training until validation scores don't improve for 5 rounds\n",
            "Early stopping, best iteration is:\n",
            "[2]\tTrain's binary_logloss: 0.666707\tValid's binary_logloss: 0.656763\n",
            "Training until validation scores don't improve for 5 rounds\n",
            "Early stopping, best iteration is:\n",
            "[7]\tTrain's binary_logloss: 0.618537\tValid's binary_logloss: 0.626671\n",
            "Training until validation scores don't improve for 5 rounds\n",
            "Early stopping, best iteration is:\n",
            "[1]\tTrain's binary_logloss: 0.670932\tValid's binary_logloss: 0.65601\n",
            "Training until validation scores don't improve for 5 rounds\n",
            "Early stopping, best iteration is:\n",
            "[3]\tTrain's binary_logloss: 0.611646\tValid's binary_logloss: 0.636458\n",
            "{'verbose': -1, 'task': 'train', 'boosting_type': 'gbdt', 'objective': 'binary', 'metric': 'binary_logloss', 'learning_rate': 0.1, 'seed': 1991, 'deterministic': True, 'force_row_wise': True, 'feature_pre_filter': False, 'lambda_l1': 5.9113725645567965e-08, 'lambda_l2': 1.0407942525363456e-08, 'num_leaves': 31, 'feature_fraction': 0.62, 'bagging_fraction': 0.824892182062492, 'bagging_freq': 5, 'min_child_samples': 20, 'num_iterations': 500}\n",
            "------------------"
          ]
        },
        {
          "output_type": "stream",
          "name": "stderr",
          "text": [
            "\n"
          ]
        },
        {
          "output_type": "stream",
          "name": "stdout",
          "text": [
            "\n",
            "AUC=0.6140625000000001\n"
          ]
        },
        {
          "output_type": "display_data",
          "data": {
            "text/plain": [
              "<Figure size 640x480 with 1 Axes>"
            ],
            "image/png": "[encoded data removed]"
          },
          "metadata": {}
        },
        {
          "output_type": "stream",
          "name": "stdout",
          "text": [
            "------------------\n",
            "   is_MIDAS_text  is_MIDAS_cross  is_MIDAS_image  is_submodel_OV50  \\\n",
            "0              0               0               0                 0   \n",
            "1              0               0               1                 0   \n",
            "2              0               1               0                 0   \n",
            "3              1               0               0                 0   \n",
            "\n",
            "   is_submodel_O50  is_submodel_O36  is_submodel_U72  is_submodel_U50  \\\n",
            "0                0                0                0                0   \n",
            "1                0                0                0                0   \n",
            "2                0                0                0                0   \n",
            "3                0                0                0                0   \n",
            "\n",
            "   is_submodel_U36  is_submodel_V45  is_submodel_V90  is_submodel_V135  \\\n",
            "0                0                0                0                 0   \n",
            "1                0                0                0                 0   \n",
            "2                0                0                0                 0   \n",
            "3                0                0                0                 0   \n",
            "\n",
            "   feature  \n",
            "0        4  \n",
            "1        4  \n",
            "2        1  \n",
            "3        3  \n",
            "------------------\n",
            "   is_MIDAS_text  is_MIDAS_cross  is_MIDAS_image  is_submodel_OV50  \\\n",
            "0              0               0               0                 0   \n",
            "1              0               0               1                 0   \n",
            "2              0               1               0                 0   \n",
            "3              1               0               0                 0   \n",
            "\n",
            "   is_submodel_O50  is_submodel_O36  is_submodel_U72  is_submodel_U50  \\\n",
            "0                0                0                0                0   \n",
            "1                0                0                0                0   \n",
            "2                0                0                0                0   \n",
            "3                0                0                0                0   \n",
            "\n",
            "   is_submodel_U36  is_submodel_V45  is_submodel_V90  is_submodel_V135  \\\n",
            "0                0                0                0                 0   \n",
            "1                0                0                0                 0   \n",
            "2                0                0                0                 0   \n",
            "3                0                0                0                 0   \n",
            "\n",
            "   importance  \n",
            "0           8  \n",
            "1           9  \n",
            "2           1  \n",
            "3           6  \n",
            "==================\n",
            "Model U\n",
            "[train, eval, test] size: [(204, 76), (51, 76), (110, 76)]\n"
          ]
        },
        {
          "output_type": "stream",
          "name": "stderr",
          "text": [
            "feature_fraction, val_score: 0.574605: 100%|##########| 7/7 [00:00<00:00, 50.80it/s]"
          ]
        },
        {
          "output_type": "stream",
          "name": "stdout",
          "text": [
            "Training until validation scores don't improve for 5 rounds\n",
            "Early stopping, best iteration is:\n",
            "[14]\tTrain's binary_logloss: 0.464298\tValid's binary_logloss: 0.578194\n",
            "Training until validation scores don't improve for 5 rounds\n",
            "Early stopping, best iteration is:\n",
            "[13]\tTrain's binary_logloss: 0.46951\tValid's binary_logloss: 0.611852\n",
            "Training until validation scores don't improve for 5 rounds\n",
            "Early stopping, best iteration is:\n",
            "[16]\tTrain's binary_logloss: 0.444195\tValid's binary_logloss: 0.614473\n",
            "Training until validation scores don't improve for 5 rounds\n",
            "Early stopping, best iteration is:\n",
            "[9]\tTrain's binary_logloss: 0.503471\tValid's binary_logloss: 0.60615\n",
            "Training until validation scores don't improve for 5 rounds\n",
            "Early stopping, best iteration is:\n",
            "[7]\tTrain's binary_logloss: 0.525687\tValid's binary_logloss: 0.59039\n",
            "Training until validation scores don't improve for 5 rounds\n",
            "Early stopping, best iteration is:\n",
            "[19]\tTrain's binary_logloss: 0.41673\tValid's binary_logloss: 0.612244\n",
            "Training until validation scores don't improve for 5 rounds\n",
            "Early stopping, best iteration is:\n",
            "[9]\tTrain's binary_logloss: 0.505138\tValid's binary_logloss: 0.574605\n"
          ]
        },
        {
          "output_type": "stream",
          "name": "stderr",
          "text": [
            "\n",
            "num_leaves, val_score: 0.574605:  10%|#         | 2/20 [00:00<00:00, 56.31it/s]"
          ]
        },
        {
          "output_type": "stream",
          "name": "stdout",
          "text": [
            "Training until validation scores don't improve for 5 rounds\n",
            "Early stopping, best iteration is:\n",
            "[9]\tTrain's binary_logloss: 0.505138\tValid's binary_logloss: 0.574605\n",
            "Training until validation scores don't improve for 5 rounds\n",
            "Early stopping, best iteration is:\n",
            "[9]\tTrain's binary_logloss: 0.505138\tValid's binary_logloss: 0.574605\n"
          ]
        },
        {
          "output_type": "stream",
          "name": "stderr",
          "text": [
            "num_leaves, val_score: 0.574605:  15%|#5        | 3/20 [00:00<00:00, 46.33it/s]"
          ]
        },
        {
          "output_type": "stream",
          "name": "stdout",
          "text": [
            "Training until validation scores don't improve for 5 rounds\n",
            "Early stopping, best iteration is:\n",
            "[9]\tTrain's binary_logloss: 0.505138\tValid's binary_logloss: 0.574605\n"
          ]
        },
        {
          "output_type": "stream",
          "name": "stderr",
          "text": [
            "num_leaves, val_score: 0.574605:  40%|####      | 8/20 [00:00<00:00, 42.51it/s]"
          ]
        },
        {
          "output_type": "stream",
          "name": "stdout",
          "text": [
            "Training until validation scores don't improve for 5 rounds\n",
            "Early stopping, best iteration is:\n",
            "[9]\tTrain's binary_logloss: 0.505138\tValid's binary_logloss: 0.574605\n",
            "Training until validation scores don't improve for 5 rounds\n",
            "Early stopping, best iteration is:\n",
            "[9]\tTrain's binary_logloss: 0.505138\tValid's binary_logloss: 0.574605\n",
            "Training until validation scores don't improve for 5 rounds\n",
            "Early stopping, best iteration is:\n",
            "[9]\tTrain's binary_logloss: 0.505138\tValid's binary_logloss: 0.574605\n",
            "Training until validation scores don't improve for 5 rounds\n",
            "Early stopping, best iteration is:\n",
            "[9]\tTrain's binary_logloss: 0.505138\tValid's binary_logloss: 0.574605\n",
            "Training until validation scores don't improve for 5 rounds\n",
            "Early stopping, best iteration is:\n",
            "[9]\tTrain's binary_logloss: 0.505138\tValid's binary_logloss: 0.574605\n"
          ]
        },
        {
          "output_type": "stream",
          "name": "stderr",
          "text": [
            "num_leaves, val_score: 0.574605:  45%|####5     | 9/20 [00:00<00:00, 42.51it/s]"
          ]
        },
        {
          "output_type": "stream",
          "name": "stdout",
          "text": [
            "Training until validation scores don't improve for 5 rounds\n",
            "Early stopping, best iteration is:\n",
            "[9]\tTrain's binary_logloss: 0.505138\tValid's binary_logloss: 0.574605\n",
            "Training until validation scores don't improve for 5 rounds\n"
          ]
        },
        {
          "output_type": "stream",
          "name": "stderr",
          "text": [
            "num_leaves, val_score: 0.574605:  55%|#####5    | 11/20 [00:00<00:00, 37.69it/s]"
          ]
        },
        {
          "output_type": "stream",
          "name": "stdout",
          "text": [
            "Early stopping, best iteration is:\n",
            "[9]\tTrain's binary_logloss: 0.505138\tValid's binary_logloss: 0.574605\n",
            "Training until validation scores don't improve for 5 rounds\n",
            "Early stopping, best iteration is:\n",
            "[9]\tTrain's binary_logloss: 0.505138\tValid's binary_logloss: 0.574605\n"
          ]
        },
        {
          "output_type": "stream",
          "name": "stderr",
          "text": [
            "num_leaves, val_score: 0.574605:  80%|########  | 16/20 [00:00<00:00, 37.17it/s]"
          ]
        },
        {
          "output_type": "stream",
          "name": "stdout",
          "text": [
            "Training until validation scores don't improve for 5 rounds\n",
            "Early stopping, best iteration is:\n",
            "[9]\tTrain's binary_logloss: 0.505138\tValid's binary_logloss: 0.574605\n",
            "Training until validation scores don't improve for 5 rounds\n",
            "Early stopping, best iteration is:\n",
            "[9]\tTrain's binary_logloss: 0.505138\tValid's binary_logloss: 0.574605\n",
            "Training until validation scores don't improve for 5 rounds\n",
            "Early stopping, best iteration is:\n",
            "[9]\tTrain's binary_logloss: 0.505138\tValid's binary_logloss: 0.574605\n",
            "Training until validation scores don't improve for 5 rounds\n",
            "Early stopping, best iteration is:\n",
            "[9]\tTrain's binary_logloss: 0.505138\tValid's binary_logloss: 0.574605\n",
            "Training until validation scores don't improve for 5 rounds\n",
            "Early stopping, best iteration is:\n",
            "[9]\tTrain's binary_logloss: 0.522532\tValid's binary_logloss: 0.583562\n",
            "Training until validation scores don't improve for 5 rounds\n",
            "Early stopping, best iteration is:\n",
            "[9]\tTrain's binary_logloss: 0.505138\tValid's binary_logloss: 0.574605\n"
          ]
        },
        {
          "output_type": "stream",
          "name": "stderr",
          "text": [
            "num_leaves, val_score: 0.574605:  85%|########5 | 17/20 [00:00<00:00, 37.17it/s]"
          ]
        },
        {
          "output_type": "stream",
          "name": "stdout",
          "text": [
            "Training until validation scores don't improve for 5 rounds\n"
          ]
        },
        {
          "output_type": "stream",
          "name": "stderr",
          "text": [
            "num_leaves, val_score: 0.574605: 100%|##########| 20/20 [00:00<00:00, 39.75it/s]\n"
          ]
        },
        {
          "output_type": "stream",
          "name": "stdout",
          "text": [
            "Early stopping, best iteration is:\n",
            "[9]\tTrain's binary_logloss: 0.505138\tValid's binary_logloss: 0.574605\n",
            "Training until validation scores don't improve for 5 rounds\n",
            "Early stopping, best iteration is:\n",
            "[9]\tTrain's binary_logloss: 0.505138\tValid's binary_logloss: 0.574605\n",
            "Training until validation scores don't improve for 5 rounds\n",
            "Early stopping, best iteration is:\n",
            "[9]\tTrain's binary_logloss: 0.505138\tValid's binary_logloss: 0.574605\n"
          ]
        },
        {
          "output_type": "stream",
          "name": "stderr",
          "text": [
            "bagging, val_score: 0.574605:  50%|#####     | 5/10 [00:00<00:00, 35.40it/s]"
          ]
        },
        {
          "output_type": "stream",
          "name": "stdout",
          "text": [
            "Training until validation scores don't improve for 5 rounds\n",
            "Early stopping, best iteration is:\n",
            "[17]\tTrain's binary_logloss: 0.507441\tValid's binary_logloss: 0.586819\n",
            "Training until validation scores don't improve for 5 rounds\n",
            "Early stopping, best iteration is:\n",
            "[10]\tTrain's binary_logloss: 0.496608\tValid's binary_logloss: 0.582401\n",
            "Training until validation scores don't improve for 5 rounds\n",
            "Early stopping, best iteration is:\n",
            "[13]\tTrain's binary_logloss: 0.53594\tValid's binary_logloss: 0.599299\n",
            "Training until validation scores don't improve for 5 rounds\n",
            "Early stopping, best iteration is:\n",
            "[9]\tTrain's binary_logloss: 0.505138\tValid's binary_logloss: 0.574605\n",
            "Training until validation scores don't improve for 5 rounds\n",
            "Early stopping, best iteration is:\n",
            "[21]\tTrain's binary_logloss: 0.453902\tValid's binary_logloss: 0.575426\n"
          ]
        },
        {
          "output_type": "stream",
          "name": "stderr",
          "text": [
            "bagging, val_score: 0.574287:  80%|########  | 8/10 [00:00<00:00, 37.87it/s]"
          ]
        },
        {
          "output_type": "stream",
          "name": "stdout",
          "text": [
            "Training until validation scores don't improve for 5 rounds\n",
            "Early stopping, best iteration is:\n",
            "[20]\tTrain's binary_logloss: 0.507457\tValid's binary_logloss: 0.59187\n",
            "Training until validation scores don't improve for 5 rounds\n",
            "Early stopping, best iteration is:\n",
            "[13]\tTrain's binary_logloss: 0.497672\tValid's binary_logloss: 0.576744\n",
            "Training until validation scores don't improve for 5 rounds\n",
            "Early stopping, best iteration is:\n",
            "[38]\tTrain's binary_logloss: 0.430887\tValid's binary_logloss: 0.574287\n"
          ]
        },
        {
          "output_type": "stream",
          "name": "stderr",
          "text": [
            "bagging, val_score: 0.574287: 100%|##########| 10/10 [00:00<00:00, 35.05it/s]\n"
          ]
        },
        {
          "output_type": "stream",
          "name": "stdout",
          "text": [
            "Training until validation scores don't improve for 5 rounds\n",
            "Early stopping, best iteration is:\n",
            "[12]\tTrain's binary_logloss: 0.530326\tValid's binary_logloss: 0.595283\n",
            "Training until validation scores don't improve for 5 rounds\n",
            "Early stopping, best iteration is:\n",
            "[14]\tTrain's binary_logloss: 0.50923\tValid's binary_logloss: 0.583319\n"
          ]
        },
        {
          "output_type": "stream",
          "name": "stderr",
          "text": [
            "feature_fraction_stage2, val_score: 0.574287:  67%|######6   | 4/6 [00:00<00:00, 64.73it/s]"
          ]
        },
        {
          "output_type": "stream",
          "name": "stdout",
          "text": [
            "Training until validation scores don't improve for 5 rounds\n",
            "Early stopping, best iteration is:\n",
            "[16]\tTrain's binary_logloss: 0.515563\tValid's binary_logloss: 0.592372\n",
            "Training until validation scores don't improve for 5 rounds\n",
            "Early stopping, best iteration is:\n",
            "[10]\tTrain's binary_logloss: 0.539475\tValid's binary_logloss: 0.593606\n",
            "Training until validation scores don't improve for 5 rounds\n",
            "Early stopping, best iteration is:\n",
            "[16]\tTrain's binary_logloss: 0.512432\tValid's binary_logloss: 0.588533\n",
            "Training until validation scores don't improve for 5 rounds\n",
            "Early stopping, best iteration is:\n",
            "[16]\tTrain's binary_logloss: 0.511287\tValid's binary_logloss: 0.589008\n"
          ]
        },
        {
          "output_type": "stream",
          "name": "stderr",
          "text": [
            "feature_fraction_stage2, val_score: 0.574287: 100%|##########| 6/6 [00:00<00:00, 55.89it/s]\n"
          ]
        },
        {
          "output_type": "stream",
          "name": "stdout",
          "text": [
            "Training until validation scores don't improve for 5 rounds\n",
            "Early stopping, best iteration is:\n",
            "[9]\tTrain's binary_logloss: 0.548592\tValid's binary_logloss: 0.59306\n",
            "Training until validation scores don't improve for 5 rounds\n",
            "Early stopping, best iteration is:\n",
            "[10]\tTrain's binary_logloss: 0.538676\tValid's binary_logloss: 0.592448\n"
          ]
        },
        {
          "output_type": "stream",
          "name": "stderr",
          "text": [
            "regularization_factors, val_score: 0.574287:   5%|5         | 1/20 [00:00<00:00, 35.26it/s]"
          ]
        },
        {
          "output_type": "stream",
          "name": "stdout",
          "text": [
            "Training until validation scores don't improve for 5 rounds\n",
            "Early stopping, best iteration is:\n",
            "[38]\tTrain's binary_logloss: 0.430887\tValid's binary_logloss: 0.574287\n"
          ]
        },
        {
          "output_type": "stream",
          "name": "stderr",
          "text": [
            "regularization_factors, val_score: 0.574287:  15%|#5        | 3/20 [00:00<00:00, 31.36it/s]"
          ]
        },
        {
          "output_type": "stream",
          "name": "stdout",
          "text": [
            "Training until validation scores don't improve for 5 rounds\n",
            "Early stopping, best iteration is:\n",
            "[38]\tTrain's binary_logloss: 0.430887\tValid's binary_logloss: 0.574287\n",
            "Training until validation scores don't improve for 5 rounds\n",
            "Early stopping, best iteration is:\n",
            "[38]\tTrain's binary_logloss: 0.430887\tValid's binary_logloss: 0.574287\n"
          ]
        },
        {
          "output_type": "stream",
          "name": "stderr",
          "text": [
            "regularization_factors, val_score: 0.574287:  25%|##5       | 5/20 [00:00<00:00, 32.55it/s]"
          ]
        },
        {
          "output_type": "stream",
          "name": "stdout",
          "text": [
            "Training until validation scores don't improve for 5 rounds\n",
            "Early stopping, best iteration is:\n",
            "[38]\tTrain's binary_logloss: 0.430887\tValid's binary_logloss: 0.574287\n",
            "Training until validation scores don't improve for 5 rounds\n",
            "Early stopping, best iteration is:\n",
            "[38]\tTrain's binary_logloss: 0.430887\tValid's binary_logloss: 0.574287\n"
          ]
        },
        {
          "output_type": "stream",
          "name": "stderr",
          "text": [
            "regularization_factors, val_score: 0.574287:  30%|###       | 6/20 [00:00<00:00, 32.55it/s]"
          ]
        },
        {
          "output_type": "stream",
          "name": "stdout",
          "text": [
            "Training until validation scores don't improve for 5 rounds\n",
            "Early stopping, best iteration is:\n",
            "[38]\tTrain's binary_logloss: 0.430887\tValid's binary_logloss: 0.574287\n",
            "Training until validation scores don't improve for 5 rounds\n",
            "Early stopping, best iteration is:\n",
            "[38]\tTrain's binary_logloss: 0.430887\tValid's binary_logloss: 0.574287\n"
          ]
        },
        {
          "output_type": "stream",
          "name": "stderr",
          "text": [
            "\rregularization_factors, val_score: 0.574287:  35%|###5      | 7/20 [00:00<00:00, 32.55it/s]"
          ]
        },
        {
          "output_type": "stream",
          "name": "stdout",
          "text": [
            "Training until validation scores don't improve for 5 rounds\n",
            "Early stopping, best iteration is:\n",
            "[38]\tTrain's binary_logloss: 0.430887\tValid's binary_logloss: 0.574287\n"
          ]
        },
        {
          "output_type": "stream",
          "name": "stderr",
          "text": [
            "regularization_factors, val_score: 0.574287:  45%|####5     | 9/20 [00:00<00:00, 31.09it/s]"
          ]
        },
        {
          "output_type": "stream",
          "name": "stdout",
          "text": [
            "Training until validation scores don't improve for 5 rounds\n",
            "Early stopping, best iteration is:\n",
            "[38]\tTrain's binary_logloss: 0.430887\tValid's binary_logloss: 0.574287\n"
          ]
        },
        {
          "output_type": "stream",
          "name": "stderr",
          "text": [
            "regularization_factors, val_score: 0.574287:  50%|#####     | 10/20 [00:00<00:00, 31.09it/s]"
          ]
        },
        {
          "output_type": "stream",
          "name": "stdout",
          "text": [
            "Training until validation scores don't improve for 5 rounds\n",
            "Early stopping, best iteration is:\n",
            "[38]\tTrain's binary_logloss: 0.430887\tValid's binary_logloss: 0.574287\n",
            "Training until validation scores don't improve for 5 rounds\n",
            "Early stopping, best iteration is:\n",
            "[38]\tTrain's binary_logloss: 0.430887\tValid's binary_logloss: 0.574287\n"
          ]
        },
        {
          "output_type": "stream",
          "name": "stderr",
          "text": [
            "regularization_factors, val_score: 0.574287:  60%|######    | 12/20 [00:00<00:00, 28.68it/s]"
          ]
        },
        {
          "output_type": "stream",
          "name": "stdout",
          "text": [
            "Training until validation scores don't improve for 5 rounds\n",
            "Early stopping, best iteration is:\n",
            "[38]\tTrain's binary_logloss: 0.430887\tValid's binary_logloss: 0.574287\n",
            "Training until validation scores don't improve for 5 rounds\n"
          ]
        },
        {
          "output_type": "stream",
          "name": "stderr",
          "text": [
            "regularization_factors, val_score: 0.574286:  65%|######5   | 13/20 [00:00<00:00, 28.68it/s]"
          ]
        },
        {
          "output_type": "stream",
          "name": "stdout",
          "text": [
            "Early stopping, best iteration is:\n",
            "[38]\tTrain's binary_logloss: 0.430892\tValid's binary_logloss: 0.574286\n",
            "Training until validation scores don't improve for 5 rounds\n",
            "Early stopping, best iteration is:\n",
            "[38]\tTrain's binary_logloss: 0.430907\tValid's binary_logloss: 0.574282\n"
          ]
        },
        {
          "output_type": "stream",
          "name": "stderr",
          "text": [
            "regularization_factors, val_score: 0.574281:  75%|#######5  | 15/20 [00:00<00:00, 28.38it/s]"
          ]
        },
        {
          "output_type": "stream",
          "name": "stdout",
          "text": [
            "Training until validation scores don't improve for 5 rounds\n",
            "Early stopping, best iteration is:\n",
            "[38]\tTrain's binary_logloss: 0.430913\tValid's binary_logloss: 0.574281\n"
          ]
        },
        {
          "output_type": "stream",
          "name": "stderr",
          "text": [
            "regularization_factors, val_score: 0.574277:  80%|########  | 16/20 [00:00<00:00, 28.38it/s]"
          ]
        },
        {
          "output_type": "stream",
          "name": "stdout",
          "text": [
            "Training until validation scores don't improve for 5 rounds\n",
            "Early stopping, best iteration is:\n",
            "[38]\tTrain's binary_logloss: 0.430928\tValid's binary_logloss: 0.574277\n",
            "Training until validation scores don't improve for 5 rounds\n",
            "Early stopping, best iteration is:\n",
            "[38]\tTrain's binary_logloss: 0.430928\tValid's binary_logloss: 0.574277\n"
          ]
        },
        {
          "output_type": "stream",
          "name": "stderr",
          "text": [
            "regularization_factors, val_score: 0.574276:  90%|######### | 18/20 [00:00<00:00, 24.37it/s]"
          ]
        },
        {
          "output_type": "stream",
          "name": "stdout",
          "text": [
            "Training until validation scores don't improve for 5 rounds\n",
            "Early stopping, best iteration is:\n",
            "[38]\tTrain's binary_logloss: 0.430936\tValid's binary_logloss: 0.574276\n",
            "Training until validation scores don't improve for 5 rounds\n"
          ]
        },
        {
          "output_type": "stream",
          "name": "stderr",
          "text": [
            "regularization_factors, val_score: 0.574276: 100%|##########| 20/20 [00:02<00:00,  7.13it/s]\n"
          ]
        },
        {
          "output_type": "stream",
          "name": "stdout",
          "text": [
            "Early stopping, best iteration is:\n",
            "[38]\tTrain's binary_logloss: 0.430922\tValid's binary_logloss: 0.574279\n",
            "Training until validation scores don't improve for 5 rounds\n",
            "Early stopping, best iteration is:\n",
            "[38]\tTrain's binary_logloss: 0.430932\tValid's binary_logloss: 0.574276\n"
          ]
        },
        {
          "output_type": "stream",
          "name": "stderr",
          "text": [
            "min_data_in_leaf, val_score: 0.574276: 100%|##########| 5/5 [00:00<00:00, 51.45it/s]"
          ]
        },
        {
          "output_type": "stream",
          "name": "stdout",
          "text": [
            "Training until validation scores don't improve for 5 rounds\n",
            "Early stopping, best iteration is:\n",
            "[12]\tTrain's binary_logloss: 0.39152\tValid's binary_logloss: 0.61963\n",
            "Training until validation scores don't improve for 5 rounds\n",
            "Early stopping, best iteration is:\n",
            "[14]\tTrain's binary_logloss: 0.592093\tValid's binary_logloss: 0.608218\n",
            "Training until validation scores don't improve for 5 rounds\n",
            "Early stopping, best iteration is:\n",
            "[17]\tTrain's binary_logloss: 0.526444\tValid's binary_logloss: 0.593274\n",
            "Training until validation scores don't improve for 5 rounds\n",
            "Early stopping, best iteration is:\n",
            "[1]\tTrain's binary_logloss: 0.680793\tValid's binary_logloss: 0.690097\n",
            "Training until validation scores don't improve for 5 rounds\n",
            "Early stopping, best iteration is:\n",
            "[12]\tTrain's binary_logloss: 0.453433\tValid's binary_logloss: 0.585602\n",
            "{'verbose': -1, 'task': 'train', 'boosting_type': 'gbdt', 'objective': 'binary', 'metric': 'binary_logloss', 'learning_rate': 0.1, 'seed': 1991, 'deterministic': True, 'force_row_wise': True, 'feature_pre_filter': False, 'lambda_l1': 0.0021256844270571137, 'lambda_l2': 2.141395679420987e-05, 'num_leaves': 31, 'feature_fraction': 0.5, 'bagging_fraction': 0.584103451114123, 'bagging_freq': 2, 'min_child_samples': 20, 'num_iterations': 500}\n",
            "------------------\n",
            "AUC=0.7620079451065366\n"
          ]
        },
        {
          "output_type": "stream",
          "name": "stderr",
          "text": [
            "\n"
          ]
        },
        {
          "output_type": "display_data",
          "data": {
            "text/plain": [
              "<Figure size 640x480 with 1 Axes>"
            ],
            "image/png": "[encoded data removed]"
          },
          "metadata": {}
        },
        {
          "output_type": "stream",
          "name": "stdout",
          "text": [
            "------------------\n",
            "   is_MIDAS_text  is_MIDAS_cross  is_MIDAS_image  is_submodel_OV50  \\\n",
            "0              0               0               0                 0   \n",
            "1              0               0               0                 0   \n",
            "2              0               0               0                 0   \n",
            "3              0               0               1                 0   \n",
            "4              0               0               1                 0   \n",
            "5              0               0               1                 0   \n",
            "6              0               1               0                 0   \n",
            "7              1               0               0                 0   \n",
            "8              1               0               0                 0   \n",
            "\n",
            "   is_submodel_O50  is_submodel_O36  is_submodel_U72  is_submodel_U50  \\\n",
            "0                0                0                0                0   \n",
            "1                0                0                0                0   \n",
            "2                0                0                1                0   \n",
            "3                0                0                0                0   \n",
            "4                0                0                0                1   \n",
            "5                0                0                1                0   \n",
            "6                0                0                0                0   \n",
            "7                0                0                0                0   \n",
            "8                0                0                0                1   \n",
            "\n",
            "   is_submodel_U36  is_submodel_V45  is_submodel_V90  is_submodel_V135  \\\n",
            "0                0                0                0                 0   \n",
            "1                1                0                0                 0   \n",
            "2                0                0                0                 0   \n",
            "3                0                0                0                 0   \n",
            "4                0                0                0                 0   \n",
            "5                0                0                0                 0   \n",
            "6                0                0                0                 0   \n",
            "7                0                0                0                 0   \n",
            "8                0                0                0                 0   \n",
            "\n",
            "   feature  \n",
            "0        5  \n",
            "1        1  \n",
            "2        2  \n",
            "3        4  \n",
            "4        1  \n",
            "5        1  \n",
            "6        4  \n",
            "7        4  \n",
            "8        1  \n",
            "------------------\n",
            "   is_MIDAS_text  is_MIDAS_cross  is_MIDAS_image  is_submodel_OV50  \\\n",
            "0              0               0               0                 0   \n",
            "1              0               0               0                 0   \n",
            "2              0               0               0                 0   \n",
            "3              0               0               1                 0   \n",
            "4              0               0               1                 0   \n",
            "5              0               0               1                 0   \n",
            "6              0               1               0                 0   \n",
            "7              1               0               0                 0   \n",
            "8              1               0               0                 0   \n",
            "\n",
            "   is_submodel_O50  is_submodel_O36  is_submodel_U72  is_submodel_U50  \\\n",
            "0                0                0                0                0   \n",
            "1                0                0                0                0   \n",
            "2                0                0                1                0   \n",
            "3                0                0                0                0   \n",
            "4                0                0                0                1   \n",
            "5                0                0                1                0   \n",
            "6                0                0                0                0   \n",
            "7                0                0                0                0   \n",
            "8                0                0                0                1   \n",
            "\n",
            "   is_submodel_U36  is_submodel_V45  is_submodel_V90  is_submodel_V135  \\\n",
            "0                0                0                0                 0   \n",
            "1                1                0                0                 0   \n",
            "2                0                0                0                 0   \n",
            "3                0                0                0                 0   \n",
            "4                0                0                0                 0   \n",
            "5                0                0                0                 0   \n",
            "6                0                0                0                 0   \n",
            "7                0                0                0                 0   \n",
            "8                0                0                0                 0   \n",
            "\n",
            "   importance  \n",
            "0          39  \n",
            "1           2  \n",
            "2           4  \n",
            "3          32  \n",
            "4           1  \n",
            "5           1  \n",
            "6          26  \n",
            "7          29  \n",
            "8           2  \n",
            "==================\n",
            "Model V\n",
            "[train, eval, test] size: [(214, 76), (54, 76), (116, 76)]\n"
          ]
        },
        {
          "output_type": "stream",
          "name": "stderr",
          "text": [
            "feature_fraction, val_score: 0.434325:  57%|#####7    | 4/7 [00:00<00:00, 36.89it/s]"
          ]
        },
        {
          "output_type": "stream",
          "name": "stdout",
          "text": [
            "Training until validation scores don't improve for 5 rounds\n",
            "Early stopping, best iteration is:\n",
            "[61]\tTrain's binary_logloss: 0.162893\tValid's binary_logloss: 0.457232\n",
            "Training until validation scores don't improve for 5 rounds\n",
            "Early stopping, best iteration is:\n",
            "[52]\tTrain's binary_logloss: 0.145075\tValid's binary_logloss: 0.453535\n",
            "Training until validation scores don't improve for 5 rounds\n",
            "Early stopping, best iteration is:\n",
            "[50]\tTrain's binary_logloss: 0.16105\tValid's binary_logloss: 0.447343\n",
            "Training until validation scores don't improve for 5 rounds\n",
            "Early stopping, best iteration is:\n",
            "[59]\tTrain's binary_logloss: 0.135047\tValid's binary_logloss: 0.434325\n",
            "Training until validation scores don't improve for 5 rounds\n",
            "Early stopping, best iteration is:\n",
            "[55]\tTrain's binary_logloss: 0.155563\tValid's binary_logloss: 0.467317\n"
          ]
        },
        {
          "output_type": "stream",
          "name": "stderr",
          "text": [
            "feature_fraction, val_score: 0.434325:  86%|########5 | 6/7 [00:00<00:00, 36.89it/s]"
          ]
        },
        {
          "output_type": "stream",
          "name": "stdout",
          "text": [
            "Training until validation scores don't improve for 5 rounds\n",
            "Early stopping, best iteration is:\n",
            "[54]\tTrain's binary_logloss: 0.150116\tValid's binary_logloss: 0.434776\n",
            "Training until validation scores don't improve for 5 rounds\n"
          ]
        },
        {
          "output_type": "stream",
          "name": "stderr",
          "text": [
            "feature_fraction, val_score: 0.433602: 100%|##########| 7/7 [00:00<00:00, 30.28it/s]\n"
          ]
        },
        {
          "output_type": "stream",
          "name": "stdout",
          "text": [
            "Early stopping, best iteration is:\n",
            "[74]\tTrain's binary_logloss: 0.119838\tValid's binary_logloss: 0.433602\n"
          ]
        },
        {
          "output_type": "stream",
          "name": "stderr",
          "text": [
            "num_leaves, val_score: 0.433602:  15%|#5        | 3/20 [00:00<00:00, 27.75it/s]"
          ]
        },
        {
          "output_type": "stream",
          "name": "stdout",
          "text": [
            "Training until validation scores don't improve for 5 rounds\n",
            "Early stopping, best iteration is:\n",
            "[74]\tTrain's binary_logloss: 0.119838\tValid's binary_logloss: 0.433602\n",
            "Training until validation scores don't improve for 5 rounds\n",
            "Early stopping, best iteration is:\n",
            "[74]\tTrain's binary_logloss: 0.119838\tValid's binary_logloss: 0.433602\n",
            "Training until validation scores don't improve for 5 rounds\n",
            "Early stopping, best iteration is:\n",
            "[74]\tTrain's binary_logloss: 0.119838\tValid's binary_logloss: 0.433602\n"
          ]
        },
        {
          "output_type": "stream",
          "name": "stderr",
          "text": [
            "num_leaves, val_score: 0.433602:  20%|##        | 4/20 [00:00<00:00, 27.75it/s]"
          ]
        },
        {
          "output_type": "stream",
          "name": "stdout",
          "text": [
            "Training until validation scores don't improve for 5 rounds\n",
            "Early stopping, best iteration is:\n",
            "[74]\tTrain's binary_logloss: 0.119838\tValid's binary_logloss: 0.433602\n",
            "Training until validation scores don't improve for 5 rounds\n",
            "Early stopping, best iteration is:\n",
            "[74]\tTrain's binary_logloss: 0.119838\tValid's binary_logloss: 0.433602\n"
          ]
        },
        {
          "output_type": "stream",
          "name": "stderr",
          "text": [
            "\rnum_leaves, val_score: 0.433602:  25%|##5       | 5/20 [00:00<00:00, 27.75it/s]"
          ]
        },
        {
          "output_type": "stream",
          "name": "stdout",
          "text": [
            "Training until validation scores don't improve for 5 rounds\n"
          ]
        },
        {
          "output_type": "stream",
          "name": "stderr",
          "text": [
            "num_leaves, val_score: 0.433602:  40%|####      | 8/20 [00:00<00:00, 23.46it/s]"
          ]
        },
        {
          "output_type": "stream",
          "name": "stdout",
          "text": [
            "Early stopping, best iteration is:\n",
            "[74]\tTrain's binary_logloss: 0.119838\tValid's binary_logloss: 0.433602\n",
            "Training until validation scores don't improve for 5 rounds\n",
            "Early stopping, best iteration is:\n",
            "[74]\tTrain's binary_logloss: 0.119838\tValid's binary_logloss: 0.433602\n",
            "Training until validation scores don't improve for 5 rounds\n",
            "Early stopping, best iteration is:\n",
            "[74]\tTrain's binary_logloss: 0.119838\tValid's binary_logloss: 0.433602\n"
          ]
        },
        {
          "output_type": "stream",
          "name": "stderr",
          "text": [
            "num_leaves, val_score: 0.433602:  45%|####5     | 9/20 [00:00<00:00, 24.50it/s]"
          ]
        },
        {
          "output_type": "stream",
          "name": "stdout",
          "text": [
            "Training until validation scores don't improve for 5 rounds\n",
            "Early stopping, best iteration is:\n",
            "[74]\tTrain's binary_logloss: 0.119838\tValid's binary_logloss: 0.433602\n",
            "Training until validation scores don't improve for 5 rounds\n",
            "Early stopping, best iteration is:\n",
            "[74]\tTrain's binary_logloss: 0.119838\tValid's binary_logloss: 0.433602\n"
          ]
        },
        {
          "output_type": "stream",
          "name": "stderr",
          "text": [
            "\rnum_leaves, val_score: 0.433602:  50%|#####     | 10/20 [00:00<00:00, 24.50it/s]"
          ]
        },
        {
          "output_type": "stream",
          "name": "stdout",
          "text": [
            "Training until validation scores don't improve for 5 rounds\n"
          ]
        },
        {
          "output_type": "stream",
          "name": "stderr",
          "text": [
            "num_leaves, val_score: 0.433602:  65%|######5   | 13/20 [00:00<00:00, 23.91it/s]"
          ]
        },
        {
          "output_type": "stream",
          "name": "stdout",
          "text": [
            "Early stopping, best iteration is:\n",
            "[74]\tTrain's binary_logloss: 0.119838\tValid's binary_logloss: 0.433602\n",
            "Training until validation scores don't improve for 5 rounds\n",
            "Early stopping, best iteration is:\n",
            "[74]\tTrain's binary_logloss: 0.119838\tValid's binary_logloss: 0.433602\n",
            "Training until validation scores don't improve for 5 rounds\n",
            "Early stopping, best iteration is:\n",
            "[74]\tTrain's binary_logloss: 0.119838\tValid's binary_logloss: 0.433602\n"
          ]
        },
        {
          "output_type": "stream",
          "name": "stderr",
          "text": [
            "num_leaves, val_score: 0.433602:  75%|#######5  | 15/20 [00:00<00:00, 24.23it/s]"
          ]
        },
        {
          "output_type": "stream",
          "name": "stdout",
          "text": [
            "Training until validation scores don't improve for 5 rounds\n",
            "Early stopping, best iteration is:\n",
            "[74]\tTrain's binary_logloss: 0.119838\tValid's binary_logloss: 0.433602\n",
            "Training until validation scores don't improve for 5 rounds\n",
            "Early stopping, best iteration is:\n",
            "[74]\tTrain's binary_logloss: 0.119838\tValid's binary_logloss: 0.433602\n",
            "Training until validation scores don't improve for 5 rounds\n"
          ]
        },
        {
          "output_type": "stream",
          "name": "stderr",
          "text": [
            "num_leaves, val_score: 0.433602:  90%|######### | 18/20 [00:00<00:00, 24.27it/s]"
          ]
        },
        {
          "output_type": "stream",
          "name": "stdout",
          "text": [
            "Early stopping, best iteration is:\n",
            "[76]\tTrain's binary_logloss: 0.217124\tValid's binary_logloss: 0.493574\n",
            "Training until validation scores don't improve for 5 rounds\n",
            "Early stopping, best iteration is:\n",
            "[74]\tTrain's binary_logloss: 0.119838\tValid's binary_logloss: 0.433602\n",
            "Training until validation scores don't improve for 5 rounds\n",
            "Early stopping, best iteration is:\n",
            "[74]\tTrain's binary_logloss: 0.119838\tValid's binary_logloss: 0.433602\n",
            "Training until validation scores don't improve for 5 rounds\n"
          ]
        },
        {
          "output_type": "stream",
          "name": "stderr",
          "text": [
            "num_leaves, val_score: 0.433602: 100%|##########| 20/20 [00:00<00:00, 24.52it/s]\n"
          ]
        },
        {
          "output_type": "stream",
          "name": "stdout",
          "text": [
            "Early stopping, best iteration is:\n",
            "[74]\tTrain's binary_logloss: 0.119838\tValid's binary_logloss: 0.433602\n",
            "Training until validation scores don't improve for 5 rounds\n",
            "Early stopping, best iteration is:\n",
            "[74]\tTrain's binary_logloss: 0.119838\tValid's binary_logloss: 0.433602\n"
          ]
        },
        {
          "output_type": "stream",
          "name": "stderr",
          "text": [
            "bagging, val_score: 0.433602:   0%|          | 0/10 [00:00<?, ?it/s]"
          ]
        },
        {
          "output_type": "stream",
          "name": "stdout",
          "text": [
            "Training until validation scores don't improve for 5 rounds\n"
          ]
        },
        {
          "output_type": "stream",
          "name": "stderr",
          "text": [
            "bagging, val_score: 0.433602:  30%|###       | 3/10 [00:00<00:00, 25.97it/s]"
          ]
        },
        {
          "output_type": "stream",
          "name": "stdout",
          "text": [
            "Early stopping, best iteration is:\n",
            "[49]\tTrain's binary_logloss: 0.316046\tValid's binary_logloss: 0.532509\n",
            "Training until validation scores don't improve for 5 rounds\n",
            "Early stopping, best iteration is:\n",
            "[47]\tTrain's binary_logloss: 0.199436\tValid's binary_logloss: 0.490044\n",
            "Training until validation scores don't improve for 5 rounds\n",
            "Early stopping, best iteration is:\n",
            "[11]\tTrain's binary_logloss: 0.50159\tValid's binary_logloss: 0.63436\n",
            "Training until validation scores don't improve for 5 rounds\n"
          ]
        },
        {
          "output_type": "stream",
          "name": "stderr",
          "text": [
            "bagging, val_score: 0.433602:  50%|#####     | 5/10 [00:00<00:00, 25.97it/s]"
          ]
        },
        {
          "output_type": "stream",
          "name": "stdout",
          "text": [
            "Early stopping, best iteration is:\n",
            "[74]\tTrain's binary_logloss: 0.119838\tValid's binary_logloss: 0.433602\n",
            "Training until validation scores don't improve for 5 rounds\n",
            "Early stopping, best iteration is:\n",
            "[11]\tTrain's binary_logloss: 0.448548\tValid's binary_logloss: 0.572546\n",
            "Training until validation scores don't improve for 5 rounds\n",
            "Early stopping, best iteration is:\n",
            "[22]\tTrain's binary_logloss: 0.438874\tValid's binary_logloss: 0.60806\n"
          ]
        },
        {
          "output_type": "stream",
          "name": "stderr",
          "text": [
            "bagging, val_score: 0.433602:  90%|######### | 9/10 [00:00<00:00, 27.03it/s]"
          ]
        },
        {
          "output_type": "stream",
          "name": "stdout",
          "text": [
            "Training until validation scores don't improve for 5 rounds\n",
            "Early stopping, best iteration is:\n",
            "[15]\tTrain's binary_logloss: 0.401051\tValid's binary_logloss: 0.582337\n",
            "Training until validation scores don't improve for 5 rounds\n",
            "Early stopping, best iteration is:\n",
            "[39]\tTrain's binary_logloss: 0.349605\tValid's binary_logloss: 0.566143\n",
            "Training until validation scores don't improve for 5 rounds\n",
            "Early stopping, best iteration is:\n",
            "[29]\tTrain's binary_logloss: 0.313533\tValid's binary_logloss: 0.563103\n"
          ]
        },
        {
          "output_type": "stream",
          "name": "stderr",
          "text": [
            "bagging, val_score: 0.433602: 100%|##########| 10/10 [00:00<00:00, 26.98it/s]\n"
          ]
        },
        {
          "output_type": "stream",
          "name": "stdout",
          "text": [
            "Training until validation scores don't improve for 5 rounds\n",
            "Early stopping, best iteration is:\n",
            "[15]\tTrain's binary_logloss: 0.440858\tValid's binary_logloss: 0.593108\n"
          ]
        },
        {
          "output_type": "stream",
          "name": "stderr",
          "text": [
            "feature_fraction_stage2, val_score: 0.410505:  33%|###3      | 2/6 [00:00<00:00, 28.27it/s]"
          ]
        },
        {
          "output_type": "stream",
          "name": "stdout",
          "text": [
            "Training until validation scores don't improve for 5 rounds\n",
            "Early stopping, best iteration is:\n",
            "[61]\tTrain's binary_logloss: 0.162893\tValid's binary_logloss: 0.457232\n",
            "Training until validation scores don't improve for 5 rounds\n",
            "Early stopping, best iteration is:\n",
            "[75]\tTrain's binary_logloss: 0.102176\tValid's binary_logloss: 0.410505\n"
          ]
        },
        {
          "output_type": "stream",
          "name": "stderr",
          "text": [
            "feature_fraction_stage2, val_score: 0.410505: 100%|##########| 6/6 [00:00<00:00, 35.23it/s]\n"
          ]
        },
        {
          "output_type": "stream",
          "name": "stdout",
          "text": [
            "Training until validation scores don't improve for 5 rounds\n",
            "Early stopping, best iteration is:\n",
            "[52]\tTrain's binary_logloss: 0.171348\tValid's binary_logloss: 0.467035\n",
            "Training until validation scores don't improve for 5 rounds\n",
            "Early stopping, best iteration is:\n",
            "[34]\tTrain's binary_logloss: 0.253571\tValid's binary_logloss: 0.492709\n",
            "Training until validation scores don't improve for 5 rounds\n",
            "Early stopping, best iteration is:\n",
            "[39]\tTrain's binary_logloss: 0.22527\tValid's binary_logloss: 0.49791\n",
            "Training until validation scores don't improve for 5 rounds\n",
            "Early stopping, best iteration is:\n",
            "[55]\tTrain's binary_logloss: 0.155563\tValid's binary_logloss: 0.467317\n"
          ]
        },
        {
          "output_type": "stream",
          "name": "stderr",
          "text": [
            "regularization_factors, val_score: 0.410505:   0%|          | 0/20 [00:00<?, ?it/s]"
          ]
        },
        {
          "output_type": "stream",
          "name": "stdout",
          "text": [
            "Training until validation scores don't improve for 5 rounds\n"
          ]
        },
        {
          "output_type": "stream",
          "name": "stderr",
          "text": [
            "regularization_factors, val_score: 0.410505:  10%|#         | 2/20 [00:00<00:00, 20.04it/s]"
          ]
        },
        {
          "output_type": "stream",
          "name": "stdout",
          "text": [
            "Early stopping, best iteration is:\n",
            "[75]\tTrain's binary_logloss: 0.102177\tValid's binary_logloss: 0.410519\n",
            "Training until validation scores don't improve for 5 rounds\n",
            "Early stopping, best iteration is:\n",
            "[75]\tTrain's binary_logloss: 0.102177\tValid's binary_logloss: 0.410511\n"
          ]
        },
        {
          "output_type": "stream",
          "name": "stderr",
          "text": [
            "regularization_factors, val_score: 0.410505:  20%|##        | 4/20 [00:00<00:00, 21.57it/s]"
          ]
        },
        {
          "output_type": "stream",
          "name": "stdout",
          "text": [
            "Training until validation scores don't improve for 5 rounds\n",
            "Early stopping, best iteration is:\n",
            "[75]\tTrain's binary_logloss: 0.102177\tValid's binary_logloss: 0.410511\n",
            "Training until validation scores don't improve for 5 rounds\n",
            "Early stopping, best iteration is:\n",
            "[75]\tTrain's binary_logloss: 0.102177\tValid's binary_logloss: 0.410511\n"
          ]
        },
        {
          "output_type": "stream",
          "name": "stderr",
          "text": [
            "regularization_factors, val_score: 0.410505:  25%|##5       | 5/20 [00:00<00:00, 21.57it/s]"
          ]
        },
        {
          "output_type": "stream",
          "name": "stdout",
          "text": [
            "Training until validation scores don't improve for 5 rounds\n",
            "Early stopping, best iteration is:\n",
            "[75]\tTrain's binary_logloss: 0.102177\tValid's binary_logloss: 0.410511\n"
          ]
        },
        {
          "output_type": "stream",
          "name": "stderr",
          "text": [
            "regularization_factors, val_score: 0.410505:  30%|###       | 6/20 [00:00<00:00, 20.29it/s]"
          ]
        },
        {
          "output_type": "stream",
          "name": "stdout",
          "text": [
            "Training until validation scores don't improve for 5 rounds\n",
            "Early stopping, best iteration is:\n",
            "[75]\tTrain's binary_logloss: 0.102177\tValid's binary_logloss: 0.410511\n",
            "Training until validation scores don't improve for 5 rounds\n"
          ]
        },
        {
          "output_type": "stream",
          "name": "stderr",
          "text": [
            "regularization_factors, val_score: 0.410505:  40%|####      | 8/20 [00:00<00:00, 20.29it/s]"
          ]
        },
        {
          "output_type": "stream",
          "name": "stdout",
          "text": [
            "Early stopping, best iteration is:\n",
            "[75]\tTrain's binary_logloss: 0.102177\tValid's binary_logloss: 0.410511\n",
            "Training until validation scores don't improve for 5 rounds\n",
            "Early stopping, best iteration is:\n",
            "[75]\tTrain's binary_logloss: 0.102177\tValid's binary_logloss: 0.410511\n"
          ]
        },
        {
          "output_type": "stream",
          "name": "stderr",
          "text": [
            "regularization_factors, val_score: 0.410505:  45%|####5     | 9/20 [00:00<00:00, 19.81it/s]"
          ]
        },
        {
          "output_type": "stream",
          "name": "stdout",
          "text": [
            "Training until validation scores don't improve for 5 rounds\n",
            "Early stopping, best iteration is:\n",
            "[75]\tTrain's binary_logloss: 0.102177\tValid's binary_logloss: 0.410511\n"
          ]
        },
        {
          "output_type": "stream",
          "name": "stderr",
          "text": [
            "regularization_factors, val_score: 0.410505:  55%|#####5    | 11/20 [00:00<00:00, 19.81it/s]"
          ]
        },
        {
          "output_type": "stream",
          "name": "stdout",
          "text": [
            "Training until validation scores don't improve for 5 rounds\n",
            "Early stopping, best iteration is:\n",
            "[75]\tTrain's binary_logloss: 0.102177\tValid's binary_logloss: 0.410511\n",
            "Training until validation scores don't improve for 5 rounds\n",
            "Early stopping, best iteration is:\n",
            "[69]\tTrain's binary_logloss: 0.127285\tValid's binary_logloss: 0.430873\n"
          ]
        },
        {
          "output_type": "stream",
          "name": "stderr",
          "text": [
            "regularization_factors, val_score: 0.410505:  60%|######    | 12/20 [00:00<00:00, 19.37it/s]"
          ]
        },
        {
          "output_type": "stream",
          "name": "stdout",
          "text": [
            "Training until validation scores don't improve for 5 rounds\n",
            "Early stopping, best iteration is:\n",
            "[75]\tTrain's binary_logloss: 0.102176\tValid's binary_logloss: 0.410505\n",
            "Training until validation scores don't improve for 5 rounds\n",
            "Early stopping, best iteration is:\n",
            "[75]\tTrain's binary_logloss: 0.102176\tValid's binary_logloss: 0.410511\n"
          ]
        },
        {
          "output_type": "stream",
          "name": "stderr",
          "text": [
            "regularization_factors, val_score: 0.410505:  75%|#######5  | 15/20 [00:00<00:00, 18.80it/s]"
          ]
        },
        {
          "output_type": "stream",
          "name": "stdout",
          "text": [
            "Training until validation scores don't improve for 5 rounds\n",
            "Early stopping, best iteration is:\n",
            "[75]\tTrain's binary_logloss: 0.102177\tValid's binary_logloss: 0.410511\n",
            "Training until validation scores don't improve for 5 rounds\n",
            "Early stopping, best iteration is:\n",
            "[75]\tTrain's binary_logloss: 0.102177\tValid's binary_logloss: 0.410511\n"
          ]
        },
        {
          "output_type": "stream",
          "name": "stderr",
          "text": [
            "regularization_factors, val_score: 0.410505:  80%|########  | 16/20 [00:00<00:00, 18.80it/s]"
          ]
        },
        {
          "output_type": "stream",
          "name": "stdout",
          "text": [
            "Training until validation scores don't improve for 5 rounds\n",
            "Early stopping, best iteration is:\n",
            "[75]\tTrain's binary_logloss: 0.102177\tValid's binary_logloss: 0.410511\n",
            "Training until validation scores don't improve for 5 rounds\n"
          ]
        },
        {
          "output_type": "stream",
          "name": "stderr",
          "text": [
            "regularization_factors, val_score: 0.410505:  85%|########5 | 17/20 [00:00<00:00, 19.66it/s]"
          ]
        },
        {
          "output_type": "stream",
          "name": "stdout",
          "text": [
            "Early stopping, best iteration is:\n",
            "[75]\tTrain's binary_logloss: 0.102177\tValid's binary_logloss: 0.410511\n"
          ]
        },
        {
          "output_type": "stream",
          "name": "stderr",
          "text": [
            "regularization_factors, val_score: 0.410505:  95%|#########5| 19/20 [00:00<00:00, 19.66it/s]"
          ]
        },
        {
          "output_type": "stream",
          "name": "stdout",
          "text": [
            "Training until validation scores don't improve for 5 rounds\n",
            "Early stopping, best iteration is:\n",
            "[75]\tTrain's binary_logloss: 0.102177\tValid's binary_logloss: 0.410511\n",
            "Training until validation scores don't improve for 5 rounds\n",
            "Early stopping, best iteration is:\n",
            "[75]\tTrain's binary_logloss: 0.102178\tValid's binary_logloss: 0.410518\n",
            "Training until validation scores don't improve for 5 rounds\n"
          ]
        },
        {
          "output_type": "stream",
          "name": "stderr",
          "text": [
            "regularization_factors, val_score: 0.410505: 100%|##########| 20/20 [00:01<00:00, 19.99it/s]\n"
          ]
        },
        {
          "output_type": "stream",
          "name": "stdout",
          "text": [
            "Early stopping, best iteration is:\n",
            "[75]\tTrain's binary_logloss: 0.102177\tValid's binary_logloss: 0.410511\n"
          ]
        },
        {
          "output_type": "stream",
          "name": "stderr",
          "text": [
            "min_data_in_leaf, val_score: 0.410505:   0%|          | 0/5 [00:00<?, ?it/s]"
          ]
        },
        {
          "output_type": "stream",
          "name": "stdout",
          "text": [
            "Training until validation scores don't improve for 5 rounds\n",
            "Early stopping, best iteration is:\n",
            "[42]\tTrain's binary_logloss: 0.023345\tValid's binary_logloss: 0.254543\n"
          ]
        },
        {
          "output_type": "stream",
          "name": "stderr",
          "text": [
            "min_data_in_leaf, val_score: 0.254543:  80%|########  | 4/5 [00:00<00:00, 16.66it/s]"
          ]
        },
        {
          "output_type": "stream",
          "name": "stdout",
          "text": [
            "Training until validation scores don't improve for 5 rounds\n",
            "Early stopping, best iteration is:\n",
            "[83]\tTrain's binary_logloss: 0.341051\tValid's binary_logloss: 0.558287\n",
            "Training until validation scores don't improve for 5 rounds\n",
            "Early stopping, best iteration is:\n",
            "[68]\tTrain's binary_logloss: 0.184517\tValid's binary_logloss: 0.455768\n",
            "Training until validation scores don't improve for 5 rounds\n",
            "Early stopping, best iteration is:\n",
            "[11]\tTrain's binary_logloss: 0.580516\tValid's binary_logloss: 0.670984\n",
            "Training until validation scores don't improve for 5 rounds\n"
          ]
        },
        {
          "output_type": "stream",
          "name": "stderr",
          "text": [
            "min_data_in_leaf, val_score: 0.254543: 100%|##########| 5/5 [00:00<00:00, 22.60it/s]"
          ]
        },
        {
          "output_type": "stream",
          "name": "stdout",
          "text": [
            "Early stopping, best iteration is:\n",
            "[49]\tTrain's binary_logloss: 0.0595243\tValid's binary_logloss: 0.367367\n",
            "{'verbose': -1, 'task': 'train', 'boosting_type': 'gbdt', 'objective': 'binary', 'metric': 'binary_logloss', 'learning_rate': 0.1, 'seed': 1991, 'deterministic': True, 'force_row_wise': True, 'feature_pre_filter': False, 'lambda_l1': 1.398718299871122e-07, 'lambda_l2': 2.625558621605346e-06, 'num_leaves': 31, 'feature_fraction': 0.5479999999999999, 'bagging_fraction': 1.0, 'bagging_freq': 0, 'min_child_samples': 5, 'num_iterations': 500}\n",
            "------------------\n",
            "AUC=0.921727395411606\n"
          ]
        },
        {
          "output_type": "stream",
          "name": "stderr",
          "text": [
            "\n"
          ]
        },
        {
          "output_type": "display_data",
          "data": {
            "text/plain": [
              "<Figure size 640x480 with 1 Axes>"
            ],
            "image/png": "[encoded data removed]"
          },
          "metadata": {}
        },
        {
          "output_type": "stream",
          "name": "stdout",
          "text": [
            "------------------\n",
            "    is_MIDAS_text  is_MIDAS_cross  is_MIDAS_image  is_submodel_OV50  \\\n",
            "0               0               0               0                 0   \n",
            "1               0               0               0                 0   \n",
            "2               0               0               0                 0   \n",
            "3               0               0               0                 0   \n",
            "4               0               0               1                 0   \n",
            "5               0               0               1                 0   \n",
            "6               0               0               1                 0   \n",
            "7               0               0               1                 0   \n",
            "8               0               1               0                 0   \n",
            "9               0               1               0                 0   \n",
            "10              0               1               0                 0   \n",
            "11              0               1               0                 0   \n",
            "12              1               0               0                 0   \n",
            "13              1               0               0                 0   \n",
            "14              1               0               0                 0   \n",
            "15              1               0               0                 0   \n",
            "\n",
            "    is_submodel_O50  is_submodel_O36  is_submodel_U72  is_submodel_U50  \\\n",
            "0                 0                0                0                0   \n",
            "1                 0                0                0                0   \n",
            "2                 0                0                0                0   \n",
            "3                 0                0                0                0   \n",
            "4                 0                0                0                0   \n",
            "5                 0                0                0                0   \n",
            "6                 0                0                0                0   \n",
            "7                 0                0                0                0   \n",
            "8                 0                0                0                0   \n",
            "9                 0                0                0                0   \n",
            "10                0                0                0                0   \n",
            "11                0                0                0                0   \n",
            "12                0                0                0                0   \n",
            "13                0                0                0                0   \n",
            "14                0                0                0                0   \n",
            "15                0                0                0                0   \n",
            "\n",
            "    is_submodel_U36  is_submodel_V45  is_submodel_V90  is_submodel_V135  \\\n",
            "0                 0                0                0                 0   \n",
            "1                 0                0                0                 1   \n",
            "2                 0                0                1                 0   \n",
            "3                 0                1                0                 0   \n",
            "4                 0                0                0                 0   \n",
            "5                 0                0                0                 1   \n",
            "6                 0                0                1                 0   \n",
            "7                 0                1                0                 0   \n",
            "8                 0                0                0                 0   \n",
            "9                 0                0                0                 1   \n",
            "10                0                0                1                 0   \n",
            "11                0                1                0                 0   \n",
            "12                0                0                0                 0   \n",
            "13                0                0                0                 1   \n",
            "14                0                0                1                 0   \n",
            "15                0                1                0                 0   \n",
            "\n",
            "    feature  \n",
            "0         6  \n",
            "1         2  \n",
            "2         2  \n",
            "3         2  \n",
            "4         4  \n",
            "5         1  \n",
            "6         1  \n",
            "7         1  \n",
            "8         4  \n",
            "9         1  \n",
            "10        1  \n",
            "11        1  \n",
            "12        4  \n",
            "13        1  \n",
            "14        1  \n",
            "15        1  \n",
            "------------------\n",
            "    is_MIDAS_text  is_MIDAS_cross  is_MIDAS_image  is_submodel_OV50  \\\n",
            "0               0               0               0                 0   \n",
            "1               0               0               0                 0   \n",
            "2               0               0               0                 0   \n",
            "3               0               0               0                 0   \n",
            "4               0               0               1                 0   \n",
            "5               0               0               1                 0   \n",
            "6               0               0               1                 0   \n",
            "7               0               0               1                 0   \n",
            "8               0               1               0                 0   \n",
            "9               0               1               0                 0   \n",
            "10              0               1               0                 0   \n",
            "11              0               1               0                 0   \n",
            "12              1               0               0                 0   \n",
            "13              1               0               0                 0   \n",
            "14              1               0               0                 0   \n",
            "15              1               0               0                 0   \n",
            "\n",
            "    is_submodel_O50  is_submodel_O36  is_submodel_U72  is_submodel_U50  \\\n",
            "0                 0                0                0                0   \n",
            "1                 0                0                0                0   \n",
            "2                 0                0                0                0   \n",
            "3                 0                0                0                0   \n",
            "4                 0                0                0                0   \n",
            "5                 0                0                0                0   \n",
            "6                 0                0                0                0   \n",
            "7                 0                0                0                0   \n",
            "8                 0                0                0                0   \n",
            "9                 0                0                0                0   \n",
            "10                0                0                0                0   \n",
            "11                0                0                0                0   \n",
            "12                0                0                0                0   \n",
            "13                0                0                0                0   \n",
            "14                0                0                0                0   \n",
            "15                0                0                0                0   \n",
            "\n",
            "    is_submodel_U36  is_submodel_V45  is_submodel_V90  is_submodel_V135  \\\n",
            "0                 0                0                0                 0   \n",
            "1                 0                0                0                 1   \n",
            "2                 0                0                1                 0   \n",
            "3                 0                1                0                 0   \n",
            "4                 0                0                0                 0   \n",
            "5                 0                0                0                 1   \n",
            "6                 0                0                1                 0   \n",
            "7                 0                1                0                 0   \n",
            "8                 0                0                0                 0   \n",
            "9                 0                0                0                 1   \n",
            "10                0                0                1                 0   \n",
            "11                0                1                0                 0   \n",
            "12                0                0                0                 0   \n",
            "13                0                0                0                 1   \n",
            "14                0                0                1                 0   \n",
            "15                0                1                0                 0   \n",
            "\n",
            "    importance  \n",
            "0          333  \n",
            "1           14  \n",
            "2           17  \n",
            "3           21  \n",
            "4          208  \n",
            "5            6  \n",
            "6            6  \n",
            "7           22  \n",
            "8          254  \n",
            "9            5  \n",
            "10          12  \n",
            "11          15  \n",
            "12         275  \n",
            "13          13  \n",
            "14          15  \n",
            "15           8  \n",
            "==================\n"
          ]
        }
      ]
    },
    {
      "cell_type": "code",
      "source": [
        "print(aucs2)"
      ],
      "metadata": {
        "colab": {
          "base_uri": "https://localhost:8080/"
        },
        "id": "rZmLNN9u0wBK",
        "outputId": "e57319a4-aadc-47a4-afbc-745943a076c6"
      },
      "execution_count": null,
      "outputs": [
        {
          "output_type": "stream",
          "name": "stdout",
          "text": [
            "{'O': 0.6140625000000001, 'U': 0.7620079451065366, 'V': 0.921727395411606}\n"
          ]
        }
      ]
    },
    {
      "cell_type": "markdown",
      "source": [
        "## export"
      ],
      "metadata": {
        "id": "cJpnFyXrLqxT"
      }
    },
    {
      "cell_type": "code",
      "source": [
        "dfs = lgb_results2df()\n",
        "print(dfs.keys())\n",
        "for ky in dfs.keys():\n",
        "    print(ky)\n",
        "    print(dfs[ky].shape)"
      ],
      "metadata": {
        "id": "5_g2Jk2JLr-P",
        "colab": {
          "base_uri": "https://localhost:8080/"
        },
        "outputId": "467303fd-8f21-4ace-bacb-7d2db47dea21"
      },
      "execution_count": null,
      "outputs": [
        {
          "output_type": "stream",
          "name": "stdout",
          "text": [
            "dict_keys(['_indv_optuna_occurrences_', '_indv_optuna_nunique_'])\n",
            "_indv_optuna_occurrences_\n",
            "(189, 15)\n",
            "_indv_optuna_nunique_\n",
            "(189, 15)\n"
          ]
        }
      ]
    },
    {
      "cell_type": "code",
      "source": [
        "key_cols = dfs[\"_indv_optuna_occurrences_\"].drop(\"importance\", axis=1).columns.tolist()\n",
        "df_merged = dfs[\"_indv_optuna_nunique_\"].merge(dfs[\"_indv_optuna_occurrences_\"].set_index(key_cols), left_on=key_cols, right_index=True)\n",
        "df_merged.head()"
      ],
      "metadata": {
        "colab": {
          "base_uri": "https://localhost:8080/",
          "height": 226
        },
        "id": "GqZKVoZcEBzN",
        "outputId": "30c20bdc-83bd-46d6-9af9-976e8a0b083f"
      },
      "execution_count": null,
      "outputs": [
        {
          "output_type": "execute_result",
          "data": {
            "text/plain": [
              "  model_type  seed  is_MIDAS_text  is_MIDAS_cross  is_MIDAS_image  \\\n",
              "0          O  1987              0               0               0   \n",
              "1          O  1987              0               0               0   \n",
              "2          O  1987              0               0               0   \n",
              "3          O  1987              0               0               1   \n",
              "4          O  1987              0               0               1   \n",
              "\n",
              "   is_submodel_OV50  is_submodel_O50  is_submodel_O36  is_submodel_U72  \\\n",
              "0                 0                0                0                0   \n",
              "1                 0                0                1                0   \n",
              "2                 1                0                0                0   \n",
              "3                 0                0                0                0   \n",
              "4                 0                0                1                0   \n",
              "\n",
              "   is_submodel_U50  is_submodel_U36  is_submodel_V45  is_submodel_V90  \\\n",
              "0                0                0                0                0   \n",
              "1                0                0                0                0   \n",
              "2                0                0                0                0   \n",
              "3                0                0                0                0   \n",
              "4                0                0                0                0   \n",
              "\n",
              "   is_submodel_V135  feature  importance  \n",
              "0                 0        4          12  \n",
              "1                 0        1           1  \n",
              "2                 0        1           3  \n",
              "3                 0        4           7  \n",
              "4                 0        1           2  "
            ],
            "text/html": [
              "\n",
              "  <div id=\"df-29dca839-2e38-4c39-8ccb-0f3530202a81\" class=\"colab-df-container\">\n",
              "    <div>\n",
              "<style scoped>\n",
              "    .dataframe tbody tr th:only-of-type {\n",
              "        vertical-align: middle;\n",
              "    }\n",
              "\n",
              "    .dataframe tbody tr th {\n",
              "        vertical-align: top;\n",
              "    }\n",
              "\n",
              "    .dataframe thead th {\n",
              "        text-align: right;\n",
              "    }\n",
              "</style>\n",
              "<table border=\"1\" class=\"dataframe\">\n",
              "  <thead>\n",
              "    <tr style=\"text-align: right;\">\n",
              "      <th></th>\n",
              "      <th>model_type</th>\n",
              "      <th>seed</th>\n",
              "      <th>is_MIDAS_text</th>\n",
              "      <th>is_MIDAS_cross</th>\n",
              "      <th>is_MIDAS_image</th>\n",
              "      <th>is_submodel_OV50</th>\n",
              "      <th>is_submodel_O50</th>\n",
              "      <th>is_submodel_O36</th>\n",
              "      <th>is_submodel_U72</th>\n",
              "      <th>is_submodel_U50</th>\n",
              "      <th>is_submodel_U36</th>\n",
              "      <th>is_submodel_V45</th>\n",
              "      <th>is_submodel_V90</th>\n",
              "      <th>is_submodel_V135</th>\n",
              "      <th>feature</th>\n",
              "      <th>importance</th>\n",
              "    </tr>\n",
              "  </thead>\n",
              "  <tbody>\n",
              "    <tr>\n",
              "      <th>0</th>\n",
              "      <td>O</td>\n",
              "      <td>1987</td>\n",
              "      <td>0</td>\n",
              "      <td>0</td>\n",
              "      <td>0</td>\n",
              "      <td>0</td>\n",
              "      <td>0</td>\n",
              "      <td>0</td>\n",
              "      <td>0</td>\n",
              "      <td>0</td>\n",
              "      <td>0</td>\n",
              "      <td>0</td>\n",
              "      <td>0</td>\n",
              "      <td>0</td>\n",
              "      <td>4</td>\n",
              "      <td>12</td>\n",
              "    </tr>\n",
              "    <tr>\n",
              "      <th>1</th>\n",
              "      <td>O</td>\n",
              "      <td>1987</td>\n",
              "      <td>0</td>\n",
              "      <td>0</td>\n",
              "      <td>0</td>\n",
              "      <td>0</td>\n",
              "      <td>0</td>\n",
              "      <td>1</td>\n",
              "      <td>0</td>\n",
              "      <td>0</td>\n",
              "      <td>0</td>\n",
              "      <td>0</td>\n",
              "      <td>0</td>\n",
              "      <td>0</td>\n",
              "      <td>1</td>\n",
              "      <td>1</td>\n",
              "    </tr>\n",
              "    <tr>\n",
              "      <th>2</th>\n",
              "      <td>O</td>\n",
              "      <td>1987</td>\n",
              "      <td>0</td>\n",
              "      <td>0</td>\n",
              "      <td>0</td>\n",
              "      <td>1</td>\n",
              "      <td>0</td>\n",
              "      <td>0</td>\n",
              "      <td>0</td>\n",
              "      <td>0</td>\n",
              "      <td>0</td>\n",
              "      <td>0</td>\n",
              "      <td>0</td>\n",
              "      <td>0</td>\n",
              "      <td>1</td>\n",
              "      <td>3</td>\n",
              "    </tr>\n",
              "    <tr>\n",
              "      <th>3</th>\n",
              "      <td>O</td>\n",
              "      <td>1987</td>\n",
              "      <td>0</td>\n",
              "      <td>0</td>\n",
              "      <td>1</td>\n",
              "      <td>0</td>\n",
              "      <td>0</td>\n",
              "      <td>0</td>\n",
              "      <td>0</td>\n",
              "      <td>0</td>\n",
              "      <td>0</td>\n",
              "      <td>0</td>\n",
              "      <td>0</td>\n",
              "      <td>0</td>\n",
              "      <td>4</td>\n",
              "      <td>7</td>\n",
              "    </tr>\n",
              "    <tr>\n",
              "      <th>4</th>\n",
              "      <td>O</td>\n",
              "      <td>1987</td>\n",
              "      <td>0</td>\n",
              "      <td>0</td>\n",
              "      <td>1</td>\n",
              "      <td>0</td>\n",
              "      <td>0</td>\n",
              "      <td>1</td>\n",
              "      <td>0</td>\n",
              "      <td>0</td>\n",
              "      <td>0</td>\n",
              "      <td>0</td>\n",
              "      <td>0</td>\n",
              "      <td>0</td>\n",
              "      <td>1</td>\n",
              "      <td>2</td>\n",
              "    </tr>\n",
              "  </tbody>\n",
              "</table>\n",
              "</div>\n",
              "    <div class=\"colab-df-buttons\">\n",
              "\n",
              "  <div class=\"colab-df-container\">\n",
              "    <button class=\"colab-df-convert\" onclick=\"convertToInteractive('df-29dca839-2e38-4c39-8ccb-0f3530202a81')\"\n",
              "            title=\"Convert this dataframe to an interactive table.\"\n",
              "            style=\"display:none;\">\n",
              "\n",
              "  <svg xmlns=\"http://www.w3.org/2000/svg\" height=\"24px\" viewBox=\"0 -960 960 960\">\n",
              "    <path d=\"M120-120v-720h720v720H120Zm60-500h600v-160H180v160Zm220 220h160v-160H400v160Zm0 220h160v-160H400v160ZM180-400h160v-160H180v160Zm440 0h160v-160H620v160ZM180-180h160v-160H180v160Zm440 0h160v-160H620v160Z\"/>\n",
              "  </svg>\n",
              "    </button>\n",
              "\n",
              "  <style>\n",
              "    .colab-df-container {\n",
              "      display:flex;\n",
              "      gap: 12px;\n",
              "    }\n",
              "\n",
              "    .colab-df-convert {\n",
              "      background-color: #E8F0FE;\n",
              "      border: none;\n",
              "      border-radius: 50%;\n",
              "      cursor: pointer;\n",
              "      display: none;\n",
              "      fill: #1967D2;\n",
              "      height: 32px;\n",
              "      padding: 0 0 0 0;\n",
              "      width: 32px;\n",
              "    }\n",
              "\n",
              "    .colab-df-convert:hover {\n",
              "      background-color: #E2EBFA;\n",
              "      box-shadow: 0px 1px 2px rgba(60, 64, 67, 0.3), 0px 1px 3px 1px rgba(60, 64, 67, 0.15);\n",
              "      fill: #174EA6;\n",
              "    }\n",
              "\n",
              "    .colab-df-buttons div {\n",
              "      margin-bottom: 4px;\n",
              "    }\n",
              "\n",
              "    [theme=dark] .colab-df-convert {\n",
              "      background-color: #3B4455;\n",
              "      fill: #D2E3FC;\n",
              "    }\n",
              "\n",
              "    [theme=dark] .colab-df-convert:hover {\n",
              "      background-color: #434B5C;\n",
              "      box-shadow: 0px 1px 3px 1px rgba(0, 0, 0, 0.15);\n",
              "      filter: drop-shadow(0px 1px 2px rgba(0, 0, 0, 0.3));\n",
              "      fill: #FFFFFF;\n",
              "    }\n",
              "  </style>\n",
              "\n",
              "    <script>\n",
              "      const buttonEl =\n",
              "        document.querySelector('#df-29dca839-2e38-4c39-8ccb-0f3530202a81 button.colab-df-convert');\n",
              "      buttonEl.style.display =\n",
              "        google.colab.kernel.accessAllowed ? 'block' : 'none';\n",
              "\n",
              "      async function convertToInteractive(key) {\n",
              "        const element = document.querySelector('#df-29dca839-2e38-4c39-8ccb-0f3530202a81');\n",
              "        const dataTable =\n",
              "          await google.colab.kernel.invokeFunction('convertToInteractive',\n",
              "                                                    [key], {});\n",
              "        if (!dataTable) return;\n",
              "\n",
              "        const docLinkHtml = 'Like what you see? Visit the ' +\n",
              "          '<a target=\"_blank\" href=https://colab.research.google.com/notebooks/data_table.ipynb>data table notebook</a>'\n",
              "          + ' to learn more about interactive tables.';\n",
              "        element.innerHTML = '';\n",
              "        dataTable['output_type'] = 'display_data';\n",
              "        await google.colab.output.renderOutput(dataTable, element);\n",
              "        const docLink = document.createElement('div');\n",
              "        docLink.innerHTML = docLinkHtml;\n",
              "        element.appendChild(docLink);\n",
              "      }\n",
              "    </script>\n",
              "  </div>\n",
              "\n",
              "\n",
              "<div id=\"df-33a0ee0c-429d-413a-bc1a-ab6e29c20e62\">\n",
              "  <button class=\"colab-df-quickchart\" onclick=\"quickchart('df-33a0ee0c-429d-413a-bc1a-ab6e29c20e62')\"\n",
              "            title=\"Suggest charts.\"\n",
              "            style=\"display:none;\">\n",
              "\n",
              "<svg xmlns=\"http://www.w3.org/2000/svg\" height=\"24px\"viewBox=\"0 0 24 24\"\n",
              "     width=\"24px\">\n",
              "    <g>\n",
              "        <path d=\"M19 3H5c-1.1 0-2 .9-2 2v14c0 1.1.9 2 2 2h14c1.1 0 2-.9 2-2V5c0-1.1-.9-2-2-2zM9 17H7v-7h2v7zm4 0h-2V7h2v10zm4 0h-2v-4h2v4z\"/>\n",
              "    </g>\n",
              "</svg>\n",
              "  </button>\n",
              "\n",
              "<style>\n",
              "  .colab-df-quickchart {\n",
              "      --bg-color: #E8F0FE;\n",
              "      --fill-color: #1967D2;\n",
              "      --hover-bg-color: #E2EBFA;\n",
              "      --hover-fill-color: #174EA6;\n",
              "      --disabled-fill-color: #AAA;\n",
              "      --disabled-bg-color: #DDD;\n",
              "  }\n",
              "\n",
              "  [theme=dark] .colab-df-quickchart {\n",
              "      --bg-color: #3B4455;\n",
              "      --fill-color: #D2E3FC;\n",
              "      --hover-bg-color: #434B5C;\n",
              "      --hover-fill-color: #FFFFFF;\n",
              "      --disabled-bg-color: #3B4455;\n",
              "      --disabled-fill-color: #666;\n",
              "  }\n",
              "\n",
              "  .colab-df-quickchart {\n",
              "    background-color: var(--bg-color);\n",
              "    border: none;\n",
              "    border-radius: 50%;\n",
              "    cursor: pointer;\n",
              "    display: none;\n",
              "    fill: var(--fill-color);\n",
              "    height: 32px;\n",
              "    padding: 0;\n",
              "    width: 32px;\n",
              "  }\n",
              "\n",
              "  .colab-df-quickchart:hover {\n",
              "    background-color: var(--hover-bg-color);\n",
              "    box-shadow: 0 1px 2px rgba(60, 64, 67, 0.3), 0 1px 3px 1px rgba(60, 64, 67, 0.15);\n",
              "    fill: var(--button-hover-fill-color);\n",
              "  }\n",
              "\n",
              "  .colab-df-quickchart-complete:disabled,\n",
              "  .colab-df-quickchart-complete:disabled:hover {\n",
              "    background-color: var(--disabled-bg-color);\n",
              "    fill: var(--disabled-fill-color);\n",
              "    box-shadow: none;\n",
              "  }\n",
              "\n",
              "  .colab-df-spinner {\n",
              "    border: 2px solid var(--fill-color);\n",
              "    border-color: transparent;\n",
              "    border-bottom-color: var(--fill-color);\n",
              "    animation:\n",
              "      spin 1s steps(1) infinite;\n",
              "  }\n",
              "\n",
              "  @keyframes spin {\n",
              "    0% {\n",
              "      border-color: transparent;\n",
              "      border-bottom-color: var(--fill-color);\n",
              "      border-left-color: var(--fill-color);\n",
              "    }\n",
              "    20% {\n",
              "      border-color: transparent;\n",
              "      border-left-color: var(--fill-color);\n",
              "      border-top-color: var(--fill-color);\n",
              "    }\n",
              "    30% {\n",
              "      border-color: transparent;\n",
              "      border-left-color: var(--fill-color);\n",
              "      border-top-color: var(--fill-color);\n",
              "      border-right-color: var(--fill-color);\n",
              "    }\n",
              "    40% {\n",
              "      border-color: transparent;\n",
              "      border-right-color: var(--fill-color);\n",
              "      border-top-color: var(--fill-color);\n",
              "    }\n",
              "    60% {\n",
              "      border-color: transparent;\n",
              "      border-right-color: var(--fill-color);\n",
              "    }\n",
              "    80% {\n",
              "      border-color: transparent;\n",
              "      border-right-color: var(--fill-color);\n",
              "      border-bottom-color: var(--fill-color);\n",
              "    }\n",
              "    90% {\n",
              "      border-color: transparent;\n",
              "      border-bottom-color: var(--fill-color);\n",
              "    }\n",
              "  }\n",
              "</style>\n",
              "\n",
              "  <script>\n",
              "    async function quickchart(key) {\n",
              "      const quickchartButtonEl =\n",
              "        document.querySelector('#' + key + ' button');\n",
              "      quickchartButtonEl.disabled = true;  // To prevent multiple clicks.\n",
              "      quickchartButtonEl.classList.add('colab-df-spinner');\n",
              "      try {\n",
              "        const charts = await google.colab.kernel.invokeFunction(\n",
              "            'suggestCharts', [key], {});\n",
              "      } catch (error) {\n",
              "        console.error('Error during call to suggestCharts:', error);\n",
              "      }\n",
              "      quickchartButtonEl.classList.remove('colab-df-spinner');\n",
              "      quickchartButtonEl.classList.add('colab-df-quickchart-complete');\n",
              "    }\n",
              "    (() => {\n",
              "      let quickchartButtonEl =\n",
              "        document.querySelector('#df-33a0ee0c-429d-413a-bc1a-ab6e29c20e62 button');\n",
              "      quickchartButtonEl.style.display =\n",
              "        google.colab.kernel.accessAllowed ? 'block' : 'none';\n",
              "    })();\n",
              "  </script>\n",
              "</div>\n",
              "    </div>\n",
              "  </div>\n"
            ]
          },
          "metadata": {},
          "execution_count": 445
        }
      ]
    },
    {
      "cell_type": "code",
      "source": [
        "df_merged.to_csv(f\"{DRIVE_DIR}/{VILIO_DIR}/{EXPORT_DIR}/indv_optuna_merged.csv\", index=False)"
      ],
      "metadata": {
        "id": "chzOmXEhEBmQ"
      },
      "execution_count": null,
      "outputs": []
    }
  ]
}